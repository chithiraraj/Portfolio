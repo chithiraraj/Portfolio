{
  "nbformat": 4,
  "nbformat_minor": 0,
  "metadata": {
    "colab": {
      "provenance": []
    },
    "kernelspec": {
      "name": "python3",
      "display_name": "Python 3"
    },
    "language_info": {
      "name": "python"
    }
  },
  "cells": [
    {
      "cell_type": "markdown",
      "source": [
        "# Problem 1"
      ],
      "metadata": {
        "id": "9KryZU4ctbIl"
      }
    },
    {
      "cell_type": "markdown",
      "source": [
        "##Objective"
      ],
      "metadata": {
        "id": "FWzdra39tgND"
      }
    },
    {
      "cell_type": "markdown",
      "source": [
        "A physiotherapist with a male football team is interested in studying the relationship between foot injuries and the positions at which the players play from the data collected."
      ],
      "metadata": {
        "id": "KEjFTrjVugPJ"
      }
    },
    {
      "cell_type": "markdown",
      "source": [
        "![Screenshot (19).png](data:image/png;base64,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)"
      ],
      "metadata": {
        "id": "1ahpcgbZuykd"
      }
    },
    {
      "cell_type": "code",
      "execution_count": 2,
      "metadata": {
        "id": "akChvB1ulAqq"
      },
      "outputs": [],
      "source": [
        "# Libraries to help with reading and manipulating data\n",
        "import numpy as np\n",
        "import pandas as pd\n",
        "\n",
        "# Libraries to help with data visualization\n",
        "import matplotlib.pyplot as plt\n",
        "import seaborn as sns\n",
        "import scipy.stats as stats\n",
        "\n",
        "\n",
        "# to restrict the float value to 3 decimal places\n",
        "pd.set_option('display.float_format', lambda x: '%.3f' % x)"
      ]
    },
    {
      "cell_type": "code",
      "source": [
        "total_players = 235\n",
        "total_injured_players = 145\n",
        "total_forwards = 94\n",
        "total_wingers = 29\n",
        "striker_injured = 45"
      ],
      "metadata": {
        "id": "5kPo8Si5W6R4"
      },
      "execution_count": null,
      "outputs": []
    },
    {
      "cell_type": "markdown",
      "source": [
        "### Question 1.1 What is the probability that a randomly chosen player would suffer an injury?"
      ],
      "metadata": {
        "id": "1NeQRN3-xdTn"
      }
    },
    {
      "cell_type": "code",
      "source": [
        "prob_injury = total_injured_players / total_players\n",
        "print(f\"Probability of injury: {prob_injury:.3f}\")"
      ],
      "metadata": {
        "id": "i-ifD8GslqtK",
        "colab": {
          "base_uri": "https://localhost:8080/"
        },
        "outputId": "9e426e1a-3de3-4327-b178-f3f1150f832d"
      },
      "execution_count": null,
      "outputs": [
        {
          "output_type": "stream",
          "name": "stdout",
          "text": [
            "Probability of injury: 0.617\n"
          ]
        }
      ]
    },
    {
      "cell_type": "markdown",
      "source": [
        "###Question 1.2 What is the probability that a player is a forward or a winger?"
      ],
      "metadata": {
        "id": "XQcJ6ysfIzvn"
      }
    },
    {
      "cell_type": "code",
      "source": [
        "prob_forward_or_winger = (total_forwards + total_wingers) / total_players\n",
        "print(f\"Probability of being a forward or a winger: {prob_forward_or_winger:.3f}\")"
      ],
      "metadata": {
        "id": "ptKs52ox9ns9",
        "colab": {
          "base_uri": "https://localhost:8080/"
        },
        "outputId": "a7590801-ede6-4daa-9d7a-89ae99bba7ac"
      },
      "execution_count": null,
      "outputs": [
        {
          "output_type": "stream",
          "name": "stdout",
          "text": [
            "Probability of being a forward or a winger: 0.523\n"
          ]
        }
      ]
    },
    {
      "cell_type": "markdown",
      "source": [
        "### Question 1.3 What is the probability that a randomly chosen player plays in a striker position and has a foot injury?"
      ],
      "metadata": {
        "id": "Mjf9dryIJuu7"
      }
    },
    {
      "cell_type": "code",
      "source": [
        "prob_striker_and_injured = striker_injured / total_players\n",
        "print(f\"Probability of being a striker and injured: {prob_striker_and_injured:.3f}\")"
      ],
      "metadata": {
        "id": "AxC4tD98JFuW",
        "colab": {
          "base_uri": "https://localhost:8080/"
        },
        "outputId": "d3556ee5-5cea-4236-fb60-2d6297af5214"
      },
      "execution_count": null,
      "outputs": [
        {
          "output_type": "stream",
          "name": "stdout",
          "text": [
            "Probability of being a striker and injured: 0.191\n"
          ]
        }
      ]
    },
    {
      "cell_type": "markdown",
      "source": [
        "###Question 1.4 What is the probability that a randomly chosen injured player is a striker?"
      ],
      "metadata": {
        "id": "6JU4uwZMK5e0"
      }
    },
    {
      "cell_type": "code",
      "source": [
        "prob_striker_given_injury = striker_injured / total_injured_players\n",
        "print(f\"Probability of being an injured striker: {prob_striker_given_injury:.3f}\")"
      ],
      "metadata": {
        "colab": {
          "base_uri": "https://localhost:8080/"
        },
        "id": "SVxcc4DPJ-ie",
        "outputId": "9f940a01-a1e3-44b0-a80c-b3eba301fbc2"
      },
      "execution_count": null,
      "outputs": [
        {
          "output_type": "stream",
          "name": "stdout",
          "text": [
            "Probability of being an injured striker: 0.310\n"
          ]
        }
      ]
    },
    {
      "cell_type": "markdown",
      "source": [
        "# Problem 2"
      ],
      "metadata": {
        "id": "5dO-uefJO-Eg"
      }
    },
    {
      "cell_type": "markdown",
      "source": [
        "## Objective"
      ],
      "metadata": {
        "id": "FOPRa4shO-ID"
      }
    },
    {
      "cell_type": "markdown",
      "source": [
        "The breaking strength of gunny bags used for packaging cement is normally distributed with a mean of 5 kg per sq. centimeter and a standard deviation of 1.5 kg per sq. centimeter. The quality team of the cement company wants to know the following about the packaging material to better understand wastage or pilferage within the supply chain"
      ],
      "metadata": {
        "id": "RPlSpyMJETbY"
      }
    },
    {
      "cell_type": "markdown",
      "source": [
        "###Question 2.1 What proportion of the gunny bags have a breaking strength of less than 3.17 kg per sq cm?"
      ],
      "metadata": {
        "id": "ejOe25v6EYMQ"
      }
    },
    {
      "cell_type": "code",
      "source": [
        "mean = 5\n",
        "std_dev = 1.5"
      ],
      "metadata": {
        "id": "FC8rhlGzE8fk"
      },
      "execution_count": null,
      "outputs": []
    },
    {
      "cell_type": "code",
      "source": [
        "prob_less_than_3_17 = stats.norm.cdf(3.17, mean, std_dev)\n",
        "prob_less_than_3_17"
      ],
      "metadata": {
        "colab": {
          "base_uri": "https://localhost:8080/"
        },
        "id": "tgb5gIIcE8rh",
        "outputId": "53abcef2-fc18-4b0d-90b5-ebcf8e48e30e"
      },
      "execution_count": null,
      "outputs": [
        {
          "output_type": "execute_result",
          "data": {
            "text/plain": [
              "0.11123243744783456"
            ]
          },
          "metadata": {},
          "execution_count": 91
        }
      ]
    },
    {
      "cell_type": "code",
      "source": [
        "print(\"Proportion of bags with breaking strength less than 3.17 kg per sq cm:\", prob_less_than_3_17)"
      ],
      "metadata": {
        "colab": {
          "base_uri": "https://localhost:8080/"
        },
        "id": "SkE6zhLPdX07",
        "outputId": "9adc1872-f8d7-40d6-c63e-b7b0d6e42f3f"
      },
      "execution_count": null,
      "outputs": [
        {
          "output_type": "stream",
          "name": "stdout",
          "text": [
            "Proportion of bags with breaking strength less than 3.17 kg per sq cm: 0.11123243744783456\n"
          ]
        }
      ]
    },
    {
      "cell_type": "code",
      "source": [
        "x = np.linspace(mean - 4 * std_dev, mean + 4 * std_dev, 1000)\n",
        "y = stats.norm.pdf(x, mean, std_dev)"
      ],
      "metadata": {
        "id": "cxa9Ur-ITsqT"
      },
      "execution_count": null,
      "outputs": []
    },
    {
      "cell_type": "code",
      "source": [
        "plt.plot(x, y) # plot the pdf of the normal distribution\n",
        "plt.axvline(x=3.17, c=\"r\") # draw a red vertical line at x = 3.17\n",
        "x1 = np.linspace(x.min(), 3.17, 50)\n",
        "plt.fill_between(x1, stats.norm.pdf(x1, mean, std_dev), color=\"r\") # fill the specified region with red color\n",
        "plt.xlabel('Breaking Strength (kg per sq cm)')# set the x-axis label\n",
        "plt.ylabel(\"Probability\") # set the y-axis label\n",
        "# plt.text(2, 0.2, f\"Proportion: {prob_less_than_3_17:.2f}\", fontsize=12, color='red')\n",
        "\n",
        "plt.title(\"Normal Distribution\") # set the title\n",
        "plt.show() # display the plot"
      ],
      "metadata": {
        "colab": {
          "base_uri": "https://localhost:8080/",
          "height": 472
        },
        "id": "McEsrMllYS_T",
        "outputId": "223450fc-1992-46d7-c10e-4fc30cc39012"
      },
      "execution_count": null,
      "outputs": [
        {
          "output_type": "display_data",
          "data": {
            "text/plain": [
              "<Figure size 640x480 with 1 Axes>"
            ],
            "image/png": "[encoded data removed]"
          },
          "metadata": {}
        }
      ]
    },
    {
      "cell_type": "markdown",
      "source": [
        "###Question 2.2 What proportion of the gunny bags have a breaking strength of at least 3.6 kg per sq cm.?"
      ],
      "metadata": {
        "id": "Sjkq_k9YFHJj"
      }
    },
    {
      "cell_type": "code",
      "source": [
        "prob_at_least_3_6 = 1 - stats.norm.cdf(3.6, mean, std_dev)\n",
        "prob_at_least_3_6"
      ],
      "metadata": {
        "colab": {
          "base_uri": "https://localhost:8080/"
        },
        "id": "LsD6S4BOFEOD",
        "outputId": "e3cbe347-2c30-4641-807f-9772bb956118"
      },
      "execution_count": null,
      "outputs": [
        {
          "output_type": "execute_result",
          "data": {
            "text/plain": [
              "0.8246760551477705"
            ]
          },
          "metadata": {},
          "execution_count": 95
        }
      ]
    },
    {
      "cell_type": "code",
      "source": [
        "print(\"Proportion of bags with breaking strength at least 3.6 kg per sq cm:\", prob_at_least_3_6)"
      ],
      "metadata": {
        "colab": {
          "base_uri": "https://localhost:8080/"
        },
        "id": "_L2xI33heBlH",
        "outputId": "e497864e-6ee9-4d5a-d5c3-7369767c9305"
      },
      "execution_count": null,
      "outputs": [
        {
          "output_type": "stream",
          "name": "stdout",
          "text": [
            "Proportion of bags with breaking strength at least 3.6 kg per sq cm: 0.8246760551477705\n"
          ]
        }
      ]
    },
    {
      "cell_type": "code",
      "source": [
        "plt.plot(x, y) # plot the pdf of the normal distribution\n",
        "plt.axvline(x=3.6, c=\"r\") # draw a red vertical line at x = 3.6\n",
        "x1 = np.linspace(3.6, x.max(), 50)\n",
        "plt.fill_between(x1, stats.norm.pdf(x1, mean, std_dev), color=\"r\") # fill the specified region with red color\n",
        "plt.xlabel('Breaking Strength (kg per sq cm)')# set the x-axis label\n",
        "plt.ylabel(\"Probability\") # set the y-axis label\n",
        "\n",
        "plt.title(\"Normal Distribution\") # set the title\n",
        "plt.show() # display the plot"
      ],
      "metadata": {
        "colab": {
          "base_uri": "https://localhost:8080/",
          "height": 472
        },
        "id": "NAjRY80Na8rU",
        "outputId": "43a6f2e1-b6e5-43b3-aab6-f77040d72795"
      },
      "execution_count": null,
      "outputs": [
        {
          "output_type": "display_data",
          "data": {
            "text/plain": [
              "<Figure size 640x480 with 1 Axes>"
            ],
            "image/png": "[encoded data removed]"
          },
          "metadata": {}
        }
      ]
    },
    {
      "cell_type": "markdown",
      "source": [
        "###Question 2.3 What proportion of the gunny bags have a breaking strength between 5 and 5.5 kg per sq cm.?"
      ],
      "metadata": {
        "id": "GXrqwP0dFpSs"
      }
    },
    {
      "cell_type": "code",
      "source": [
        "prob_between_5_and_5_5 = stats.norm.cdf(5.5, mean, std_dev) - stats.norm.cdf(5, mean, std_dev)\n",
        "prob_between_5_and_5_5"
      ],
      "metadata": {
        "colab": {
          "base_uri": "https://localhost:8080/"
        },
        "id": "7qRnpNegF4vV",
        "outputId": "a76e3575-a6eb-4a5c-a89d-d78046f01553"
      },
      "execution_count": null,
      "outputs": [
        {
          "output_type": "execute_result",
          "data": {
            "text/plain": [
              "0.13055865981823633"
            ]
          },
          "metadata": {},
          "execution_count": 98
        }
      ]
    },
    {
      "cell_type": "code",
      "source": [
        "print(\"Proportion of bags with breaking strength between 5 and 5.5 kg per sq cm:\", prob_between_5_and_5_5)\n"
      ],
      "metadata": {
        "colab": {
          "base_uri": "https://localhost:8080/"
        },
        "id": "RNI03gjDeF_C",
        "outputId": "2eaf52f2-2681-4b5d-ebf3-964ecf7a1676"
      },
      "execution_count": null,
      "outputs": [
        {
          "output_type": "stream",
          "name": "stdout",
          "text": [
            "Proportion of bags with breaking strength between 5 and 5.5 kg per sq cm: 0.13055865981823633\n"
          ]
        }
      ]
    },
    {
      "cell_type": "code",
      "source": [
        "plt.plot(x, y) # plot the pdf of the normal distribution\n",
        "plt.axvline(x=5, c=\"r\") # draw a red vertical line at x = 5\n",
        "plt.axvline(x=5.5, c=\"r\") # draw a red vertical line at x = 5.5\n",
        "\n",
        "\n",
        "x1 = np.linspace(5, 5.5, 50)\n",
        "plt.fill_between(x1, stats.norm.pdf(x1, mean, std_dev), color=\"r\") # fill the specified region with red color\n",
        "plt.xlabel('Breaking Strength (kg per sq cm)')# set the x-axis label\n",
        "plt.ylabel(\"Probability\") # set the y-axis label\n",
        "\n",
        "plt.title(\"Normal Distribution\") # set the title\n",
        "plt.show() # display the plot"
      ],
      "metadata": {
        "colab": {
          "base_uri": "https://localhost:8080/",
          "height": 472
        },
        "id": "tGjxT2xKePJ4",
        "outputId": "00e8b9fa-1231-4d52-c7c4-fd96f8b7defb"
      },
      "execution_count": null,
      "outputs": [
        {
          "output_type": "display_data",
          "data": {
            "text/plain": [
              "<Figure size 640x480 with 1 Axes>"
            ],
            "image/png": "[encoded data removed]"
          },
          "metadata": {}
        }
      ]
    },
    {
      "cell_type": "markdown",
      "source": [
        "###Question 2.4 What proportion of the gunny bags have a breaking strength NOT between 3 and 7.5 kg per sq cm.?"
      ],
      "metadata": {
        "id": "rdKG_Kl3GCbX"
      }
    },
    {
      "cell_type": "code",
      "source": [
        "prob_not_between_3_and_7_5 = 1 - (stats.norm.cdf(7.5, mean, std_dev) - stats.norm.cdf(3, mean, std_dev))\n",
        "prob_not_between_3_and_7_5"
      ],
      "metadata": {
        "colab": {
          "base_uri": "https://localhost:8080/"
        },
        "id": "tKu4RnFuGJAm",
        "outputId": "6499bef0-4a47-4a92-d7a6-3313f77d830a"
      },
      "execution_count": null,
      "outputs": [
        {
          "output_type": "execute_result",
          "data": {
            "text/plain": [
              "0.13900157199868257"
            ]
          },
          "metadata": {},
          "execution_count": 101
        }
      ]
    },
    {
      "cell_type": "code",
      "source": [
        "print(\"Proportion of bags with breaking strength NOT between 3 and 7.5 kg per sq cm:\", prob_not_between_3_and_7_5)\n"
      ],
      "metadata": {
        "colab": {
          "base_uri": "https://localhost:8080/"
        },
        "id": "l59ECqXYeKGu",
        "outputId": "2482948f-984d-4de6-b219-33546a75ac17"
      },
      "execution_count": null,
      "outputs": [
        {
          "output_type": "stream",
          "name": "stdout",
          "text": [
            "Proportion of bags with breaking strength NOT between 3 and 7.5 kg per sq cm: 0.13900157199868257\n"
          ]
        }
      ]
    },
    {
      "cell_type": "code",
      "source": [
        "plt.plot(x, y) # plot the pdf of the normal distribution\n",
        "plt.axvline(x=3, c=\"r\") # draw a red vertical line at x = 3\n",
        "plt.axvline(x=7.5, c=\"r\") # draw a red vertical line at x = 7.5\n",
        "\n",
        "\n",
        "x1 = np.linspace(x.min(), 3, 50)\n",
        "\n",
        "plt.fill_between(x1, stats.norm.pdf(x1, mean, std_dev), color=\"r\") # fill the specified region with red color\n",
        "x2 = np.linspace(7.5, x.max(), 50)\n",
        "plt.fill_between(x2, stats.norm.pdf(x2, mean, std_dev), color=\"r\") # fill the specified region with red color\n",
        "\n",
        "\n",
        "plt.xlabel('Breaking Strength (kg per sq cm)')# set the x-axis label\n",
        "plt.ylabel(\"Probability\") # set the y-axis label\n",
        "\n",
        "plt.title(\"Normal Distribution\") # set the title\n",
        "plt.show() # display the plot"
      ],
      "metadata": {
        "colab": {
          "base_uri": "https://localhost:8080/",
          "height": 472
        },
        "id": "cya38PyUfio1",
        "outputId": "224807ee-5610-40ba-e5a0-79d8f0397d77"
      },
      "execution_count": null,
      "outputs": [
        {
          "output_type": "display_data",
          "data": {
            "text/plain": [
              "<Figure size 640x480 with 1 Axes>"
            ],
            "image/png": "[encoded data removed]"
          },
          "metadata": {}
        }
      ]
    },
    {
      "cell_type": "code",
      "source": [],
      "metadata": {
        "id": "GlXOvfcGdzgi"
      },
      "execution_count": null,
      "outputs": []
    },
    {
      "cell_type": "markdown",
      "source": [
        "#Problem 3"
      ],
      "metadata": {
        "id": "t_WwmxP_hn0P"
      }
    },
    {
      "cell_type": "markdown",
      "source": [
        "Zingaro stone printing is a company that specializes in printing images or patterns on polished or unpolished stones. However, for the optimum level of printing of the image, the stone surface has to have a Brinell's hardness index of at least 150. Recently, Zingaro has received a batch of polished and unpolished stones from its clients. Use the data provided to answer the following (assuming a 5% significance level);"
      ],
      "metadata": {
        "id": "oTh-NI-oR0NM"
      }
    },
    {
      "cell_type": "code",
      "source": [
        "from google.colab import drive\n",
        "drive.mount('/content/drive')"
      ],
      "metadata": {
        "colab": {
          "base_uri": "https://localhost:8080/"
        },
        "id": "hpKMLVtPhrKv",
        "outputId": "447da47c-4718-4a52-b72c-fe86c6eae0ed"
      },
      "execution_count": 3,
      "outputs": [
        {
          "output_type": "stream",
          "name": "stdout",
          "text": [
            "Mounted at /content/drive\n"
          ]
        }
      ]
    },
    {
      "cell_type": "code",
      "source": [
        "#Read the data\n",
        "df = pd.read_csv('/content/drive/MyDrive/PGPDSA/Zingaro_Company.csv')\n",
        "#returns first 5 rows\n",
        "df.head(5)"
      ],
      "metadata": {
        "colab": {
          "base_uri": "https://localhost:8080/",
          "height": 206
        },
        "id": "A-kRsHdPSnb9",
        "outputId": "6e339da7-ca14-49e3-987d-1eb28973a15c"
      },
      "execution_count": null,
      "outputs": [
        {
          "output_type": "execute_result",
          "data": {
            "text/plain": [
              "   Unpolished   Treated and Polished\n",
              "0      164.482               133.209\n",
              "1      154.307               138.483\n",
              "2      129.861               159.665\n",
              "3      159.096               145.664\n",
              "4      135.257               136.789"
            ],
            "text/html": [
              "\n",
              "  <div id=\"df-b5df3b5a-96f0-402d-b53e-5124ab26c106\" class=\"colab-df-container\">\n",
              "    <div>\n",
              "<style scoped>\n",
              "    .dataframe tbody tr th:only-of-type {\n",
              "        vertical-align: middle;\n",
              "    }\n",
              "\n",
              "    .dataframe tbody tr th {\n",
              "        vertical-align: top;\n",
              "    }\n",
              "\n",
              "    .dataframe thead th {\n",
              "        text-align: right;\n",
              "    }\n",
              "</style>\n",
              "<table border=\"1\" class=\"dataframe\">\n",
              "  <thead>\n",
              "    <tr style=\"text-align: right;\">\n",
              "      <th></th>\n",
              "      <th>Unpolished</th>\n",
              "      <th>Treated and Polished</th>\n",
              "    </tr>\n",
              "  </thead>\n",
              "  <tbody>\n",
              "    <tr>\n",
              "      <th>0</th>\n",
              "      <td>164.482</td>\n",
              "      <td>133.209</td>\n",
              "    </tr>\n",
              "    <tr>\n",
              "      <th>1</th>\n",
              "      <td>154.307</td>\n",
              "      <td>138.483</td>\n",
              "    </tr>\n",
              "    <tr>\n",
              "      <th>2</th>\n",
              "      <td>129.861</td>\n",
              "      <td>159.665</td>\n",
              "    </tr>\n",
              "    <tr>\n",
              "      <th>3</th>\n",
              "      <td>159.096</td>\n",
              "      <td>145.664</td>\n",
              "    </tr>\n",
              "    <tr>\n",
              "      <th>4</th>\n",
              "      <td>135.257</td>\n",
              "      <td>136.789</td>\n",
              "    </tr>\n",
              "  </tbody>\n",
              "</table>\n",
              "</div>\n",
              "    <div class=\"colab-df-buttons\">\n",
              "\n",
              "  <div class=\"colab-df-container\">\n",
              "    <button class=\"colab-df-convert\" onclick=\"convertToInteractive('df-b5df3b5a-96f0-402d-b53e-5124ab26c106')\"\n",
              "            title=\"Convert this dataframe to an interactive table.\"\n",
              "            style=\"display:none;\">\n",
              "\n",
              "  <svg xmlns=\"http://www.w3.org/2000/svg\" height=\"24px\" viewBox=\"0 -960 960 960\">\n",
              "    <path d=\"M120-120v-720h720v720H120Zm60-500h600v-160H180v160Zm220 220h160v-160H400v160Zm0 220h160v-160H400v160ZM180-400h160v-160H180v160Zm440 0h160v-160H620v160ZM180-180h160v-160H180v160Zm440 0h160v-160H620v160Z\"/>\n",
              "  </svg>\n",
              "    </button>\n",
              "\n",
              "  <style>\n",
              "    .colab-df-container {\n",
              "      display:flex;\n",
              "      gap: 12px;\n",
              "    }\n",
              "\n",
              "    .colab-df-convert {\n",
              "      background-color: #E8F0FE;\n",
              "      border: none;\n",
              "      border-radius: 50%;\n",
              "      cursor: pointer;\n",
              "      display: none;\n",
              "      fill: #1967D2;\n",
              "      height: 32px;\n",
              "      padding: 0 0 0 0;\n",
              "      width: 32px;\n",
              "    }\n",
              "\n",
              "    .colab-df-convert:hover {\n",
              "      background-color: #E2EBFA;\n",
              "      box-shadow: 0px 1px 2px rgba(60, 64, 67, 0.3), 0px 1px 3px 1px rgba(60, 64, 67, 0.15);\n",
              "      fill: #174EA6;\n",
              "    }\n",
              "\n",
              "    .colab-df-buttons div {\n",
              "      margin-bottom: 4px;\n",
              "    }\n",
              "\n",
              "    [theme=dark] .colab-df-convert {\n",
              "      background-color: #3B4455;\n",
              "      fill: #D2E3FC;\n",
              "    }\n",
              "\n",
              "    [theme=dark] .colab-df-convert:hover {\n",
              "      background-color: #434B5C;\n",
              "      box-shadow: 0px 1px 3px 1px rgba(0, 0, 0, 0.15);\n",
              "      filter: drop-shadow(0px 1px 2px rgba(0, 0, 0, 0.3));\n",
              "      fill: #FFFFFF;\n",
              "    }\n",
              "  </style>\n",
              "\n",
              "    <script>\n",
              "      const buttonEl =\n",
              "        document.querySelector('#df-b5df3b5a-96f0-402d-b53e-5124ab26c106 button.colab-df-convert');\n",
              "      buttonEl.style.display =\n",
              "        google.colab.kernel.accessAllowed ? 'block' : 'none';\n",
              "\n",
              "      async function convertToInteractive(key) {\n",
              "        const element = document.querySelector('#df-b5df3b5a-96f0-402d-b53e-5124ab26c106');\n",
              "        const dataTable =\n",
              "          await google.colab.kernel.invokeFunction('convertToInteractive',\n",
              "                                                    [key], {});\n",
              "        if (!dataTable) return;\n",
              "\n",
              "        const docLinkHtml = 'Like what you see? Visit the ' +\n",
              "          '<a target=\"_blank\" href=https://colab.research.google.com/notebooks/data_table.ipynb>data table notebook</a>'\n",
              "          + ' to learn more about interactive tables.';\n",
              "        element.innerHTML = '';\n",
              "        dataTable['output_type'] = 'display_data';\n",
              "        await google.colab.output.renderOutput(dataTable, element);\n",
              "        const docLink = document.createElement('div');\n",
              "        docLink.innerHTML = docLinkHtml;\n",
              "        element.appendChild(docLink);\n",
              "      }\n",
              "    </script>\n",
              "  </div>\n",
              "\n",
              "\n",
              "<div id=\"df-b6e9f739-c97b-4b51-a9f3-606faeb90290\">\n",
              "  <button class=\"colab-df-quickchart\" onclick=\"quickchart('df-b6e9f739-c97b-4b51-a9f3-606faeb90290')\"\n",
              "            title=\"Suggest charts\"\n",
              "            style=\"display:none;\">\n",
              "\n",
              "<svg xmlns=\"http://www.w3.org/2000/svg\" height=\"24px\"viewBox=\"0 0 24 24\"\n",
              "     width=\"24px\">\n",
              "    <g>\n",
              "        <path d=\"M19 3H5c-1.1 0-2 .9-2 2v14c0 1.1.9 2 2 2h14c1.1 0 2-.9 2-2V5c0-1.1-.9-2-2-2zM9 17H7v-7h2v7zm4 0h-2V7h2v10zm4 0h-2v-4h2v4z\"/>\n",
              "    </g>\n",
              "</svg>\n",
              "  </button>\n",
              "\n",
              "<style>\n",
              "  .colab-df-quickchart {\n",
              "      --bg-color: #E8F0FE;\n",
              "      --fill-color: #1967D2;\n",
              "      --hover-bg-color: #E2EBFA;\n",
              "      --hover-fill-color: #174EA6;\n",
              "      --disabled-fill-color: #AAA;\n",
              "      --disabled-bg-color: #DDD;\n",
              "  }\n",
              "\n",
              "  [theme=dark] .colab-df-quickchart {\n",
              "      --bg-color: #3B4455;\n",
              "      --fill-color: #D2E3FC;\n",
              "      --hover-bg-color: #434B5C;\n",
              "      --hover-fill-color: #FFFFFF;\n",
              "      --disabled-bg-color: #3B4455;\n",
              "      --disabled-fill-color: #666;\n",
              "  }\n",
              "\n",
              "  .colab-df-quickchart {\n",
              "    background-color: var(--bg-color);\n",
              "    border: none;\n",
              "    border-radius: 50%;\n",
              "    cursor: pointer;\n",
              "    display: none;\n",
              "    fill: var(--fill-color);\n",
              "    height: 32px;\n",
              "    padding: 0;\n",
              "    width: 32px;\n",
              "  }\n",
              "\n",
              "  .colab-df-quickchart:hover {\n",
              "    background-color: var(--hover-bg-color);\n",
              "    box-shadow: 0 1px 2px rgba(60, 64, 67, 0.3), 0 1px 3px 1px rgba(60, 64, 67, 0.15);\n",
              "    fill: var(--button-hover-fill-color);\n",
              "  }\n",
              "\n",
              "  .colab-df-quickchart-complete:disabled,\n",
              "  .colab-df-quickchart-complete:disabled:hover {\n",
              "    background-color: var(--disabled-bg-color);\n",
              "    fill: var(--disabled-fill-color);\n",
              "    box-shadow: none;\n",
              "  }\n",
              "\n",
              "  .colab-df-spinner {\n",
              "    border: 2px solid var(--fill-color);\n",
              "    border-color: transparent;\n",
              "    border-bottom-color: var(--fill-color);\n",
              "    animation:\n",
              "      spin 1s steps(1) infinite;\n",
              "  }\n",
              "\n",
              "  @keyframes spin {\n",
              "    0% {\n",
              "      border-color: transparent;\n",
              "      border-bottom-color: var(--fill-color);\n",
              "      border-left-color: var(--fill-color);\n",
              "    }\n",
              "    20% {\n",
              "      border-color: transparent;\n",
              "      border-left-color: var(--fill-color);\n",
              "      border-top-color: var(--fill-color);\n",
              "    }\n",
              "    30% {\n",
              "      border-color: transparent;\n",
              "      border-left-color: var(--fill-color);\n",
              "      border-top-color: var(--fill-color);\n",
              "      border-right-color: var(--fill-color);\n",
              "    }\n",
              "    40% {\n",
              "      border-color: transparent;\n",
              "      border-right-color: var(--fill-color);\n",
              "      border-top-color: var(--fill-color);\n",
              "    }\n",
              "    60% {\n",
              "      border-color: transparent;\n",
              "      border-right-color: var(--fill-color);\n",
              "    }\n",
              "    80% {\n",
              "      border-color: transparent;\n",
              "      border-right-color: var(--fill-color);\n",
              "      border-bottom-color: var(--fill-color);\n",
              "    }\n",
              "    90% {\n",
              "      border-color: transparent;\n",
              "      border-bottom-color: var(--fill-color);\n",
              "    }\n",
              "  }\n",
              "</style>\n",
              "\n",
              "  <script>\n",
              "    async function quickchart(key) {\n",
              "      const quickchartButtonEl =\n",
              "        document.querySelector('#' + key + ' button');\n",
              "      quickchartButtonEl.disabled = true;  // To prevent multiple clicks.\n",
              "      quickchartButtonEl.classList.add('colab-df-spinner');\n",
              "      try {\n",
              "        const charts = await google.colab.kernel.invokeFunction(\n",
              "            'suggestCharts', [key], {});\n",
              "      } catch (error) {\n",
              "        console.error('Error during call to suggestCharts:', error);\n",
              "      }\n",
              "      quickchartButtonEl.classList.remove('colab-df-spinner');\n",
              "      quickchartButtonEl.classList.add('colab-df-quickchart-complete');\n",
              "    }\n",
              "    (() => {\n",
              "      let quickchartButtonEl =\n",
              "        document.querySelector('#df-b6e9f739-c97b-4b51-a9f3-606faeb90290 button');\n",
              "      quickchartButtonEl.style.display =\n",
              "        google.colab.kernel.accessAllowed ? 'block' : 'none';\n",
              "    })();\n",
              "  </script>\n",
              "</div>\n",
              "\n",
              "    </div>\n",
              "  </div>\n"
            ],
            "application/vnd.google.colaboratory.intrinsic+json": {
              "type": "dataframe",
              "variable_name": "df",
              "summary": "{\n  \"name\": \"df\",\n  \"rows\": 75,\n  \"fields\": [\n    {\n      \"column\": \"Unpolished \",\n      \"properties\": {\n        \"dtype\": \"number\",\n        \"std\": 33.0418044136061,\n        \"min\": 48.40683839,\n        \"max\": 200.1613125,\n        \"num_unique_values\": 75,\n        \"samples\": [\n          135.2567483,\n          121.4075252,\n          95.34903009\n        ],\n        \"semantic_type\": \"\",\n        \"description\": \"\"\n      }\n    },\n    {\n      \"column\": \"Treated and Polished\",\n      \"properties\": {\n        \"dtype\": \"number\",\n        \"std\": 15.587355273119853,\n        \"min\": 107.5241671,\n        \"max\": 192.2728563,\n        \"num_unique_values\": 75,\n        \"samples\": [\n          136.7892272,\n          107.5241671,\n          145.8285257\n        ],\n        \"semantic_type\": \"\",\n        \"description\": \"\"\n      }\n    }\n  ]\n}"
            }
          },
          "metadata": {},
          "execution_count": 105
        }
      ]
    },
    {
      "cell_type": "markdown",
      "source": [
        "## Data Overview"
      ],
      "metadata": {
        "id": "iQ3uWVAoaI_b"
      }
    },
    {
      "cell_type": "markdown",
      "source": [
        "###1. Structure of Data"
      ],
      "metadata": {
        "id": "DWI7gB7eaXk9"
      }
    },
    {
      "cell_type": "code",
      "source": [
        "df.shape"
      ],
      "metadata": {
        "colab": {
          "base_uri": "https://localhost:8080/"
        },
        "id": "BJVIB38qS2Zp",
        "outputId": "f5c8c5a9-624c-4cb2-d862-ca658bd13107"
      },
      "execution_count": null,
      "outputs": [
        {
          "output_type": "execute_result",
          "data": {
            "text/plain": [
              "(75, 2)"
            ]
          },
          "metadata": {},
          "execution_count": 106
        }
      ]
    },
    {
      "cell_type": "markdown",
      "source": [
        "###2. Type of Data"
      ],
      "metadata": {
        "id": "4BEM20s4ad2L"
      }
    },
    {
      "cell_type": "code",
      "source": [
        "df.info()"
      ],
      "metadata": {
        "colab": {
          "base_uri": "https://localhost:8080/"
        },
        "id": "i_aphEbGS3qV",
        "outputId": "01b441c0-1158-404e-c181-0eb28fc540d5"
      },
      "execution_count": null,
      "outputs": [
        {
          "output_type": "stream",
          "name": "stdout",
          "text": [
            "<class 'pandas.core.frame.DataFrame'>\n",
            "RangeIndex: 75 entries, 0 to 74\n",
            "Data columns (total 2 columns):\n",
            " #   Column                Non-Null Count  Dtype  \n",
            "---  ------                --------------  -----  \n",
            " 0   Unpolished            75 non-null     float64\n",
            " 1   Treated and Polished  75 non-null     float64\n",
            "dtypes: float64(2)\n",
            "memory usage: 1.3 KB\n"
          ]
        }
      ]
    },
    {
      "cell_type": "markdown",
      "source": [
        "###3. Missing values treatment"
      ],
      "metadata": {
        "id": "RWsOyMZDa-59"
      }
    },
    {
      "cell_type": "code",
      "source": [
        "df.isnull().sum()"
      ],
      "metadata": {
        "colab": {
          "base_uri": "https://localhost:8080/"
        },
        "id": "Ej0V3rT3ahXc",
        "outputId": "c11a568b-8ddb-4800-ef33-c123f5767573"
      },
      "execution_count": null,
      "outputs": [
        {
          "output_type": "execute_result",
          "data": {
            "text/plain": [
              "Unpolished              0\n",
              "Treated and Polished    0\n",
              "dtype: int64"
            ]
          },
          "metadata": {},
          "execution_count": 108
        }
      ]
    },
    {
      "cell_type": "markdown",
      "source": [
        "###4. Data Duplicates"
      ],
      "metadata": {
        "id": "iUQBtZ9CnMHt"
      }
    },
    {
      "cell_type": "code",
      "source": [
        "df.duplicated().sum()"
      ],
      "metadata": {
        "colab": {
          "base_uri": "https://localhost:8080/"
        },
        "id": "XYi_iFEcnAkP",
        "outputId": "d248db43-9f35-4376-8aeb-971b14611d41"
      },
      "execution_count": null,
      "outputs": [
        {
          "output_type": "execute_result",
          "data": {
            "text/plain": [
              "0"
            ]
          },
          "metadata": {},
          "execution_count": 109
        }
      ]
    },
    {
      "cell_type": "markdown",
      "source": [
        "###5. Statistical Summary"
      ],
      "metadata": {
        "id": "I9rcWTdKmjKA"
      }
    },
    {
      "cell_type": "code",
      "source": [
        "df.describe().T"
      ],
      "metadata": {
        "colab": {
          "base_uri": "https://localhost:8080/",
          "height": 112
        },
        "id": "FMLswpXWmAsv",
        "outputId": "c9d965d2-d41b-4776-87c3-94e6af56e2eb"
      },
      "execution_count": null,
      "outputs": [
        {
          "output_type": "execute_result",
          "data": {
            "text/plain": [
              "                      count    mean    std     min     25%     50%     75%  \\\n",
              "Unpolished           75.000 134.111 33.042  48.407 115.330 135.597 158.215   \n",
              "Treated and Polished 75.000 147.788 15.587 107.524 138.268 145.721 157.373   \n",
              "\n",
              "                         max  \n",
              "Unpolished           200.161  \n",
              "Treated and Polished 192.273  "
            ],
            "text/html": [
              "\n",
              "  <div id=\"df-158246ce-19a2-4272-8a64-c26e3d10fe22\" class=\"colab-df-container\">\n",
              "    <div>\n",
              "<style scoped>\n",
              "    .dataframe tbody tr th:only-of-type {\n",
              "        vertical-align: middle;\n",
              "    }\n",
              "\n",
              "    .dataframe tbody tr th {\n",
              "        vertical-align: top;\n",
              "    }\n",
              "\n",
              "    .dataframe thead th {\n",
              "        text-align: right;\n",
              "    }\n",
              "</style>\n",
              "<table border=\"1\" class=\"dataframe\">\n",
              "  <thead>\n",
              "    <tr style=\"text-align: right;\">\n",
              "      <th></th>\n",
              "      <th>count</th>\n",
              "      <th>mean</th>\n",
              "      <th>std</th>\n",
              "      <th>min</th>\n",
              "      <th>25%</th>\n",
              "      <th>50%</th>\n",
              "      <th>75%</th>\n",
              "      <th>max</th>\n",
              "    </tr>\n",
              "  </thead>\n",
              "  <tbody>\n",
              "    <tr>\n",
              "      <th>Unpolished</th>\n",
              "      <td>75.000</td>\n",
              "      <td>134.111</td>\n",
              "      <td>33.042</td>\n",
              "      <td>48.407</td>\n",
              "      <td>115.330</td>\n",
              "      <td>135.597</td>\n",
              "      <td>158.215</td>\n",
              "      <td>200.161</td>\n",
              "    </tr>\n",
              "    <tr>\n",
              "      <th>Treated and Polished</th>\n",
              "      <td>75.000</td>\n",
              "      <td>147.788</td>\n",
              "      <td>15.587</td>\n",
              "      <td>107.524</td>\n",
              "      <td>138.268</td>\n",
              "      <td>145.721</td>\n",
              "      <td>157.373</td>\n",
              "      <td>192.273</td>\n",
              "    </tr>\n",
              "  </tbody>\n",
              "</table>\n",
              "</div>\n",
              "    <div class=\"colab-df-buttons\">\n",
              "\n",
              "  <div class=\"colab-df-container\">\n",
              "    <button class=\"colab-df-convert\" onclick=\"convertToInteractive('df-158246ce-19a2-4272-8a64-c26e3d10fe22')\"\n",
              "            title=\"Convert this dataframe to an interactive table.\"\n",
              "            style=\"display:none;\">\n",
              "\n",
              "  <svg xmlns=\"http://www.w3.org/2000/svg\" height=\"24px\" viewBox=\"0 -960 960 960\">\n",
              "    <path d=\"M120-120v-720h720v720H120Zm60-500h600v-160H180v160Zm220 220h160v-160H400v160Zm0 220h160v-160H400v160ZM180-400h160v-160H180v160Zm440 0h160v-160H620v160ZM180-180h160v-160H180v160Zm440 0h160v-160H620v160Z\"/>\n",
              "  </svg>\n",
              "    </button>\n",
              "\n",
              "  <style>\n",
              "    .colab-df-container {\n",
              "      display:flex;\n",
              "      gap: 12px;\n",
              "    }\n",
              "\n",
              "    .colab-df-convert {\n",
              "      background-color: #E8F0FE;\n",
              "      border: none;\n",
              "      border-radius: 50%;\n",
              "      cursor: pointer;\n",
              "      display: none;\n",
              "      fill: #1967D2;\n",
              "      height: 32px;\n",
              "      padding: 0 0 0 0;\n",
              "      width: 32px;\n",
              "    }\n",
              "\n",
              "    .colab-df-convert:hover {\n",
              "      background-color: #E2EBFA;\n",
              "      box-shadow: 0px 1px 2px rgba(60, 64, 67, 0.3), 0px 1px 3px 1px rgba(60, 64, 67, 0.15);\n",
              "      fill: #174EA6;\n",
              "    }\n",
              "\n",
              "    .colab-df-buttons div {\n",
              "      margin-bottom: 4px;\n",
              "    }\n",
              "\n",
              "    [theme=dark] .colab-df-convert {\n",
              "      background-color: #3B4455;\n",
              "      fill: #D2E3FC;\n",
              "    }\n",
              "\n",
              "    [theme=dark] .colab-df-convert:hover {\n",
              "      background-color: #434B5C;\n",
              "      box-shadow: 0px 1px 3px 1px rgba(0, 0, 0, 0.15);\n",
              "      filter: drop-shadow(0px 1px 2px rgba(0, 0, 0, 0.3));\n",
              "      fill: #FFFFFF;\n",
              "    }\n",
              "  </style>\n",
              "\n",
              "    <script>\n",
              "      const buttonEl =\n",
              "        document.querySelector('#df-158246ce-19a2-4272-8a64-c26e3d10fe22 button.colab-df-convert');\n",
              "      buttonEl.style.display =\n",
              "        google.colab.kernel.accessAllowed ? 'block' : 'none';\n",
              "\n",
              "      async function convertToInteractive(key) {\n",
              "        const element = document.querySelector('#df-158246ce-19a2-4272-8a64-c26e3d10fe22');\n",
              "        const dataTable =\n",
              "          await google.colab.kernel.invokeFunction('convertToInteractive',\n",
              "                                                    [key], {});\n",
              "        if (!dataTable) return;\n",
              "\n",
              "        const docLinkHtml = 'Like what you see? Visit the ' +\n",
              "          '<a target=\"_blank\" href=https://colab.research.google.com/notebooks/data_table.ipynb>data table notebook</a>'\n",
              "          + ' to learn more about interactive tables.';\n",
              "        element.innerHTML = '';\n",
              "        dataTable['output_type'] = 'display_data';\n",
              "        await google.colab.output.renderOutput(dataTable, element);\n",
              "        const docLink = document.createElement('div');\n",
              "        docLink.innerHTML = docLinkHtml;\n",
              "        element.appendChild(docLink);\n",
              "      }\n",
              "    </script>\n",
              "  </div>\n",
              "\n",
              "\n",
              "<div id=\"df-24141862-5cf7-4f79-b1cb-471d4de190c0\">\n",
              "  <button class=\"colab-df-quickchart\" onclick=\"quickchart('df-24141862-5cf7-4f79-b1cb-471d4de190c0')\"\n",
              "            title=\"Suggest charts\"\n",
              "            style=\"display:none;\">\n",
              "\n",
              "<svg xmlns=\"http://www.w3.org/2000/svg\" height=\"24px\"viewBox=\"0 0 24 24\"\n",
              "     width=\"24px\">\n",
              "    <g>\n",
              "        <path d=\"M19 3H5c-1.1 0-2 .9-2 2v14c0 1.1.9 2 2 2h14c1.1 0 2-.9 2-2V5c0-1.1-.9-2-2-2zM9 17H7v-7h2v7zm4 0h-2V7h2v10zm4 0h-2v-4h2v4z\"/>\n",
              "    </g>\n",
              "</svg>\n",
              "  </button>\n",
              "\n",
              "<style>\n",
              "  .colab-df-quickchart {\n",
              "      --bg-color: #E8F0FE;\n",
              "      --fill-color: #1967D2;\n",
              "      --hover-bg-color: #E2EBFA;\n",
              "      --hover-fill-color: #174EA6;\n",
              "      --disabled-fill-color: #AAA;\n",
              "      --disabled-bg-color: #DDD;\n",
              "  }\n",
              "\n",
              "  [theme=dark] .colab-df-quickchart {\n",
              "      --bg-color: #3B4455;\n",
              "      --fill-color: #D2E3FC;\n",
              "      --hover-bg-color: #434B5C;\n",
              "      --hover-fill-color: #FFFFFF;\n",
              "      --disabled-bg-color: #3B4455;\n",
              "      --disabled-fill-color: #666;\n",
              "  }\n",
              "\n",
              "  .colab-df-quickchart {\n",
              "    background-color: var(--bg-color);\n",
              "    border: none;\n",
              "    border-radius: 50%;\n",
              "    cursor: pointer;\n",
              "    display: none;\n",
              "    fill: var(--fill-color);\n",
              "    height: 32px;\n",
              "    padding: 0;\n",
              "    width: 32px;\n",
              "  }\n",
              "\n",
              "  .colab-df-quickchart:hover {\n",
              "    background-color: var(--hover-bg-color);\n",
              "    box-shadow: 0 1px 2px rgba(60, 64, 67, 0.3), 0 1px 3px 1px rgba(60, 64, 67, 0.15);\n",
              "    fill: var(--button-hover-fill-color);\n",
              "  }\n",
              "\n",
              "  .colab-df-quickchart-complete:disabled,\n",
              "  .colab-df-quickchart-complete:disabled:hover {\n",
              "    background-color: var(--disabled-bg-color);\n",
              "    fill: var(--disabled-fill-color);\n",
              "    box-shadow: none;\n",
              "  }\n",
              "\n",
              "  .colab-df-spinner {\n",
              "    border: 2px solid var(--fill-color);\n",
              "    border-color: transparent;\n",
              "    border-bottom-color: var(--fill-color);\n",
              "    animation:\n",
              "      spin 1s steps(1) infinite;\n",
              "  }\n",
              "\n",
              "  @keyframes spin {\n",
              "    0% {\n",
              "      border-color: transparent;\n",
              "      border-bottom-color: var(--fill-color);\n",
              "      border-left-color: var(--fill-color);\n",
              "    }\n",
              "    20% {\n",
              "      border-color: transparent;\n",
              "      border-left-color: var(--fill-color);\n",
              "      border-top-color: var(--fill-color);\n",
              "    }\n",
              "    30% {\n",
              "      border-color: transparent;\n",
              "      border-left-color: var(--fill-color);\n",
              "      border-top-color: var(--fill-color);\n",
              "      border-right-color: var(--fill-color);\n",
              "    }\n",
              "    40% {\n",
              "      border-color: transparent;\n",
              "      border-right-color: var(--fill-color);\n",
              "      border-top-color: var(--fill-color);\n",
              "    }\n",
              "    60% {\n",
              "      border-color: transparent;\n",
              "      border-right-color: var(--fill-color);\n",
              "    }\n",
              "    80% {\n",
              "      border-color: transparent;\n",
              "      border-right-color: var(--fill-color);\n",
              "      border-bottom-color: var(--fill-color);\n",
              "    }\n",
              "    90% {\n",
              "      border-color: transparent;\n",
              "      border-bottom-color: var(--fill-color);\n",
              "    }\n",
              "  }\n",
              "</style>\n",
              "\n",
              "  <script>\n",
              "    async function quickchart(key) {\n",
              "      const quickchartButtonEl =\n",
              "        document.querySelector('#' + key + ' button');\n",
              "      quickchartButtonEl.disabled = true;  // To prevent multiple clicks.\n",
              "      quickchartButtonEl.classList.add('colab-df-spinner');\n",
              "      try {\n",
              "        const charts = await google.colab.kernel.invokeFunction(\n",
              "            'suggestCharts', [key], {});\n",
              "      } catch (error) {\n",
              "        console.error('Error during call to suggestCharts:', error);\n",
              "      }\n",
              "      quickchartButtonEl.classList.remove('colab-df-spinner');\n",
              "      quickchartButtonEl.classList.add('colab-df-quickchart-complete');\n",
              "    }\n",
              "    (() => {\n",
              "      let quickchartButtonEl =\n",
              "        document.querySelector('#df-24141862-5cf7-4f79-b1cb-471d4de190c0 button');\n",
              "      quickchartButtonEl.style.display =\n",
              "        google.colab.kernel.accessAllowed ? 'block' : 'none';\n",
              "    })();\n",
              "  </script>\n",
              "</div>\n",
              "\n",
              "    </div>\n",
              "  </div>\n"
            ],
            "application/vnd.google.colaboratory.intrinsic+json": {
              "type": "dataframe",
              "summary": "{\n  \"name\": \"df\",\n  \"rows\": 2,\n  \"fields\": [\n    {\n      \"column\": \"count\",\n      \"properties\": {\n        \"dtype\": \"number\",\n        \"std\": 0.0,\n        \"min\": 75.0,\n        \"max\": 75.0,\n        \"num_unique_values\": 1,\n        \"samples\": [\n          75.0\n        ],\n        \"semantic_type\": \"\",\n        \"description\": \"\"\n      }\n    },\n    {\n      \"column\": \"mean\",\n      \"properties\": {\n        \"dtype\": \"number\",\n        \"std\": 9.671517097211682,\n        \"min\": 134.11052653373332,\n        \"max\": 147.78811718133335,\n        \"num_unique_values\": 2,\n        \"samples\": [\n          147.78811718133335\n        ],\n        \"semantic_type\": \"\",\n        \"description\": \"\"\n      }\n    },\n    {\n      \"column\": \"std\",\n      \"properties\": {\n        \"dtype\": \"number\",\n        \"std\": 12.342159349113533,\n        \"min\": 15.587355273119853,\n        \"max\": 33.0418044136061,\n        \"num_unique_values\": 2,\n        \"samples\": [\n          15.587355273119853\n        ],\n        \"semantic_type\": \"\",\n        \"description\": \"\"\n      }\n    },\n    {\n      \"column\": \"min\",\n      \"properties\": {\n        \"dtype\": \"number\",\n        \"std\": 41.80226401647518,\n        \"min\": 48.40683839,\n        \"max\": 107.5241671,\n        \"num_unique_values\": 2,\n        \"samples\": [\n          107.5241671\n        ],\n        \"semantic_type\": \"\",\n        \"description\": \"\"\n      }\n    },\n    {\n      \"column\": \"25%\",\n      \"properties\": {\n        \"dtype\": \"number\",\n        \"std\": 16.22000199284499,\n        \"min\": 115.32975285,\n        \"max\": 138.26829965000002,\n        \"num_unique_values\": 2,\n        \"samples\": [\n          138.26829965000002\n        ],\n        \"semantic_type\": \"\",\n        \"description\": \"\"\n      }\n    },\n    {\n      \"column\": \"50%\",\n      \"properties\": {\n        \"dtype\": \"number\",\n        \"std\": 7.158890756931561,\n        \"min\": 135.5971212,\n        \"max\": 145.7213216,\n        \"num_unique_values\": 2,\n        \"samples\": [\n          145.7213216\n        ],\n        \"semantic_type\": \"\",\n        \"description\": \"\"\n      }\n    },\n    {\n      \"column\": \"75%\",\n      \"properties\": {\n        \"dtype\": \"number\",\n        \"std\": 0.595228381622559,\n        \"min\": 157.37331795,\n        \"max\": 158.215098,\n        \"num_unique_values\": 2,\n        \"samples\": [\n          157.37331795\n        ],\n        \"semantic_type\": \"\",\n        \"description\": \"\"\n      }\n    },\n    {\n      \"column\": \"max\",\n      \"properties\": {\n        \"dtype\": \"number\",\n        \"std\": 5.577980872113069,\n        \"min\": 192.2728563,\n        \"max\": 200.1613125,\n        \"num_unique_values\": 2,\n        \"samples\": [\n          192.2728563\n        ],\n        \"semantic_type\": \"\",\n        \"description\": \"\"\n      }\n    }\n  ]\n}"
            }
          },
          "metadata": {},
          "execution_count": 110
        }
      ]
    },
    {
      "cell_type": "markdown",
      "source": [
        "Renaming columns to remove unwanted characters"
      ],
      "metadata": {
        "id": "fWi0dBYGWbXf"
      }
    },
    {
      "cell_type": "code",
      "source": [
        "df.columns=['Unpolished', 'Treated and Polished']"
      ],
      "metadata": {
        "id": "YcxVR6-GWCi-"
      },
      "execution_count": null,
      "outputs": []
    },
    {
      "cell_type": "markdown",
      "source": [
        "##Univariate Analysis"
      ],
      "metadata": {
        "id": "3rionUaqVLlB"
      }
    },
    {
      "cell_type": "markdown",
      "source": [
        "###Unpolished"
      ],
      "metadata": {
        "id": "GJniAJ2GWfXT"
      }
    },
    {
      "cell_type": "code",
      "source": [
        "plt.figure(figsize=(5,4))\n",
        "sns.histplot(data=df,x='Unpolished',stat='density')\n",
        "plt.title(\"Unpolished distribution\")\n",
        "plt.show()\n",
        "plt.figure(figsize=(5,4))\n",
        "\n",
        "sns.boxplot(data=df,x='Unpolished')\n",
        "plt.title(\"Unpolished distribution\")\n",
        "plt.show()"
      ],
      "metadata": {
        "colab": {
          "base_uri": "https://localhost:8080/"
        },
        "id": "lpMdz4QcTI0O",
        "outputId": "644b685d-a1fe-401b-8407-702ad75ae2f3"
      },
      "execution_count": null,
      "outputs": [
        {
          "output_type": "display_data",
          "data": {
            "text/plain": [
              "<Figure size 500x400 with 1 Axes>"
            ],
            "image/png": "[encoded data removed]"
          },
          "metadata": {}
        },
        {
          "output_type": "display_data",
          "data": {
            "text/plain": [
              "<Figure size 500x400 with 1 Axes>"
            ],
            "image/png": "[encoded data removed]"
          },
          "metadata": {}
        }
      ]
    },
    {
      "cell_type": "markdown",
      "source": [
        "###Treated and Polished"
      ],
      "metadata": {
        "id": "7i0L8vV5W0kU"
      }
    },
    {
      "cell_type": "code",
      "source": [
        "plt.figure(figsize=(5,4))\n",
        "sns.histplot(data=df,x='Treated and Polished',stat='density')\n",
        "plt.title(\"Treated and Polished distribution\")\n",
        "plt.show()\n",
        "plt.figure(figsize=(5,4))\n",
        "\n",
        "sns.boxplot(data=df,x='Treated and Polished')\n",
        "plt.title(\"Treated and Polished distribution\")\n",
        "plt.show()"
      ],
      "metadata": {
        "colab": {
          "base_uri": "https://localhost:8080/"
        },
        "id": "0_irzgALV9QE",
        "outputId": "db8cb3e7-849b-4aca-d2ff-e21d7fd0a477"
      },
      "execution_count": null,
      "outputs": [
        {
          "output_type": "display_data",
          "data": {
            "text/plain": [
              "<Figure size 500x400 with 1 Axes>"
            ],
            "image/png": "[encoded data removed]"
          },
          "metadata": {}
        },
        {
          "output_type": "display_data",
          "data": {
            "text/plain": [
              "<Figure size 500x400 with 1 Axes>"
            ],
            "image/png": "[encoded data removed]"
          },
          "metadata": {}
        }
      ]
    },
    {
      "cell_type": "code",
      "source": [],
      "metadata": {
        "id": "m_VvY-WOW6eh"
      },
      "execution_count": null,
      "outputs": []
    },
    {
      "cell_type": "markdown",
      "source": [
        "##Bivariate Analysis"
      ],
      "metadata": {
        "id": "T7sqy3qEW_-y"
      }
    },
    {
      "cell_type": "markdown",
      "source": [
        "###Heat Map"
      ],
      "metadata": {
        "id": "XF-s0BshXFCv"
      }
    },
    {
      "cell_type": "code",
      "source": [
        "corr=df.corr()"
      ],
      "metadata": {
        "id": "MHlws3yRXCiu"
      },
      "execution_count": null,
      "outputs": []
    },
    {
      "cell_type": "code",
      "source": [
        "plt.figure(figsize=(4,2))\n",
        "sns.heatmap(corr,annot=True,cmap='Spectral',vmin=-1,vmax=1)\n",
        "plt.title(\"Correlation Matrix\")\n",
        "plt.show()"
      ],
      "metadata": {
        "colab": {
          "base_uri": "https://localhost:8080/",
          "height": 237
        },
        "id": "3S_2VplPXM-T",
        "outputId": "15791e79-a412-4f35-c6d6-063e2cb7a955"
      },
      "execution_count": null,
      "outputs": [
        {
          "output_type": "display_data",
          "data": {
            "text/plain": [
              "<Figure size 400x200 with 2 Axes>"
            ],
            "image/png": "[encoded data removed]"
          },
          "metadata": {}
        }
      ]
    },
    {
      "cell_type": "markdown",
      "source": [
        "##Question 3.1 Zingaro has reason to believe that the unpolished stones may not be suitable for printing. Do you think Zingaro is justified in thinking so?"
      ],
      "metadata": {
        "id": "IGrc-cwxZvH1"
      }
    },
    {
      "cell_type": "markdown",
      "source": [
        "We will use Shapiro-Wilk's test to check whether hardness of unpolished stones follows normal distribution."
      ],
      "metadata": {
        "id": "bwCf3ExSgGAz"
      }
    },
    {
      "cell_type": "markdown",
      "source": [
        "###Shapiro-Wilk’s test\n",
        "\n",
        "\n",
        "We will test the null hypothesis\n",
        "\n",
        ">$H_0:$ Hardness of Unpolished stones follows a normal distribution against\n",
        "\n",
        "against the alternative hypothesis\n",
        "\n",
        ">$H_a:$ Hardness of Unpolished stones does not follow a normal distribution"
      ],
      "metadata": {
        "id": "5cKlgTCxb-JT"
      }
    },
    {
      "cell_type": "code",
      "source": [
        "from scipy import stats\n",
        "\n",
        "# find the p-value\n",
        "w, p_value = stats.shapiro(df['Unpolished'])\n",
        "print('The p-value is', p_value)"
      ],
      "metadata": {
        "colab": {
          "base_uri": "https://localhost:8080/"
        },
        "id": "Sk8wDw6ja39e",
        "outputId": "80394eb4-6f91-4339-e55b-82ed2cf0fff6"
      },
      "execution_count": null,
      "outputs": [
        {
          "output_type": "stream",
          "name": "stdout",
          "text": [
            "The p-value is 0.6777291297912598\n"
          ]
        }
      ]
    },
    {
      "cell_type": "markdown",
      "source": [
        "Since p-value of the test is very large, we fail to reject the null hypothesis that the response follows the normal distribution."
      ],
      "metadata": {
        "id": "g8BTQE05eWqz"
      }
    },
    {
      "cell_type": "markdown",
      "source": [
        "###One-Sample T-Test"
      ],
      "metadata": {
        "id": "tt0CxVa9adkc"
      }
    },
    {
      "cell_type": "markdown",
      "source": [
        "We will test the null hypothesis\n",
        "\n",
        ">$H_0:\\mu = 150$\n",
        "\n",
        "against the alternate hypothesis\n",
        "\n",
        ">$H_a:\\mu \\neq\\ 150$"
      ],
      "metadata": {
        "id": "nSFqVvVRbkDW"
      }
    },
    {
      "cell_type": "markdown",
      "source": [
        "### Let's test whether the T-test assumptions are satisfied or not\n",
        "\n",
        "* Continuous data - Yes, hardness of stones is measured on a continuous scale.\n",
        "\n",
        "*   Normally distributed population - Yes, it is assumed that the population is normal based on Shapiro-Wilk's test\n",
        "*   Observations are from a simple random sample - Yes, we are informed that the collected sample a simple random sample.\n",
        "*   Population standard deviation is known - No\n",
        "We can use T-test for this problem."
      ],
      "metadata": {
        "id": "cauie65Zb-DI"
      }
    },
    {
      "cell_type": "code",
      "source": [
        "#import the required functions\n",
        "from scipy.stats import ttest_1samp\n",
        "\n",
        "# calculate the test statistic and p-value\n",
        "test_stat, p_value = ttest_1samp(df['Unpolished'], popmean = 150)\n",
        "print('The p-value is ', p_value)"
      ],
      "metadata": {
        "colab": {
          "base_uri": "https://localhost:8080/"
        },
        "id": "8UjaHxLfdhcG",
        "outputId": "ddc1ab39-f71d-444a-b25d-46a0215ce712"
      },
      "execution_count": null,
      "outputs": [
        {
          "output_type": "stream",
          "name": "stdout",
          "text": [
            "The p-value is  8.342573994839304e-05\n"
          ]
        }
      ]
    },
    {
      "cell_type": "markdown",
      "source": [
        "###Insights\n",
        "As the p-value is much less than the level of significance - 0.05, we reject the null hypothesis that the mean hardness of the unpolished stones is 150. Therefore, Zingaro is justified in believing that the unpolished stones may not be suitable for printing."
      ],
      "metadata": {
        "id": "0fU5EbJIfWEu"
      }
    },
    {
      "cell_type": "markdown",
      "source": [
        "##Question 3.2 Is the mean hardness of the polished and unpolished stones the same?"
      ],
      "metadata": {
        "id": "JTxm7l5GgkM6"
      }
    },
    {
      "cell_type": "markdown",
      "source": [
        "We will use Levene's test to check Homogeneity of variances"
      ],
      "metadata": {
        "id": "BDHDS21shpaC"
      }
    },
    {
      "cell_type": "markdown",
      "metadata": {
        "id": "RN7l8dkREpFu"
      },
      "source": [
        "### Levene’s test\n",
        "\n",
        "We will test the null hypothesis\n",
        "\n",
        ">$H_0$: All the population variances are equal\n",
        "\n",
        "against the alternative hypothesis\n",
        "\n",
        ">$H_a$: At least one variance is different from the rest"
      ]
    },
    {
      "cell_type": "code",
      "execution_count": null,
      "metadata": {
        "colab": {
          "base_uri": "https://localhost:8080/"
        },
        "id": "Jj-jsFGTFKtI",
        "outputId": "06f8ea53-c3a7-4e4c-ecfa-c70abbf0d280"
      },
      "outputs": [
        {
          "output_type": "stream",
          "name": "stdout",
          "text": [
            "The p-value is 3.4771056592659467e-07\n"
          ]
        }
      ],
      "source": [
        "#import the required function\n",
        "from scipy.stats import levene\n",
        "statistic, p_value = levene(df['Unpolished'],df['Treated and Polished'])\n",
        "# find the p-value\n",
        "print('The p-value is', p_value)"
      ]
    },
    {
      "cell_type": "markdown",
      "source": [
        "As the p-value is much less than the level of significance - 0.05, we reject the null hypothesis of homogeneity of variances."
      ],
      "metadata": {
        "id": "tZ4C_UviiK3A"
      }
    },
    {
      "cell_type": "markdown",
      "source": [
        "Standard Deviation"
      ],
      "metadata": {
        "id": "GbznTv4wkJ9L"
      }
    },
    {
      "cell_type": "code",
      "source": [
        "print('The standard deviation of hardness of Unpolished stone is ' + str(round(df['Unpolished'].std(), 2)))\n",
        "print('The standard deviation of hardness of Polished stone is ' + str(round(df['Treated and Polished'].std(), 2)))"
      ],
      "metadata": {
        "colab": {
          "base_uri": "https://localhost:8080/"
        },
        "id": "Kgvv09JFh81U",
        "outputId": "9354c0be-2e31-484b-d23a-339b6a5cad83"
      },
      "execution_count": null,
      "outputs": [
        {
          "output_type": "stream",
          "name": "stdout",
          "text": [
            "The standard deviation of hardness of Unpolished stone is 33.04\n",
            "The standard deviation of hardness of Polished stone is 15.59\n"
          ]
        }
      ]
    },
    {
      "cell_type": "markdown",
      "source": [
        "### Let's test whether the T-test assumptions are satisfied or not\n",
        "\n",
        "* Continuous data - Yes, the hardness is measured on a continuous scale.\n",
        "* Normally distributed populations - Yes, we are informed that the populations are assumed to be normal.\n",
        "* Independent populations - As we are taking random samples for two different groups, the two samples are from two independent populations.\n",
        "* Unequal population standard deviations - As the sample standard deviations are different, the population standard deviations may be assumed to be different.\n",
        "* Random sampling from the population - Yes, we are informed that the collected sample a simple random sample.\n",
        "We can use two sample T-test for this problem."
      ],
      "metadata": {
        "id": "ripVSzf2k7o0"
      }
    },
    {
      "cell_type": "markdown",
      "source": [
        "###Two Independent Sample T-test for Equality of Means - Unequal Std Dev"
      ],
      "metadata": {
        "id": "tm6NHAZWlOBP"
      }
    },
    {
      "cell_type": "markdown",
      "source": [
        "Let $\\mu_1, \\mu_2$ be the mean hardness of Unpolished stones and Polished stones respectively.\n",
        "\n",
        "We will test the null hypothesis\n",
        "\n",
        ">$H_0:\\mu_1=\\mu_2$\n",
        "\n",
        "against the alternate hypothesis\n",
        "\n",
        ">$H_a:\\mu_1\\neq\\mu_2$"
      ],
      "metadata": {
        "id": "aG-nKLsblggx"
      }
    },
    {
      "cell_type": "code",
      "source": [
        "from scipy.stats import ttest_ind\n",
        "\n",
        "# find the p-value\n",
        "test_stat, p_value = ttest_ind(df['Unpolished'], df['Treated and Polished'].dropna(), equal_var = False)\n",
        "print('The p-value is ', p_value)"
      ],
      "metadata": {
        "colab": {
          "base_uri": "https://localhost:8080/"
        },
        "id": "ACOPNiz_jK_c",
        "outputId": "c4bfc9bf-ac6c-4398-9085-5248fdc7a6e4"
      },
      "execution_count": null,
      "outputs": [
        {
          "output_type": "stream",
          "name": "stdout",
          "text": [
            "The p-value is  0.001588379295584306\n"
          ]
        }
      ]
    },
    {
      "cell_type": "markdown",
      "source": [
        "### Insight\n",
        "As the p-value (~0.001) is less than the level of significance - 0.05, we can reject the null hypothesis. Hence, we do have enough evidence to support the claim that mean hardness of polished and unpolished stones are not same."
      ],
      "metadata": {
        "id": "s0bwz1ZlmLGU"
      }
    },
    {
      "cell_type": "markdown",
      "source": [
        "#Problem 4"
      ],
      "metadata": {
        "id": "HYj-BhnOORim"
      }
    },
    {
      "cell_type": "markdown",
      "source": [
        "Dental implant data: The hardness of metal implants in dental cavities depends on multiple factors, such as the method of implant, the temperature at which the metal is treated, the alloy used as well as the dentists who may favor one method above another and may work better in his/her favorite method. The response is the variable of interest."
      ],
      "metadata": {
        "id": "taOrple_OedO"
      }
    },
    {
      "cell_type": "code",
      "source": [
        "#Read the data\n",
        "df = pd.read_excel('/content/drive/MyDrive/PGPDSA/Dental+Hardness+data.xlsx')\n",
        "#returns first 5 rows\n",
        "df.head(5)"
      ],
      "metadata": {
        "colab": {
          "base_uri": "https://localhost:8080/",
          "height": 206
        },
        "outputId": "e3b8a4d0-3fa7-4f7c-8b21-c4c9e3f6be23",
        "id": "H6LjV03CO2Ym"
      },
      "execution_count": 4,
      "outputs": [
        {
          "output_type": "execute_result",
          "data": {
            "text/plain": [
              "   Dentist  Method  Alloy  Temp  Response\n",
              "0        1       1      1  1500       813\n",
              "1        1       1      1  1600       792\n",
              "2        1       1      1  1700       792\n",
              "3        1       1      2  1500       907\n",
              "4        1       1      2  1600       792"
            ],
            "text/html": [
              "\n",
              "  <div id=\"df-271bf542-0e2b-405f-a903-9ac1f60dd589\" class=\"colab-df-container\">\n",
              "    <div>\n",
              "<style scoped>\n",
              "    .dataframe tbody tr th:only-of-type {\n",
              "        vertical-align: middle;\n",
              "    }\n",
              "\n",
              "    .dataframe tbody tr th {\n",
              "        vertical-align: top;\n",
              "    }\n",
              "\n",
              "    .dataframe thead th {\n",
              "        text-align: right;\n",
              "    }\n",
              "</style>\n",
              "<table border=\"1\" class=\"dataframe\">\n",
              "  <thead>\n",
              "    <tr style=\"text-align: right;\">\n",
              "      <th></th>\n",
              "      <th>Dentist</th>\n",
              "      <th>Method</th>\n",
              "      <th>Alloy</th>\n",
              "      <th>Temp</th>\n",
              "      <th>Response</th>\n",
              "    </tr>\n",
              "  </thead>\n",
              "  <tbody>\n",
              "    <tr>\n",
              "      <th>0</th>\n",
              "      <td>1</td>\n",
              "      <td>1</td>\n",
              "      <td>1</td>\n",
              "      <td>1500</td>\n",
              "      <td>813</td>\n",
              "    </tr>\n",
              "    <tr>\n",
              "      <th>1</th>\n",
              "      <td>1</td>\n",
              "      <td>1</td>\n",
              "      <td>1</td>\n",
              "      <td>1600</td>\n",
              "      <td>792</td>\n",
              "    </tr>\n",
              "    <tr>\n",
              "      <th>2</th>\n",
              "      <td>1</td>\n",
              "      <td>1</td>\n",
              "      <td>1</td>\n",
              "      <td>1700</td>\n",
              "      <td>792</td>\n",
              "    </tr>\n",
              "    <tr>\n",
              "      <th>3</th>\n",
              "      <td>1</td>\n",
              "      <td>1</td>\n",
              "      <td>2</td>\n",
              "      <td>1500</td>\n",
              "      <td>907</td>\n",
              "    </tr>\n",
              "    <tr>\n",
              "      <th>4</th>\n",
              "      <td>1</td>\n",
              "      <td>1</td>\n",
              "      <td>2</td>\n",
              "      <td>1600</td>\n",
              "      <td>792</td>\n",
              "    </tr>\n",
              "  </tbody>\n",
              "</table>\n",
              "</div>\n",
              "    <div class=\"colab-df-buttons\">\n",
              "\n",
              "  <div class=\"colab-df-container\">\n",
              "    <button class=\"colab-df-convert\" onclick=\"convertToInteractive('df-271bf542-0e2b-405f-a903-9ac1f60dd589')\"\n",
              "            title=\"Convert this dataframe to an interactive table.\"\n",
              "            style=\"display:none;\">\n",
              "\n",
              "  <svg xmlns=\"http://www.w3.org/2000/svg\" height=\"24px\" viewBox=\"0 -960 960 960\">\n",
              "    <path d=\"M120-120v-720h720v720H120Zm60-500h600v-160H180v160Zm220 220h160v-160H400v160Zm0 220h160v-160H400v160ZM180-400h160v-160H180v160Zm440 0h160v-160H620v160ZM180-180h160v-160H180v160Zm440 0h160v-160H620v160Z\"/>\n",
              "  </svg>\n",
              "    </button>\n",
              "\n",
              "  <style>\n",
              "    .colab-df-container {\n",
              "      display:flex;\n",
              "      gap: 12px;\n",
              "    }\n",
              "\n",
              "    .colab-df-convert {\n",
              "      background-color: #E8F0FE;\n",
              "      border: none;\n",
              "      border-radius: 50%;\n",
              "      cursor: pointer;\n",
              "      display: none;\n",
              "      fill: #1967D2;\n",
              "      height: 32px;\n",
              "      padding: 0 0 0 0;\n",
              "      width: 32px;\n",
              "    }\n",
              "\n",
              "    .colab-df-convert:hover {\n",
              "      background-color: #E2EBFA;\n",
              "      box-shadow: 0px 1px 2px rgba(60, 64, 67, 0.3), 0px 1px 3px 1px rgba(60, 64, 67, 0.15);\n",
              "      fill: #174EA6;\n",
              "    }\n",
              "\n",
              "    .colab-df-buttons div {\n",
              "      margin-bottom: 4px;\n",
              "    }\n",
              "\n",
              "    [theme=dark] .colab-df-convert {\n",
              "      background-color: #3B4455;\n",
              "      fill: #D2E3FC;\n",
              "    }\n",
              "\n",
              "    [theme=dark] .colab-df-convert:hover {\n",
              "      background-color: #434B5C;\n",
              "      box-shadow: 0px 1px 3px 1px rgba(0, 0, 0, 0.15);\n",
              "      filter: drop-shadow(0px 1px 2px rgba(0, 0, 0, 0.3));\n",
              "      fill: #FFFFFF;\n",
              "    }\n",
              "  </style>\n",
              "\n",
              "    <script>\n",
              "      const buttonEl =\n",
              "        document.querySelector('#df-271bf542-0e2b-405f-a903-9ac1f60dd589 button.colab-df-convert');\n",
              "      buttonEl.style.display =\n",
              "        google.colab.kernel.accessAllowed ? 'block' : 'none';\n",
              "\n",
              "      async function convertToInteractive(key) {\n",
              "        const element = document.querySelector('#df-271bf542-0e2b-405f-a903-9ac1f60dd589');\n",
              "        const dataTable =\n",
              "          await google.colab.kernel.invokeFunction('convertToInteractive',\n",
              "                                                    [key], {});\n",
              "        if (!dataTable) return;\n",
              "\n",
              "        const docLinkHtml = 'Like what you see? Visit the ' +\n",
              "          '<a target=\"_blank\" href=https://colab.research.google.com/notebooks/data_table.ipynb>data table notebook</a>'\n",
              "          + ' to learn more about interactive tables.';\n",
              "        element.innerHTML = '';\n",
              "        dataTable['output_type'] = 'display_data';\n",
              "        await google.colab.output.renderOutput(dataTable, element);\n",
              "        const docLink = document.createElement('div');\n",
              "        docLink.innerHTML = docLinkHtml;\n",
              "        element.appendChild(docLink);\n",
              "      }\n",
              "    </script>\n",
              "  </div>\n",
              "\n",
              "\n",
              "<div id=\"df-2b3548e6-7b45-4037-b535-5749b368343f\">\n",
              "  <button class=\"colab-df-quickchart\" onclick=\"quickchart('df-2b3548e6-7b45-4037-b535-5749b368343f')\"\n",
              "            title=\"Suggest charts\"\n",
              "            style=\"display:none;\">\n",
              "\n",
              "<svg xmlns=\"http://www.w3.org/2000/svg\" height=\"24px\"viewBox=\"0 0 24 24\"\n",
              "     width=\"24px\">\n",
              "    <g>\n",
              "        <path d=\"M19 3H5c-1.1 0-2 .9-2 2v14c0 1.1.9 2 2 2h14c1.1 0 2-.9 2-2V5c0-1.1-.9-2-2-2zM9 17H7v-7h2v7zm4 0h-2V7h2v10zm4 0h-2v-4h2v4z\"/>\n",
              "    </g>\n",
              "</svg>\n",
              "  </button>\n",
              "\n",
              "<style>\n",
              "  .colab-df-quickchart {\n",
              "      --bg-color: #E8F0FE;\n",
              "      --fill-color: #1967D2;\n",
              "      --hover-bg-color: #E2EBFA;\n",
              "      --hover-fill-color: #174EA6;\n",
              "      --disabled-fill-color: #AAA;\n",
              "      --disabled-bg-color: #DDD;\n",
              "  }\n",
              "\n",
              "  [theme=dark] .colab-df-quickchart {\n",
              "      --bg-color: #3B4455;\n",
              "      --fill-color: #D2E3FC;\n",
              "      --hover-bg-color: #434B5C;\n",
              "      --hover-fill-color: #FFFFFF;\n",
              "      --disabled-bg-color: #3B4455;\n",
              "      --disabled-fill-color: #666;\n",
              "  }\n",
              "\n",
              "  .colab-df-quickchart {\n",
              "    background-color: var(--bg-color);\n",
              "    border: none;\n",
              "    border-radius: 50%;\n",
              "    cursor: pointer;\n",
              "    display: none;\n",
              "    fill: var(--fill-color);\n",
              "    height: 32px;\n",
              "    padding: 0;\n",
              "    width: 32px;\n",
              "  }\n",
              "\n",
              "  .colab-df-quickchart:hover {\n",
              "    background-color: var(--hover-bg-color);\n",
              "    box-shadow: 0 1px 2px rgba(60, 64, 67, 0.3), 0 1px 3px 1px rgba(60, 64, 67, 0.15);\n",
              "    fill: var(--button-hover-fill-color);\n",
              "  }\n",
              "\n",
              "  .colab-df-quickchart-complete:disabled,\n",
              "  .colab-df-quickchart-complete:disabled:hover {\n",
              "    background-color: var(--disabled-bg-color);\n",
              "    fill: var(--disabled-fill-color);\n",
              "    box-shadow: none;\n",
              "  }\n",
              "\n",
              "  .colab-df-spinner {\n",
              "    border: 2px solid var(--fill-color);\n",
              "    border-color: transparent;\n",
              "    border-bottom-color: var(--fill-color);\n",
              "    animation:\n",
              "      spin 1s steps(1) infinite;\n",
              "  }\n",
              "\n",
              "  @keyframes spin {\n",
              "    0% {\n",
              "      border-color: transparent;\n",
              "      border-bottom-color: var(--fill-color);\n",
              "      border-left-color: var(--fill-color);\n",
              "    }\n",
              "    20% {\n",
              "      border-color: transparent;\n",
              "      border-left-color: var(--fill-color);\n",
              "      border-top-color: var(--fill-color);\n",
              "    }\n",
              "    30% {\n",
              "      border-color: transparent;\n",
              "      border-left-color: var(--fill-color);\n",
              "      border-top-color: var(--fill-color);\n",
              "      border-right-color: var(--fill-color);\n",
              "    }\n",
              "    40% {\n",
              "      border-color: transparent;\n",
              "      border-right-color: var(--fill-color);\n",
              "      border-top-color: var(--fill-color);\n",
              "    }\n",
              "    60% {\n",
              "      border-color: transparent;\n",
              "      border-right-color: var(--fill-color);\n",
              "    }\n",
              "    80% {\n",
              "      border-color: transparent;\n",
              "      border-right-color: var(--fill-color);\n",
              "      border-bottom-color: var(--fill-color);\n",
              "    }\n",
              "    90% {\n",
              "      border-color: transparent;\n",
              "      border-bottom-color: var(--fill-color);\n",
              "    }\n",
              "  }\n",
              "</style>\n",
              "\n",
              "  <script>\n",
              "    async function quickchart(key) {\n",
              "      const quickchartButtonEl =\n",
              "        document.querySelector('#' + key + ' button');\n",
              "      quickchartButtonEl.disabled = true;  // To prevent multiple clicks.\n",
              "      quickchartButtonEl.classList.add('colab-df-spinner');\n",
              "      try {\n",
              "        const charts = await google.colab.kernel.invokeFunction(\n",
              "            'suggestCharts', [key], {});\n",
              "      } catch (error) {\n",
              "        console.error('Error during call to suggestCharts:', error);\n",
              "      }\n",
              "      quickchartButtonEl.classList.remove('colab-df-spinner');\n",
              "      quickchartButtonEl.classList.add('colab-df-quickchart-complete');\n",
              "    }\n",
              "    (() => {\n",
              "      let quickchartButtonEl =\n",
              "        document.querySelector('#df-2b3548e6-7b45-4037-b535-5749b368343f button');\n",
              "      quickchartButtonEl.style.display =\n",
              "        google.colab.kernel.accessAllowed ? 'block' : 'none';\n",
              "    })();\n",
              "  </script>\n",
              "</div>\n",
              "\n",
              "    </div>\n",
              "  </div>\n"
            ],
            "application/vnd.google.colaboratory.intrinsic+json": {
              "type": "dataframe",
              "variable_name": "df",
              "summary": "{\n  \"name\": \"df\",\n  \"rows\": 90,\n  \"fields\": [\n    {\n      \"column\": \"Dentist\",\n      \"properties\": {\n        \"dtype\": \"number\",\n        \"std\": 1,\n        \"min\": 1,\n        \"max\": 5,\n        \"num_unique_values\": 5,\n        \"samples\": [\n          2,\n          5,\n          3\n        ],\n        \"semantic_type\": \"\",\n        \"description\": \"\"\n      }\n    },\n    {\n      \"column\": \"Method\",\n      \"properties\": {\n        \"dtype\": \"number\",\n        \"std\": 0,\n        \"min\": 1,\n        \"max\": 3,\n        \"num_unique_values\": 3,\n        \"samples\": [\n          1,\n          2,\n          3\n        ],\n        \"semantic_type\": \"\",\n        \"description\": \"\"\n      }\n    },\n    {\n      \"column\": \"Alloy\",\n      \"properties\": {\n        \"dtype\": \"number\",\n        \"std\": 0,\n        \"min\": 1,\n        \"max\": 2,\n        \"num_unique_values\": 2,\n        \"samples\": [\n          2,\n          1\n        ],\n        \"semantic_type\": \"\",\n        \"description\": \"\"\n      }\n    },\n    {\n      \"column\": \"Temp\",\n      \"properties\": {\n        \"dtype\": \"number\",\n        \"std\": 82,\n        \"min\": 1500,\n        \"max\": 1700,\n        \"num_unique_values\": 3,\n        \"samples\": [\n          1500,\n          1600\n        ],\n        \"semantic_type\": \"\",\n        \"description\": \"\"\n      }\n    },\n    {\n      \"column\": \"Response\",\n      \"properties\": {\n        \"dtype\": \"number\",\n        \"std\": 145,\n        \"min\": 289,\n        \"max\": 1115,\n        \"num_unique_values\": 41,\n        \"samples\": [\n          681,\n          585\n        ],\n        \"semantic_type\": \"\",\n        \"description\": \"\"\n      }\n    }\n  ]\n}"
            }
          },
          "metadata": {},
          "execution_count": 4
        }
      ]
    },
    {
      "cell_type": "markdown",
      "source": [
        "## Data Overview"
      ],
      "metadata": {
        "id": "AOZSHq-tO2Yy"
      }
    },
    {
      "cell_type": "markdown",
      "source": [
        "###1. Structure of Data"
      ],
      "metadata": {
        "id": "-KKl4-GoO2Yy"
      }
    },
    {
      "cell_type": "code",
      "source": [
        "df.shape"
      ],
      "metadata": {
        "colab": {
          "base_uri": "https://localhost:8080/"
        },
        "outputId": "eeb5c47c-239e-4007-8a6f-09a4f1bac0bf",
        "id": "8KlkY36pO2Yy"
      },
      "execution_count": 5,
      "outputs": [
        {
          "output_type": "execute_result",
          "data": {
            "text/plain": [
              "(90, 5)"
            ]
          },
          "metadata": {},
          "execution_count": 5
        }
      ]
    },
    {
      "cell_type": "markdown",
      "source": [
        "###2. Type of Data"
      ],
      "metadata": {
        "id": "WeigaIxVO2Yz"
      }
    },
    {
      "cell_type": "code",
      "source": [
        "df.info()"
      ],
      "metadata": {
        "colab": {
          "base_uri": "https://localhost:8080/"
        },
        "outputId": "b8b0cc75-7a6c-4b56-83f5-15d3801a3be6",
        "id": "7xssI1p_O2Yz"
      },
      "execution_count": 6,
      "outputs": [
        {
          "output_type": "stream",
          "name": "stdout",
          "text": [
            "<class 'pandas.core.frame.DataFrame'>\n",
            "RangeIndex: 90 entries, 0 to 89\n",
            "Data columns (total 5 columns):\n",
            " #   Column    Non-Null Count  Dtype\n",
            "---  ------    --------------  -----\n",
            " 0   Dentist   90 non-null     int64\n",
            " 1   Method    90 non-null     int64\n",
            " 2   Alloy     90 non-null     int64\n",
            " 3   Temp      90 non-null     int64\n",
            " 4   Response  90 non-null     int64\n",
            "dtypes: int64(5)\n",
            "memory usage: 3.6 KB\n"
          ]
        }
      ]
    },
    {
      "cell_type": "markdown",
      "source": [
        "###3. Missing values treatment"
      ],
      "metadata": {
        "id": "PcLx5qJKO2Yz"
      }
    },
    {
      "cell_type": "code",
      "source": [
        "df.isnull().sum()"
      ],
      "metadata": {
        "colab": {
          "base_uri": "https://localhost:8080/"
        },
        "outputId": "b0259ca5-7a4a-4a1b-ee5b-589b19773322",
        "id": "XYlK8A2iO2Yz"
      },
      "execution_count": 7,
      "outputs": [
        {
          "output_type": "execute_result",
          "data": {
            "text/plain": [
              "Dentist     0\n",
              "Method      0\n",
              "Alloy       0\n",
              "Temp        0\n",
              "Response    0\n",
              "dtype: int64"
            ]
          },
          "metadata": {},
          "execution_count": 7
        }
      ]
    },
    {
      "cell_type": "markdown",
      "source": [
        "###4. Data Duplicates"
      ],
      "metadata": {
        "id": "PtJT3b31O2Yz"
      }
    },
    {
      "cell_type": "code",
      "source": [
        "df.duplicated().sum()"
      ],
      "metadata": {
        "colab": {
          "base_uri": "https://localhost:8080/"
        },
        "outputId": "31f68500-47ed-430c-b2fd-aaff9e11080d",
        "id": "gAgV4smMO2Yz"
      },
      "execution_count": 8,
      "outputs": [
        {
          "output_type": "execute_result",
          "data": {
            "text/plain": [
              "0"
            ]
          },
          "metadata": {},
          "execution_count": 8
        }
      ]
    },
    {
      "cell_type": "markdown",
      "source": [
        "###5. Statistical Summary"
      ],
      "metadata": {
        "id": "QGJqyMozO2Yz"
      }
    },
    {
      "cell_type": "code",
      "source": [
        "df.describe().T"
      ],
      "metadata": {
        "colab": {
          "base_uri": "https://localhost:8080/",
          "height": 206
        },
        "outputId": "1d628ca5-ae45-492c-d9fb-d744604f7a17",
        "id": "e6FaxU-RO2Y0"
      },
      "execution_count": 9,
      "outputs": [
        {
          "output_type": "execute_result",
          "data": {
            "text/plain": [
              "          count     mean     std      min      25%      50%      75%      max\n",
              "Dentist  90.000    3.000   1.422    1.000    2.000    3.000    4.000    5.000\n",
              "Method   90.000    2.000   0.821    1.000    1.000    2.000    3.000    3.000\n",
              "Alloy    90.000    1.500   0.503    1.000    1.000    1.500    2.000    2.000\n",
              "Temp     90.000 1600.000  82.107 1500.000 1500.000 1600.000 1700.000 1700.000\n",
              "Response 90.000  741.778 145.768  289.000  698.000  767.000  824.000 1115.000"
            ],
            "text/html": [
              "\n",
              "  <div id=\"df-c3d74f78-d1b1-4772-b5c5-0d87634ce6bd\" class=\"colab-df-container\">\n",
              "    <div>\n",
              "<style scoped>\n",
              "    .dataframe tbody tr th:only-of-type {\n",
              "        vertical-align: middle;\n",
              "    }\n",
              "\n",
              "    .dataframe tbody tr th {\n",
              "        vertical-align: top;\n",
              "    }\n",
              "\n",
              "    .dataframe thead th {\n",
              "        text-align: right;\n",
              "    }\n",
              "</style>\n",
              "<table border=\"1\" class=\"dataframe\">\n",
              "  <thead>\n",
              "    <tr style=\"text-align: right;\">\n",
              "      <th></th>\n",
              "      <th>count</th>\n",
              "      <th>mean</th>\n",
              "      <th>std</th>\n",
              "      <th>min</th>\n",
              "      <th>25%</th>\n",
              "      <th>50%</th>\n",
              "      <th>75%</th>\n",
              "      <th>max</th>\n",
              "    </tr>\n",
              "  </thead>\n",
              "  <tbody>\n",
              "    <tr>\n",
              "      <th>Dentist</th>\n",
              "      <td>90.000</td>\n",
              "      <td>3.000</td>\n",
              "      <td>1.422</td>\n",
              "      <td>1.000</td>\n",
              "      <td>2.000</td>\n",
              "      <td>3.000</td>\n",
              "      <td>4.000</td>\n",
              "      <td>5.000</td>\n",
              "    </tr>\n",
              "    <tr>\n",
              "      <th>Method</th>\n",
              "      <td>90.000</td>\n",
              "      <td>2.000</td>\n",
              "      <td>0.821</td>\n",
              "      <td>1.000</td>\n",
              "      <td>1.000</td>\n",
              "      <td>2.000</td>\n",
              "      <td>3.000</td>\n",
              "      <td>3.000</td>\n",
              "    </tr>\n",
              "    <tr>\n",
              "      <th>Alloy</th>\n",
              "      <td>90.000</td>\n",
              "      <td>1.500</td>\n",
              "      <td>0.503</td>\n",
              "      <td>1.000</td>\n",
              "      <td>1.000</td>\n",
              "      <td>1.500</td>\n",
              "      <td>2.000</td>\n",
              "      <td>2.000</td>\n",
              "    </tr>\n",
              "    <tr>\n",
              "      <th>Temp</th>\n",
              "      <td>90.000</td>\n",
              "      <td>1600.000</td>\n",
              "      <td>82.107</td>\n",
              "      <td>1500.000</td>\n",
              "      <td>1500.000</td>\n",
              "      <td>1600.000</td>\n",
              "      <td>1700.000</td>\n",
              "      <td>1700.000</td>\n",
              "    </tr>\n",
              "    <tr>\n",
              "      <th>Response</th>\n",
              "      <td>90.000</td>\n",
              "      <td>741.778</td>\n",
              "      <td>145.768</td>\n",
              "      <td>289.000</td>\n",
              "      <td>698.000</td>\n",
              "      <td>767.000</td>\n",
              "      <td>824.000</td>\n",
              "      <td>1115.000</td>\n",
              "    </tr>\n",
              "  </tbody>\n",
              "</table>\n",
              "</div>\n",
              "    <div class=\"colab-df-buttons\">\n",
              "\n",
              "  <div class=\"colab-df-container\">\n",
              "    <button class=\"colab-df-convert\" onclick=\"convertToInteractive('df-c3d74f78-d1b1-4772-b5c5-0d87634ce6bd')\"\n",
              "            title=\"Convert this dataframe to an interactive table.\"\n",
              "            style=\"display:none;\">\n",
              "\n",
              "  <svg xmlns=\"http://www.w3.org/2000/svg\" height=\"24px\" viewBox=\"0 -960 960 960\">\n",
              "    <path d=\"M120-120v-720h720v720H120Zm60-500h600v-160H180v160Zm220 220h160v-160H400v160Zm0 220h160v-160H400v160ZM180-400h160v-160H180v160Zm440 0h160v-160H620v160ZM180-180h160v-160H180v160Zm440 0h160v-160H620v160Z\"/>\n",
              "  </svg>\n",
              "    </button>\n",
              "\n",
              "  <style>\n",
              "    .colab-df-container {\n",
              "      display:flex;\n",
              "      gap: 12px;\n",
              "    }\n",
              "\n",
              "    .colab-df-convert {\n",
              "      background-color: #E8F0FE;\n",
              "      border: none;\n",
              "      border-radius: 50%;\n",
              "      cursor: pointer;\n",
              "      display: none;\n",
              "      fill: #1967D2;\n",
              "      height: 32px;\n",
              "      padding: 0 0 0 0;\n",
              "      width: 32px;\n",
              "    }\n",
              "\n",
              "    .colab-df-convert:hover {\n",
              "      background-color: #E2EBFA;\n",
              "      box-shadow: 0px 1px 2px rgba(60, 64, 67, 0.3), 0px 1px 3px 1px rgba(60, 64, 67, 0.15);\n",
              "      fill: #174EA6;\n",
              "    }\n",
              "\n",
              "    .colab-df-buttons div {\n",
              "      margin-bottom: 4px;\n",
              "    }\n",
              "\n",
              "    [theme=dark] .colab-df-convert {\n",
              "      background-color: #3B4455;\n",
              "      fill: #D2E3FC;\n",
              "    }\n",
              "\n",
              "    [theme=dark] .colab-df-convert:hover {\n",
              "      background-color: #434B5C;\n",
              "      box-shadow: 0px 1px 3px 1px rgba(0, 0, 0, 0.15);\n",
              "      filter: drop-shadow(0px 1px 2px rgba(0, 0, 0, 0.3));\n",
              "      fill: #FFFFFF;\n",
              "    }\n",
              "  </style>\n",
              "\n",
              "    <script>\n",
              "      const buttonEl =\n",
              "        document.querySelector('#df-c3d74f78-d1b1-4772-b5c5-0d87634ce6bd button.colab-df-convert');\n",
              "      buttonEl.style.display =\n",
              "        google.colab.kernel.accessAllowed ? 'block' : 'none';\n",
              "\n",
              "      async function convertToInteractive(key) {\n",
              "        const element = document.querySelector('#df-c3d74f78-d1b1-4772-b5c5-0d87634ce6bd');\n",
              "        const dataTable =\n",
              "          await google.colab.kernel.invokeFunction('convertToInteractive',\n",
              "                                                    [key], {});\n",
              "        if (!dataTable) return;\n",
              "\n",
              "        const docLinkHtml = 'Like what you see? Visit the ' +\n",
              "          '<a target=\"_blank\" href=https://colab.research.google.com/notebooks/data_table.ipynb>data table notebook</a>'\n",
              "          + ' to learn more about interactive tables.';\n",
              "        element.innerHTML = '';\n",
              "        dataTable['output_type'] = 'display_data';\n",
              "        await google.colab.output.renderOutput(dataTable, element);\n",
              "        const docLink = document.createElement('div');\n",
              "        docLink.innerHTML = docLinkHtml;\n",
              "        element.appendChild(docLink);\n",
              "      }\n",
              "    </script>\n",
              "  </div>\n",
              "\n",
              "\n",
              "<div id=\"df-bd6d0593-76c1-4103-b74c-16421d2437d6\">\n",
              "  <button class=\"colab-df-quickchart\" onclick=\"quickchart('df-bd6d0593-76c1-4103-b74c-16421d2437d6')\"\n",
              "            title=\"Suggest charts\"\n",
              "            style=\"display:none;\">\n",
              "\n",
              "<svg xmlns=\"http://www.w3.org/2000/svg\" height=\"24px\"viewBox=\"0 0 24 24\"\n",
              "     width=\"24px\">\n",
              "    <g>\n",
              "        <path d=\"M19 3H5c-1.1 0-2 .9-2 2v14c0 1.1.9 2 2 2h14c1.1 0 2-.9 2-2V5c0-1.1-.9-2-2-2zM9 17H7v-7h2v7zm4 0h-2V7h2v10zm4 0h-2v-4h2v4z\"/>\n",
              "    </g>\n",
              "</svg>\n",
              "  </button>\n",
              "\n",
              "<style>\n",
              "  .colab-df-quickchart {\n",
              "      --bg-color: #E8F0FE;\n",
              "      --fill-color: #1967D2;\n",
              "      --hover-bg-color: #E2EBFA;\n",
              "      --hover-fill-color: #174EA6;\n",
              "      --disabled-fill-color: #AAA;\n",
              "      --disabled-bg-color: #DDD;\n",
              "  }\n",
              "\n",
              "  [theme=dark] .colab-df-quickchart {\n",
              "      --bg-color: #3B4455;\n",
              "      --fill-color: #D2E3FC;\n",
              "      --hover-bg-color: #434B5C;\n",
              "      --hover-fill-color: #FFFFFF;\n",
              "      --disabled-bg-color: #3B4455;\n",
              "      --disabled-fill-color: #666;\n",
              "  }\n",
              "\n",
              "  .colab-df-quickchart {\n",
              "    background-color: var(--bg-color);\n",
              "    border: none;\n",
              "    border-radius: 50%;\n",
              "    cursor: pointer;\n",
              "    display: none;\n",
              "    fill: var(--fill-color);\n",
              "    height: 32px;\n",
              "    padding: 0;\n",
              "    width: 32px;\n",
              "  }\n",
              "\n",
              "  .colab-df-quickchart:hover {\n",
              "    background-color: var(--hover-bg-color);\n",
              "    box-shadow: 0 1px 2px rgba(60, 64, 67, 0.3), 0 1px 3px 1px rgba(60, 64, 67, 0.15);\n",
              "    fill: var(--button-hover-fill-color);\n",
              "  }\n",
              "\n",
              "  .colab-df-quickchart-complete:disabled,\n",
              "  .colab-df-quickchart-complete:disabled:hover {\n",
              "    background-color: var(--disabled-bg-color);\n",
              "    fill: var(--disabled-fill-color);\n",
              "    box-shadow: none;\n",
              "  }\n",
              "\n",
              "  .colab-df-spinner {\n",
              "    border: 2px solid var(--fill-color);\n",
              "    border-color: transparent;\n",
              "    border-bottom-color: var(--fill-color);\n",
              "    animation:\n",
              "      spin 1s steps(1) infinite;\n",
              "  }\n",
              "\n",
              "  @keyframes spin {\n",
              "    0% {\n",
              "      border-color: transparent;\n",
              "      border-bottom-color: var(--fill-color);\n",
              "      border-left-color: var(--fill-color);\n",
              "    }\n",
              "    20% {\n",
              "      border-color: transparent;\n",
              "      border-left-color: var(--fill-color);\n",
              "      border-top-color: var(--fill-color);\n",
              "    }\n",
              "    30% {\n",
              "      border-color: transparent;\n",
              "      border-left-color: var(--fill-color);\n",
              "      border-top-color: var(--fill-color);\n",
              "      border-right-color: var(--fill-color);\n",
              "    }\n",
              "    40% {\n",
              "      border-color: transparent;\n",
              "      border-right-color: var(--fill-color);\n",
              "      border-top-color: var(--fill-color);\n",
              "    }\n",
              "    60% {\n",
              "      border-color: transparent;\n",
              "      border-right-color: var(--fill-color);\n",
              "    }\n",
              "    80% {\n",
              "      border-color: transparent;\n",
              "      border-right-color: var(--fill-color);\n",
              "      border-bottom-color: var(--fill-color);\n",
              "    }\n",
              "    90% {\n",
              "      border-color: transparent;\n",
              "      border-bottom-color: var(--fill-color);\n",
              "    }\n",
              "  }\n",
              "</style>\n",
              "\n",
              "  <script>\n",
              "    async function quickchart(key) {\n",
              "      const quickchartButtonEl =\n",
              "        document.querySelector('#' + key + ' button');\n",
              "      quickchartButtonEl.disabled = true;  // To prevent multiple clicks.\n",
              "      quickchartButtonEl.classList.add('colab-df-spinner');\n",
              "      try {\n",
              "        const charts = await google.colab.kernel.invokeFunction(\n",
              "            'suggestCharts', [key], {});\n",
              "      } catch (error) {\n",
              "        console.error('Error during call to suggestCharts:', error);\n",
              "      }\n",
              "      quickchartButtonEl.classList.remove('colab-df-spinner');\n",
              "      quickchartButtonEl.classList.add('colab-df-quickchart-complete');\n",
              "    }\n",
              "    (() => {\n",
              "      let quickchartButtonEl =\n",
              "        document.querySelector('#df-bd6d0593-76c1-4103-b74c-16421d2437d6 button');\n",
              "      quickchartButtonEl.style.display =\n",
              "        google.colab.kernel.accessAllowed ? 'block' : 'none';\n",
              "    })();\n",
              "  </script>\n",
              "</div>\n",
              "\n",
              "    </div>\n",
              "  </div>\n"
            ],
            "application/vnd.google.colaboratory.intrinsic+json": {
              "type": "dataframe",
              "summary": "{\n  \"name\": \"df\",\n  \"rows\": 5,\n  \"fields\": [\n    {\n      \"column\": \"count\",\n      \"properties\": {\n        \"dtype\": \"number\",\n        \"std\": 0.0,\n        \"min\": 90.0,\n        \"max\": 90.0,\n        \"num_unique_values\": 1,\n        \"samples\": [\n          90.0\n        ],\n        \"semantic_type\": \"\",\n        \"description\": \"\"\n      }\n    },\n    {\n      \"column\": \"mean\",\n      \"properties\": {\n        \"dtype\": \"number\",\n        \"std\": 708.4080422475366,\n        \"min\": 1.5,\n        \"max\": 1600.0,\n        \"num_unique_values\": 5,\n        \"samples\": [\n          2.0\n        ],\n        \"semantic_type\": \"\",\n        \"description\": \"\"\n      }\n    },\n    {\n      \"column\": \"std\",\n      \"properties\": {\n        \"dtype\": \"number\",\n        \"std\": 65.87029660334653,\n        \"min\": 0.5028011423654932,\n        \"max\": 145.76784511394666,\n        \"num_unique_values\": 5,\n        \"samples\": [\n          0.82107082725596\n        ],\n        \"semantic_type\": \"\",\n        \"description\": \"\"\n      }\n    },\n    {\n      \"column\": \"min\",\n      \"properties\": {\n        \"dtype\": \"number\",\n        \"std\": 650.2444155854013,\n        \"min\": 1.0,\n        \"max\": 1500.0,\n        \"num_unique_values\": 3,\n        \"samples\": [\n          1.0\n        ],\n        \"semantic_type\": \"\",\n        \"description\": \"\"\n      }\n    },\n    {\n      \"column\": \"25%\",\n      \"properties\": {\n        \"dtype\": \"number\",\n        \"std\": 664.7272372936135,\n        \"min\": 1.0,\n        \"max\": 1500.0,\n        \"num_unique_values\": 4,\n        \"samples\": [\n          1.0\n        ],\n        \"semantic_type\": \"\",\n        \"description\": \"\"\n      }\n    },\n    {\n      \"column\": \"50%\",\n      \"properties\": {\n        \"dtype\": \"number\",\n        \"std\": 710.9155716398396,\n        \"min\": 1.5,\n        \"max\": 1600.0,\n        \"num_unique_values\": 5,\n        \"samples\": [\n          2.0\n        ],\n        \"semantic_type\": \"\",\n        \"description\": \"\"\n      }\n    },\n    {\n      \"column\": \"75%\",\n      \"properties\": {\n        \"dtype\": \"number\",\n        \"std\": 755.9410029889899,\n        \"min\": 2.0,\n        \"max\": 1700.0,\n        \"num_unique_values\": 5,\n        \"samples\": [\n          3.0\n        ],\n        \"semantic_type\": \"\",\n        \"description\": \"\"\n      }\n    },\n    {\n      \"column\": \"max\",\n      \"properties\": {\n        \"dtype\": \"number\",\n        \"std\": 796.4198013610661,\n        \"min\": 2.0,\n        \"max\": 1700.0,\n        \"num_unique_values\": 5,\n        \"samples\": [\n          3.0\n        ],\n        \"semantic_type\": \"\",\n        \"description\": \"\"\n      }\n    }\n  ]\n}"
            }
          },
          "metadata": {},
          "execution_count": 9
        }
      ]
    },
    {
      "cell_type": "markdown",
      "source": [
        "##Univariate Analysis"
      ],
      "metadata": {
        "id": "7_3fOqejYUKp"
      }
    },
    {
      "cell_type": "code",
      "source": [
        "plt.figure(figsize=(10, 6))\n",
        "sns.histplot(df['Response'], bins=20, kde=True)\n",
        "plt.title('Distribution of Response')\n",
        "plt.xlabel('Response')\n",
        "plt.ylabel('Frequency')\n",
        "plt.show()"
      ],
      "metadata": {
        "colab": {
          "base_uri": "https://localhost:8080/",
          "height": 564
        },
        "id": "GdCf_hVZYZBP",
        "outputId": "2c5bd256-3a30-4760-b347-bb5b579540da"
      },
      "execution_count": 10,
      "outputs": [
        {
          "output_type": "display_data",
          "data": {
            "text/plain": [
              "<Figure size 1000x600 with 1 Axes>"
            ],
            "image/png": "[encoded data removed]"
          },
          "metadata": {}
        }
      ]
    },
    {
      "cell_type": "markdown",
      "source": [
        "##Bivariate Analysis"
      ],
      "metadata": {
        "id": "DUI6qQ5XQfKa"
      }
    },
    {
      "cell_type": "markdown",
      "source": [
        "###Heat Map"
      ],
      "metadata": {
        "id": "uFQ-7i4gQfKi"
      }
    },
    {
      "cell_type": "code",
      "source": [
        "correlation_matrix = df.corr()\n",
        "sns.heatmap(correlation_matrix, annot=True, cmap='coolwarm')\n",
        "plt.title('Correlation Matrix')\n",
        "plt.show()"
      ],
      "metadata": {
        "colab": {
          "base_uri": "https://localhost:8080/",
          "height": 452
        },
        "id": "n-vZP5PKOQD5",
        "outputId": "ef8e9e03-c885-4cfa-ecf0-678efef3ef8b"
      },
      "execution_count": 11,
      "outputs": [
        {
          "output_type": "display_data",
          "data": {
            "text/plain": [
              "<Figure size 640x480 with 2 Axes>"
            ],
            "image/png": "[encoded data removed]"
          },
          "metadata": {}
        }
      ]
    },
    {
      "cell_type": "markdown",
      "source": [
        "###Boxplots"
      ],
      "metadata": {
        "id": "vPTzOjJ3Y1PC"
      }
    },
    {
      "cell_type": "markdown",
      "source": [
        "Dentist vs Response"
      ],
      "metadata": {
        "id": "_jQEy4OaY9wX"
      }
    },
    {
      "cell_type": "code",
      "source": [
        "plt.figure(figsize=(10, 6))\n",
        "sns.boxplot(x='Dentist', y='Response', data=df)\n",
        "plt.title('Response by Dentist')\n",
        "plt.show()"
      ],
      "metadata": {
        "colab": {
          "base_uri": "https://localhost:8080/",
          "height": 564
        },
        "id": "naKAjUwSZCZX",
        "outputId": "4ca964a5-73da-40ec-d8d0-ac91e20b4292"
      },
      "execution_count": 12,
      "outputs": [
        {
          "output_type": "display_data",
          "data": {
            "text/plain": [
              "<Figure size 1000x600 with 1 Axes>"
            ],
            "image/png": "[encoded data removed]"
          },
          "metadata": {}
        }
      ]
    },
    {
      "cell_type": "markdown",
      "source": [
        "Method vs Response"
      ],
      "metadata": {
        "id": "Oxj9E5SWZDhT"
      }
    },
    {
      "cell_type": "code",
      "source": [
        "plt.figure(figsize=(8, 4))\n",
        "sns.boxplot(x='Method', y='Response', data=df)\n",
        "plt.title('Response by Method')\n",
        "plt.show()"
      ],
      "metadata": {
        "colab": {
          "base_uri": "https://localhost:8080/",
          "height": 410
        },
        "id": "fvkcp-oSZKAJ",
        "outputId": "4384eaba-0740-49da-ec88-f3354a0a46fa"
      },
      "execution_count": 13,
      "outputs": [
        {
          "output_type": "display_data",
          "data": {
            "text/plain": [
              "<Figure size 800x400 with 1 Axes>"
            ],
            "image/png": "[encoded data removed]"
          },
          "metadata": {}
        }
      ]
    },
    {
      "cell_type": "markdown",
      "source": [
        "Alloy vs Response"
      ],
      "metadata": {
        "id": "vLjgrhzwZwZ9"
      }
    },
    {
      "cell_type": "code",
      "source": [
        "plt.figure(figsize=(8, 4))\n",
        "sns.boxplot(x='Alloy', y='Response', data=df)\n",
        "plt.title('Response by Alloy')\n",
        "plt.show()"
      ],
      "metadata": {
        "colab": {
          "base_uri": "https://localhost:8080/",
          "height": 410
        },
        "id": "_I9tGyptZ0Gn",
        "outputId": "47c60862-b990-414a-ecbb-c9bd914f5e3e"
      },
      "execution_count": 14,
      "outputs": [
        {
          "output_type": "display_data",
          "data": {
            "text/plain": [
              "<Figure size 800x400 with 1 Axes>"
            ],
            "image/png": "[encoded data removed]"
          },
          "metadata": {}
        }
      ]
    },
    {
      "cell_type": "markdown",
      "source": [
        "Temp vs Response"
      ],
      "metadata": {
        "id": "ej0ez-auZ8zq"
      }
    },
    {
      "cell_type": "code",
      "source": [
        "plt.figure(figsize=(8, 4))\n",
        "sns.boxplot(x='Temp', y='Response', data=df)\n",
        "plt.title('Response by Temp')\n",
        "plt.show()"
      ],
      "metadata": {
        "id": "tyIaQ-0ql-oM",
        "colab": {
          "base_uri": "https://localhost:8080/",
          "height": 410
        },
        "outputId": "ac92fa82-2e90-4595-f7ec-c6a312d2025e"
      },
      "execution_count": 15,
      "outputs": [
        {
          "output_type": "display_data",
          "data": {
            "text/plain": [
              "<Figure size 800x400 with 1 Axes>"
            ],
            "image/png": "[encoded data removed]"
          },
          "metadata": {}
        }
      ]
    },
    {
      "cell_type": "markdown",
      "source": [
        "##Question 4.1 How does the hardness of implants vary depending on dentists?"
      ],
      "metadata": {
        "id": "uanOARDvhc4W"
      }
    },
    {
      "cell_type": "markdown",
      "source": [
        "##Alloy 1"
      ],
      "metadata": {
        "id": "zQclt5871c3S"
      }
    },
    {
      "cell_type": "code",
      "source": [
        "df1=df[df['Alloy']==1]"
      ],
      "metadata": {
        "id": "TkFynvGt2p_0"
      },
      "execution_count": 16,
      "outputs": []
    },
    {
      "cell_type": "code",
      "source": [
        "df1.head()"
      ],
      "metadata": {
        "colab": {
          "base_uri": "https://localhost:8080/",
          "height": 206
        },
        "id": "LqLxuPXm2wzI",
        "outputId": "4038c449-2b56-41e6-b732-e26f7c97783f"
      },
      "execution_count": 17,
      "outputs": [
        {
          "output_type": "execute_result",
          "data": {
            "text/plain": [
              "   Dentist  Method  Alloy  Temp  Response\n",
              "0        1       1      1  1500       813\n",
              "1        1       1      1  1600       792\n",
              "2        1       1      1  1700       792\n",
              "6        1       2      1  1500       782\n",
              "7        1       2      1  1600       698"
            ],
            "text/html": [
              "\n",
              "  <div id=\"df-eda1d10c-b53e-471e-aaaf-b64ecf9ecbf2\" class=\"colab-df-container\">\n",
              "    <div>\n",
              "<style scoped>\n",
              "    .dataframe tbody tr th:only-of-type {\n",
              "        vertical-align: middle;\n",
              "    }\n",
              "\n",
              "    .dataframe tbody tr th {\n",
              "        vertical-align: top;\n",
              "    }\n",
              "\n",
              "    .dataframe thead th {\n",
              "        text-align: right;\n",
              "    }\n",
              "</style>\n",
              "<table border=\"1\" class=\"dataframe\">\n",
              "  <thead>\n",
              "    <tr style=\"text-align: right;\">\n",
              "      <th></th>\n",
              "      <th>Dentist</th>\n",
              "      <th>Method</th>\n",
              "      <th>Alloy</th>\n",
              "      <th>Temp</th>\n",
              "      <th>Response</th>\n",
              "    </tr>\n",
              "  </thead>\n",
              "  <tbody>\n",
              "    <tr>\n",
              "      <th>0</th>\n",
              "      <td>1</td>\n",
              "      <td>1</td>\n",
              "      <td>1</td>\n",
              "      <td>1500</td>\n",
              "      <td>813</td>\n",
              "    </tr>\n",
              "    <tr>\n",
              "      <th>1</th>\n",
              "      <td>1</td>\n",
              "      <td>1</td>\n",
              "      <td>1</td>\n",
              "      <td>1600</td>\n",
              "      <td>792</td>\n",
              "    </tr>\n",
              "    <tr>\n",
              "      <th>2</th>\n",
              "      <td>1</td>\n",
              "      <td>1</td>\n",
              "      <td>1</td>\n",
              "      <td>1700</td>\n",
              "      <td>792</td>\n",
              "    </tr>\n",
              "    <tr>\n",
              "      <th>6</th>\n",
              "      <td>1</td>\n",
              "      <td>2</td>\n",
              "      <td>1</td>\n",
              "      <td>1500</td>\n",
              "      <td>782</td>\n",
              "    </tr>\n",
              "    <tr>\n",
              "      <th>7</th>\n",
              "      <td>1</td>\n",
              "      <td>2</td>\n",
              "      <td>1</td>\n",
              "      <td>1600</td>\n",
              "      <td>698</td>\n",
              "    </tr>\n",
              "  </tbody>\n",
              "</table>\n",
              "</div>\n",
              "    <div class=\"colab-df-buttons\">\n",
              "\n",
              "  <div class=\"colab-df-container\">\n",
              "    <button class=\"colab-df-convert\" onclick=\"convertToInteractive('df-eda1d10c-b53e-471e-aaaf-b64ecf9ecbf2')\"\n",
              "            title=\"Convert this dataframe to an interactive table.\"\n",
              "            style=\"display:none;\">\n",
              "\n",
              "  <svg xmlns=\"http://www.w3.org/2000/svg\" height=\"24px\" viewBox=\"0 -960 960 960\">\n",
              "    <path d=\"M120-120v-720h720v720H120Zm60-500h600v-160H180v160Zm220 220h160v-160H400v160Zm0 220h160v-160H400v160ZM180-400h160v-160H180v160Zm440 0h160v-160H620v160ZM180-180h160v-160H180v160Zm440 0h160v-160H620v160Z\"/>\n",
              "  </svg>\n",
              "    </button>\n",
              "\n",
              "  <style>\n",
              "    .colab-df-container {\n",
              "      display:flex;\n",
              "      gap: 12px;\n",
              "    }\n",
              "\n",
              "    .colab-df-convert {\n",
              "      background-color: #E8F0FE;\n",
              "      border: none;\n",
              "      border-radius: 50%;\n",
              "      cursor: pointer;\n",
              "      display: none;\n",
              "      fill: #1967D2;\n",
              "      height: 32px;\n",
              "      padding: 0 0 0 0;\n",
              "      width: 32px;\n",
              "    }\n",
              "\n",
              "    .colab-df-convert:hover {\n",
              "      background-color: #E2EBFA;\n",
              "      box-shadow: 0px 1px 2px rgba(60, 64, 67, 0.3), 0px 1px 3px 1px rgba(60, 64, 67, 0.15);\n",
              "      fill: #174EA6;\n",
              "    }\n",
              "\n",
              "    .colab-df-buttons div {\n",
              "      margin-bottom: 4px;\n",
              "    }\n",
              "\n",
              "    [theme=dark] .colab-df-convert {\n",
              "      background-color: #3B4455;\n",
              "      fill: #D2E3FC;\n",
              "    }\n",
              "\n",
              "    [theme=dark] .colab-df-convert:hover {\n",
              "      background-color: #434B5C;\n",
              "      box-shadow: 0px 1px 3px 1px rgba(0, 0, 0, 0.15);\n",
              "      filter: drop-shadow(0px 1px 2px rgba(0, 0, 0, 0.3));\n",
              "      fill: #FFFFFF;\n",
              "    }\n",
              "  </style>\n",
              "\n",
              "    <script>\n",
              "      const buttonEl =\n",
              "        document.querySelector('#df-eda1d10c-b53e-471e-aaaf-b64ecf9ecbf2 button.colab-df-convert');\n",
              "      buttonEl.style.display =\n",
              "        google.colab.kernel.accessAllowed ? 'block' : 'none';\n",
              "\n",
              "      async function convertToInteractive(key) {\n",
              "        const element = document.querySelector('#df-eda1d10c-b53e-471e-aaaf-b64ecf9ecbf2');\n",
              "        const dataTable =\n",
              "          await google.colab.kernel.invokeFunction('convertToInteractive',\n",
              "                                                    [key], {});\n",
              "        if (!dataTable) return;\n",
              "\n",
              "        const docLinkHtml = 'Like what you see? Visit the ' +\n",
              "          '<a target=\"_blank\" href=https://colab.research.google.com/notebooks/data_table.ipynb>data table notebook</a>'\n",
              "          + ' to learn more about interactive tables.';\n",
              "        element.innerHTML = '';\n",
              "        dataTable['output_type'] = 'display_data';\n",
              "        await google.colab.output.renderOutput(dataTable, element);\n",
              "        const docLink = document.createElement('div');\n",
              "        docLink.innerHTML = docLinkHtml;\n",
              "        element.appendChild(docLink);\n",
              "      }\n",
              "    </script>\n",
              "  </div>\n",
              "\n",
              "\n",
              "<div id=\"df-64f1f1ce-45d0-40ce-8954-8d19db30d310\">\n",
              "  <button class=\"colab-df-quickchart\" onclick=\"quickchart('df-64f1f1ce-45d0-40ce-8954-8d19db30d310')\"\n",
              "            title=\"Suggest charts\"\n",
              "            style=\"display:none;\">\n",
              "\n",
              "<svg xmlns=\"http://www.w3.org/2000/svg\" height=\"24px\"viewBox=\"0 0 24 24\"\n",
              "     width=\"24px\">\n",
              "    <g>\n",
              "        <path d=\"M19 3H5c-1.1 0-2 .9-2 2v14c0 1.1.9 2 2 2h14c1.1 0 2-.9 2-2V5c0-1.1-.9-2-2-2zM9 17H7v-7h2v7zm4 0h-2V7h2v10zm4 0h-2v-4h2v4z\"/>\n",
              "    </g>\n",
              "</svg>\n",
              "  </button>\n",
              "\n",
              "<style>\n",
              "  .colab-df-quickchart {\n",
              "      --bg-color: #E8F0FE;\n",
              "      --fill-color: #1967D2;\n",
              "      --hover-bg-color: #E2EBFA;\n",
              "      --hover-fill-color: #174EA6;\n",
              "      --disabled-fill-color: #AAA;\n",
              "      --disabled-bg-color: #DDD;\n",
              "  }\n",
              "\n",
              "  [theme=dark] .colab-df-quickchart {\n",
              "      --bg-color: #3B4455;\n",
              "      --fill-color: #D2E3FC;\n",
              "      --hover-bg-color: #434B5C;\n",
              "      --hover-fill-color: #FFFFFF;\n",
              "      --disabled-bg-color: #3B4455;\n",
              "      --disabled-fill-color: #666;\n",
              "  }\n",
              "\n",
              "  .colab-df-quickchart {\n",
              "    background-color: var(--bg-color);\n",
              "    border: none;\n",
              "    border-radius: 50%;\n",
              "    cursor: pointer;\n",
              "    display: none;\n",
              "    fill: var(--fill-color);\n",
              "    height: 32px;\n",
              "    padding: 0;\n",
              "    width: 32px;\n",
              "  }\n",
              "\n",
              "  .colab-df-quickchart:hover {\n",
              "    background-color: var(--hover-bg-color);\n",
              "    box-shadow: 0 1px 2px rgba(60, 64, 67, 0.3), 0 1px 3px 1px rgba(60, 64, 67, 0.15);\n",
              "    fill: var(--button-hover-fill-color);\n",
              "  }\n",
              "\n",
              "  .colab-df-quickchart-complete:disabled,\n",
              "  .colab-df-quickchart-complete:disabled:hover {\n",
              "    background-color: var(--disabled-bg-color);\n",
              "    fill: var(--disabled-fill-color);\n",
              "    box-shadow: none;\n",
              "  }\n",
              "\n",
              "  .colab-df-spinner {\n",
              "    border: 2px solid var(--fill-color);\n",
              "    border-color: transparent;\n",
              "    border-bottom-color: var(--fill-color);\n",
              "    animation:\n",
              "      spin 1s steps(1) infinite;\n",
              "  }\n",
              "\n",
              "  @keyframes spin {\n",
              "    0% {\n",
              "      border-color: transparent;\n",
              "      border-bottom-color: var(--fill-color);\n",
              "      border-left-color: var(--fill-color);\n",
              "    }\n",
              "    20% {\n",
              "      border-color: transparent;\n",
              "      border-left-color: var(--fill-color);\n",
              "      border-top-color: var(--fill-color);\n",
              "    }\n",
              "    30% {\n",
              "      border-color: transparent;\n",
              "      border-left-color: var(--fill-color);\n",
              "      border-top-color: var(--fill-color);\n",
              "      border-right-color: var(--fill-color);\n",
              "    }\n",
              "    40% {\n",
              "      border-color: transparent;\n",
              "      border-right-color: var(--fill-color);\n",
              "      border-top-color: var(--fill-color);\n",
              "    }\n",
              "    60% {\n",
              "      border-color: transparent;\n",
              "      border-right-color: var(--fill-color);\n",
              "    }\n",
              "    80% {\n",
              "      border-color: transparent;\n",
              "      border-right-color: var(--fill-color);\n",
              "      border-bottom-color: var(--fill-color);\n",
              "    }\n",
              "    90% {\n",
              "      border-color: transparent;\n",
              "      border-bottom-color: var(--fill-color);\n",
              "    }\n",
              "  }\n",
              "</style>\n",
              "\n",
              "  <script>\n",
              "    async function quickchart(key) {\n",
              "      const quickchartButtonEl =\n",
              "        document.querySelector('#' + key + ' button');\n",
              "      quickchartButtonEl.disabled = true;  // To prevent multiple clicks.\n",
              "      quickchartButtonEl.classList.add('colab-df-spinner');\n",
              "      try {\n",
              "        const charts = await google.colab.kernel.invokeFunction(\n",
              "            'suggestCharts', [key], {});\n",
              "      } catch (error) {\n",
              "        console.error('Error during call to suggestCharts:', error);\n",
              "      }\n",
              "      quickchartButtonEl.classList.remove('colab-df-spinner');\n",
              "      quickchartButtonEl.classList.add('colab-df-quickchart-complete');\n",
              "    }\n",
              "    (() => {\n",
              "      let quickchartButtonEl =\n",
              "        document.querySelector('#df-64f1f1ce-45d0-40ce-8954-8d19db30d310 button');\n",
              "      quickchartButtonEl.style.display =\n",
              "        google.colab.kernel.accessAllowed ? 'block' : 'none';\n",
              "    })();\n",
              "  </script>\n",
              "</div>\n",
              "\n",
              "    </div>\n",
              "  </div>\n"
            ],
            "application/vnd.google.colaboratory.intrinsic+json": {
              "type": "dataframe",
              "variable_name": "df1",
              "summary": "{\n  \"name\": \"df1\",\n  \"rows\": 45,\n  \"fields\": [\n    {\n      \"column\": \"Dentist\",\n      \"properties\": {\n        \"dtype\": \"number\",\n        \"std\": 1,\n        \"min\": 1,\n        \"max\": 5,\n        \"num_unique_values\": 5,\n        \"samples\": [\n          2,\n          5,\n          3\n        ],\n        \"semantic_type\": \"\",\n        \"description\": \"\"\n      }\n    },\n    {\n      \"column\": \"Method\",\n      \"properties\": {\n        \"dtype\": \"number\",\n        \"std\": 0,\n        \"min\": 1,\n        \"max\": 3,\n        \"num_unique_values\": 3,\n        \"samples\": [\n          1,\n          2,\n          3\n        ],\n        \"semantic_type\": \"\",\n        \"description\": \"\"\n      }\n    },\n    {\n      \"column\": \"Alloy\",\n      \"properties\": {\n        \"dtype\": \"number\",\n        \"std\": 0,\n        \"min\": 1,\n        \"max\": 1,\n        \"num_unique_values\": 1,\n        \"samples\": [\n          1\n        ],\n        \"semantic_type\": \"\",\n        \"description\": \"\"\n      }\n    },\n    {\n      \"column\": \"Temp\",\n      \"properties\": {\n        \"dtype\": \"number\",\n        \"std\": 82,\n        \"min\": 1500,\n        \"max\": 1700,\n        \"num_unique_values\": 3,\n        \"samples\": [\n          1500\n        ],\n        \"semantic_type\": \"\",\n        \"description\": \"\"\n      }\n    },\n    {\n      \"column\": \"Response\",\n      \"properties\": {\n        \"dtype\": \"number\",\n        \"std\": 121,\n        \"min\": 289,\n        \"max\": 882,\n        \"num_unique_values\": 25,\n        \"samples\": [\n          715\n        ],\n        \"semantic_type\": \"\",\n        \"description\": \"\"\n      }\n    }\n  ]\n}"
            }
          },
          "metadata": {},
          "execution_count": 17
        }
      ]
    },
    {
      "cell_type": "code",
      "source": [
        "df1['Dentist'].value_counts()"
      ],
      "metadata": {
        "colab": {
          "base_uri": "https://localhost:8080/"
        },
        "id": "7Em2yfjqaXlk",
        "outputId": "b6fede27-4954-42d1-ffca-44d5bd489031"
      },
      "execution_count": 18,
      "outputs": [
        {
          "output_type": "execute_result",
          "data": {
            "text/plain": [
              "Dentist\n",
              "1    9\n",
              "2    9\n",
              "3    9\n",
              "4    9\n",
              "5    9\n",
              "Name: count, dtype: int64"
            ]
          },
          "metadata": {},
          "execution_count": 18
        }
      ]
    },
    {
      "cell_type": "markdown",
      "source": [
        "### Let's write the null and alternative hypothesis\n",
        "\n",
        "Let $\\mu_1, \\mu_2, \\mu_3, \\mu_4, \\mu_5$ be the means of hardness of implants for each dentists respectively.\n",
        "\n",
        "We will test the null hypothesis\n",
        "\n",
        ">$H_0: \\mu_1 = \\mu_2 = \\mu_3 = \\mu_4 = \\mu_5$\n",
        "\n",
        "against the alternative hypothesis\n",
        "\n",
        ">$H_a: $ At least one hardness of implants is different from the rest."
      ],
      "metadata": {
        "id": "XxRdCeyFiL_v"
      }
    },
    {
      "cell_type": "code",
      "source": [
        "print(\"Means of hardness of implants for each dentist:\\n\",df1.groupby(\"Dentist\")[\"Response\"].mean())\n"
      ],
      "metadata": {
        "colab": {
          "base_uri": "https://localhost:8080/"
        },
        "id": "I07DmP5Jhmb1",
        "outputId": "3bf9496a-5295-47d0-8a48-521d0e0c2216"
      },
      "execution_count": 19,
      "outputs": [
        {
          "output_type": "stream",
          "name": "stdout",
          "text": [
            "Means of hardness of implants for each dentist:\n",
            " Dentist\n",
            "1   749.889\n",
            "2   761.222\n",
            "3   717.556\n",
            "4   681.111\n",
            "5   627.667\n",
            "Name: Response, dtype: float64\n"
          ]
        }
      ]
    },
    {
      "cell_type": "markdown",
      "source": [
        "Now, the normality and equality of variance assumptions need to be checked.\n",
        "\n",
        "* For testing of normality, Shapiro-Wilk’s test is applied to the response variable.\n",
        "\n",
        "* For equality of variance, Levene test is applied to the response variable."
      ],
      "metadata": {
        "id": "HgUPExtZp9pQ"
      }
    },
    {
      "cell_type": "markdown",
      "source": [
        "### Shapiro-Wilk’s test\n",
        "\n",
        "We will test the null hypothesis\n",
        "\n",
        ">$H_0:$ Hardness of implants follows a normal distribution against\n",
        "\n",
        "against the alternative hypothesis\n",
        "\n",
        ">$H_a:$ Hardness of implants does not follow a normal distribution"
      ],
      "metadata": {
        "id": "63ZuSRBJmJ8R"
      }
    },
    {
      "cell_type": "code",
      "source": [
        "# Assumption 1: Normality\n",
        "# import the required function\n",
        "from scipy import stats\n",
        "\n",
        "# find the p-value\n",
        "w, p_value = stats.shapiro(df1['Response'])\n",
        "print('The p-value is', p_value)"
      ],
      "metadata": {
        "colab": {
          "base_uri": "https://localhost:8080/"
        },
        "id": "ntquuNlbjEpz",
        "outputId": "ad8cef14-2dab-42fd-dd2f-414b00b71939"
      },
      "execution_count": null,
      "outputs": [
        {
          "output_type": "stream",
          "name": "stdout",
          "text": [
            "The p-value is 1.1945070582441986e-05\n"
          ]
        }
      ]
    },
    {
      "cell_type": "markdown",
      "source": [
        "As the p-value is less than the level of significance - 0.05, we can reject the null hypothesis. Hence, we do not have enough evidence to support the claim that hardness of implants follows a normal distribution"
      ],
      "metadata": {
        "id": "sYSbdQfrqJeq"
      }
    },
    {
      "cell_type": "markdown",
      "source": [
        "### Levene’s test\n",
        "\n",
        "We will test the null hypothesis\n",
        "\n",
        ">$H_0$: All the population variances are equal\n",
        "\n",
        "against the alternative hypothesis\n",
        "\n",
        ">$H_a$: At least one variance is different from the rest"
      ],
      "metadata": {
        "id": "L0eeVdLjqJh_"
      }
    },
    {
      "cell_type": "code",
      "source": [
        "#Assumption 2: Homogeneity of Variance\n",
        "#import the required function\n",
        "from scipy.stats import levene\n",
        "statistic, p_value = levene( df1['Response'][df1['Dentist']==1],\n",
        "                                   df1['Response'][df1['Dentist']==2],\n",
        "                                   df1['Response'][df1['Dentist']==3],df1['Response'][df1['Dentist']==4],df1['Response'][df1['Dentist']==5])\n",
        "# find the p-value\n",
        "print('The p-value is', p_value)"
      ],
      "metadata": {
        "colab": {
          "base_uri": "https://localhost:8080/"
        },
        "id": "6392a9N5noW5",
        "outputId": "e6d126c4-a842-4b20-f645-f52b6c79bccb"
      },
      "execution_count": null,
      "outputs": [
        {
          "output_type": "stream",
          "name": "stdout",
          "text": [
            "The p-value is 0.2565537418543795\n"
          ]
        }
      ]
    },
    {
      "cell_type": "markdown",
      "source": [
        "Since the p-value is large, we fail to reject the null hypothesis of homogeneity of variances."
      ],
      "metadata": {
        "id": "s5V_vpY4rXb3"
      }
    },
    {
      "cell_type": "markdown",
      "source": [
        "###One-Way ANOVA Test"
      ],
      "metadata": {
        "id": "pyBCAB0Drrrn"
      }
    },
    {
      "cell_type": "markdown",
      "source": [
        "### Let's find the p-value"
      ],
      "metadata": {
        "id": "EbD-IGML4Fw2"
      }
    },
    {
      "cell_type": "code",
      "source": [
        "#import the required function\n",
        "from scipy.stats import f_oneway\n",
        "\n",
        "# perform one-way anova test\n",
        "test_stat, p_value = f_oneway(df1.loc[df1['Dentist'] == 1, 'Response'],\n",
        "                              df1.loc[df1['Dentist'] == 2, 'Response'],\n",
        "                              df1.loc[df1['Dentist'] == 3, 'Response'],\n",
        "                              df1.loc[df1['Dentist'] == 4, 'Response'],\n",
        "                              df1.loc[df1['Dentist'] == 5, 'Response'])\n",
        "print('The p-value is ' + str(p_value))"
      ],
      "metadata": {
        "colab": {
          "base_uri": "https://localhost:8080/"
        },
        "id": "vAteb6R04Xe5",
        "outputId": "53cc57b6-9aed-4baa-9012-fbc25b2731cb"
      },
      "execution_count": null,
      "outputs": [
        {
          "output_type": "stream",
          "name": "stdout",
          "text": [
            "The p-value is 0.11656712140267628\n"
          ]
        }
      ]
    },
    {
      "cell_type": "markdown",
      "source": [
        "As the p-value is larger than the level of significance - 0.05, we fail to reject the null hypothesis that the mean of hardness of implants for each dentists are equal.\n",
        "\n"
      ],
      "metadata": {
        "id": "lqMyRaL-5XVT"
      }
    },
    {
      "cell_type": "markdown",
      "source": [
        "##Alloy 2"
      ],
      "metadata": {
        "id": "Jyn7Jv3x58Qb"
      }
    },
    {
      "cell_type": "code",
      "source": [
        "df1=df[df['Alloy']==2]"
      ],
      "metadata": {
        "id": "CXhdHZM958Qj"
      },
      "execution_count": 20,
      "outputs": []
    },
    {
      "cell_type": "code",
      "source": [
        "df1.head()"
      ],
      "metadata": {
        "colab": {
          "base_uri": "https://localhost:8080/",
          "height": 206
        },
        "outputId": "ab3108dd-89b0-4ae6-8797-147f6039bc8a",
        "id": "rlSry0R858Qk"
      },
      "execution_count": 21,
      "outputs": [
        {
          "output_type": "execute_result",
          "data": {
            "text/plain": [
              "    Dentist  Method  Alloy  Temp  Response\n",
              "3         1       1      2  1500       907\n",
              "4         1       1      2  1600       792\n",
              "5         1       1      2  1700       835\n",
              "9         1       2      2  1500      1115\n",
              "10        1       2      2  1600       835"
            ],
            "text/html": [
              "\n",
              "  <div id=\"df-a5bda259-546b-45b4-8849-f23b3d95aae7\" class=\"colab-df-container\">\n",
              "    <div>\n",
              "<style scoped>\n",
              "    .dataframe tbody tr th:only-of-type {\n",
              "        vertical-align: middle;\n",
              "    }\n",
              "\n",
              "    .dataframe tbody tr th {\n",
              "        vertical-align: top;\n",
              "    }\n",
              "\n",
              "    .dataframe thead th {\n",
              "        text-align: right;\n",
              "    }\n",
              "</style>\n",
              "<table border=\"1\" class=\"dataframe\">\n",
              "  <thead>\n",
              "    <tr style=\"text-align: right;\">\n",
              "      <th></th>\n",
              "      <th>Dentist</th>\n",
              "      <th>Method</th>\n",
              "      <th>Alloy</th>\n",
              "      <th>Temp</th>\n",
              "      <th>Response</th>\n",
              "    </tr>\n",
              "  </thead>\n",
              "  <tbody>\n",
              "    <tr>\n",
              "      <th>3</th>\n",
              "      <td>1</td>\n",
              "      <td>1</td>\n",
              "      <td>2</td>\n",
              "      <td>1500</td>\n",
              "      <td>907</td>\n",
              "    </tr>\n",
              "    <tr>\n",
              "      <th>4</th>\n",
              "      <td>1</td>\n",
              "      <td>1</td>\n",
              "      <td>2</td>\n",
              "      <td>1600</td>\n",
              "      <td>792</td>\n",
              "    </tr>\n",
              "    <tr>\n",
              "      <th>5</th>\n",
              "      <td>1</td>\n",
              "      <td>1</td>\n",
              "      <td>2</td>\n",
              "      <td>1700</td>\n",
              "      <td>835</td>\n",
              "    </tr>\n",
              "    <tr>\n",
              "      <th>9</th>\n",
              "      <td>1</td>\n",
              "      <td>2</td>\n",
              "      <td>2</td>\n",
              "      <td>1500</td>\n",
              "      <td>1115</td>\n",
              "    </tr>\n",
              "    <tr>\n",
              "      <th>10</th>\n",
              "      <td>1</td>\n",
              "      <td>2</td>\n",
              "      <td>2</td>\n",
              "      <td>1600</td>\n",
              "      <td>835</td>\n",
              "    </tr>\n",
              "  </tbody>\n",
              "</table>\n",
              "</div>\n",
              "    <div class=\"colab-df-buttons\">\n",
              "\n",
              "  <div class=\"colab-df-container\">\n",
              "    <button class=\"colab-df-convert\" onclick=\"convertToInteractive('df-a5bda259-546b-45b4-8849-f23b3d95aae7')\"\n",
              "            title=\"Convert this dataframe to an interactive table.\"\n",
              "            style=\"display:none;\">\n",
              "\n",
              "  <svg xmlns=\"http://www.w3.org/2000/svg\" height=\"24px\" viewBox=\"0 -960 960 960\">\n",
              "    <path d=\"M120-120v-720h720v720H120Zm60-500h600v-160H180v160Zm220 220h160v-160H400v160Zm0 220h160v-160H400v160ZM180-400h160v-160H180v160Zm440 0h160v-160H620v160ZM180-180h160v-160H180v160Zm440 0h160v-160H620v160Z\"/>\n",
              "  </svg>\n",
              "    </button>\n",
              "\n",
              "  <style>\n",
              "    .colab-df-container {\n",
              "      display:flex;\n",
              "      gap: 12px;\n",
              "    }\n",
              "\n",
              "    .colab-df-convert {\n",
              "      background-color: #E8F0FE;\n",
              "      border: none;\n",
              "      border-radius: 50%;\n",
              "      cursor: pointer;\n",
              "      display: none;\n",
              "      fill: #1967D2;\n",
              "      height: 32px;\n",
              "      padding: 0 0 0 0;\n",
              "      width: 32px;\n",
              "    }\n",
              "\n",
              "    .colab-df-convert:hover {\n",
              "      background-color: #E2EBFA;\n",
              "      box-shadow: 0px 1px 2px rgba(60, 64, 67, 0.3), 0px 1px 3px 1px rgba(60, 64, 67, 0.15);\n",
              "      fill: #174EA6;\n",
              "    }\n",
              "\n",
              "    .colab-df-buttons div {\n",
              "      margin-bottom: 4px;\n",
              "    }\n",
              "\n",
              "    [theme=dark] .colab-df-convert {\n",
              "      background-color: #3B4455;\n",
              "      fill: #D2E3FC;\n",
              "    }\n",
              "\n",
              "    [theme=dark] .colab-df-convert:hover {\n",
              "      background-color: #434B5C;\n",
              "      box-shadow: 0px 1px 3px 1px rgba(0, 0, 0, 0.15);\n",
              "      filter: drop-shadow(0px 1px 2px rgba(0, 0, 0, 0.3));\n",
              "      fill: #FFFFFF;\n",
              "    }\n",
              "  </style>\n",
              "\n",
              "    <script>\n",
              "      const buttonEl =\n",
              "        document.querySelector('#df-a5bda259-546b-45b4-8849-f23b3d95aae7 button.colab-df-convert');\n",
              "      buttonEl.style.display =\n",
              "        google.colab.kernel.accessAllowed ? 'block' : 'none';\n",
              "\n",
              "      async function convertToInteractive(key) {\n",
              "        const element = document.querySelector('#df-a5bda259-546b-45b4-8849-f23b3d95aae7');\n",
              "        const dataTable =\n",
              "          await google.colab.kernel.invokeFunction('convertToInteractive',\n",
              "                                                    [key], {});\n",
              "        if (!dataTable) return;\n",
              "\n",
              "        const docLinkHtml = 'Like what you see? Visit the ' +\n",
              "          '<a target=\"_blank\" href=https://colab.research.google.com/notebooks/data_table.ipynb>data table notebook</a>'\n",
              "          + ' to learn more about interactive tables.';\n",
              "        element.innerHTML = '';\n",
              "        dataTable['output_type'] = 'display_data';\n",
              "        await google.colab.output.renderOutput(dataTable, element);\n",
              "        const docLink = document.createElement('div');\n",
              "        docLink.innerHTML = docLinkHtml;\n",
              "        element.appendChild(docLink);\n",
              "      }\n",
              "    </script>\n",
              "  </div>\n",
              "\n",
              "\n",
              "<div id=\"df-1050615b-ca92-4589-9fae-7fef42f5c115\">\n",
              "  <button class=\"colab-df-quickchart\" onclick=\"quickchart('df-1050615b-ca92-4589-9fae-7fef42f5c115')\"\n",
              "            title=\"Suggest charts\"\n",
              "            style=\"display:none;\">\n",
              "\n",
              "<svg xmlns=\"http://www.w3.org/2000/svg\" height=\"24px\"viewBox=\"0 0 24 24\"\n",
              "     width=\"24px\">\n",
              "    <g>\n",
              "        <path d=\"M19 3H5c-1.1 0-2 .9-2 2v14c0 1.1.9 2 2 2h14c1.1 0 2-.9 2-2V5c0-1.1-.9-2-2-2zM9 17H7v-7h2v7zm4 0h-2V7h2v10zm4 0h-2v-4h2v4z\"/>\n",
              "    </g>\n",
              "</svg>\n",
              "  </button>\n",
              "\n",
              "<style>\n",
              "  .colab-df-quickchart {\n",
              "      --bg-color: #E8F0FE;\n",
              "      --fill-color: #1967D2;\n",
              "      --hover-bg-color: #E2EBFA;\n",
              "      --hover-fill-color: #174EA6;\n",
              "      --disabled-fill-color: #AAA;\n",
              "      --disabled-bg-color: #DDD;\n",
              "  }\n",
              "\n",
              "  [theme=dark] .colab-df-quickchart {\n",
              "      --bg-color: #3B4455;\n",
              "      --fill-color: #D2E3FC;\n",
              "      --hover-bg-color: #434B5C;\n",
              "      --hover-fill-color: #FFFFFF;\n",
              "      --disabled-bg-color: #3B4455;\n",
              "      --disabled-fill-color: #666;\n",
              "  }\n",
              "\n",
              "  .colab-df-quickchart {\n",
              "    background-color: var(--bg-color);\n",
              "    border: none;\n",
              "    border-radius: 50%;\n",
              "    cursor: pointer;\n",
              "    display: none;\n",
              "    fill: var(--fill-color);\n",
              "    height: 32px;\n",
              "    padding: 0;\n",
              "    width: 32px;\n",
              "  }\n",
              "\n",
              "  .colab-df-quickchart:hover {\n",
              "    background-color: var(--hover-bg-color);\n",
              "    box-shadow: 0 1px 2px rgba(60, 64, 67, 0.3), 0 1px 3px 1px rgba(60, 64, 67, 0.15);\n",
              "    fill: var(--button-hover-fill-color);\n",
              "  }\n",
              "\n",
              "  .colab-df-quickchart-complete:disabled,\n",
              "  .colab-df-quickchart-complete:disabled:hover {\n",
              "    background-color: var(--disabled-bg-color);\n",
              "    fill: var(--disabled-fill-color);\n",
              "    box-shadow: none;\n",
              "  }\n",
              "\n",
              "  .colab-df-spinner {\n",
              "    border: 2px solid var(--fill-color);\n",
              "    border-color: transparent;\n",
              "    border-bottom-color: var(--fill-color);\n",
              "    animation:\n",
              "      spin 1s steps(1) infinite;\n",
              "  }\n",
              "\n",
              "  @keyframes spin {\n",
              "    0% {\n",
              "      border-color: transparent;\n",
              "      border-bottom-color: var(--fill-color);\n",
              "      border-left-color: var(--fill-color);\n",
              "    }\n",
              "    20% {\n",
              "      border-color: transparent;\n",
              "      border-left-color: var(--fill-color);\n",
              "      border-top-color: var(--fill-color);\n",
              "    }\n",
              "    30% {\n",
              "      border-color: transparent;\n",
              "      border-left-color: var(--fill-color);\n",
              "      border-top-color: var(--fill-color);\n",
              "      border-right-color: var(--fill-color);\n",
              "    }\n",
              "    40% {\n",
              "      border-color: transparent;\n",
              "      border-right-color: var(--fill-color);\n",
              "      border-top-color: var(--fill-color);\n",
              "    }\n",
              "    60% {\n",
              "      border-color: transparent;\n",
              "      border-right-color: var(--fill-color);\n",
              "    }\n",
              "    80% {\n",
              "      border-color: transparent;\n",
              "      border-right-color: var(--fill-color);\n",
              "      border-bottom-color: var(--fill-color);\n",
              "    }\n",
              "    90% {\n",
              "      border-color: transparent;\n",
              "      border-bottom-color: var(--fill-color);\n",
              "    }\n",
              "  }\n",
              "</style>\n",
              "\n",
              "  <script>\n",
              "    async function quickchart(key) {\n",
              "      const quickchartButtonEl =\n",
              "        document.querySelector('#' + key + ' button');\n",
              "      quickchartButtonEl.disabled = true;  // To prevent multiple clicks.\n",
              "      quickchartButtonEl.classList.add('colab-df-spinner');\n",
              "      try {\n",
              "        const charts = await google.colab.kernel.invokeFunction(\n",
              "            'suggestCharts', [key], {});\n",
              "      } catch (error) {\n",
              "        console.error('Error during call to suggestCharts:', error);\n",
              "      }\n",
              "      quickchartButtonEl.classList.remove('colab-df-spinner');\n",
              "      quickchartButtonEl.classList.add('colab-df-quickchart-complete');\n",
              "    }\n",
              "    (() => {\n",
              "      let quickchartButtonEl =\n",
              "        document.querySelector('#df-1050615b-ca92-4589-9fae-7fef42f5c115 button');\n",
              "      quickchartButtonEl.style.display =\n",
              "        google.colab.kernel.accessAllowed ? 'block' : 'none';\n",
              "    })();\n",
              "  </script>\n",
              "</div>\n",
              "\n",
              "    </div>\n",
              "  </div>\n"
            ],
            "application/vnd.google.colaboratory.intrinsic+json": {
              "type": "dataframe",
              "variable_name": "df1",
              "summary": "{\n  \"name\": \"df1\",\n  \"rows\": 45,\n  \"fields\": [\n    {\n      \"column\": \"Dentist\",\n      \"properties\": {\n        \"dtype\": \"number\",\n        \"std\": 1,\n        \"min\": 1,\n        \"max\": 5,\n        \"num_unique_values\": 5,\n        \"samples\": [\n          2,\n          5,\n          3\n        ],\n        \"semantic_type\": \"\",\n        \"description\": \"\"\n      }\n    },\n    {\n      \"column\": \"Method\",\n      \"properties\": {\n        \"dtype\": \"number\",\n        \"std\": 0,\n        \"min\": 1,\n        \"max\": 3,\n        \"num_unique_values\": 3,\n        \"samples\": [\n          1,\n          2,\n          3\n        ],\n        \"semantic_type\": \"\",\n        \"description\": \"\"\n      }\n    },\n    {\n      \"column\": \"Alloy\",\n      \"properties\": {\n        \"dtype\": \"number\",\n        \"std\": 0,\n        \"min\": 2,\n        \"max\": 2,\n        \"num_unique_values\": 1,\n        \"samples\": [\n          2\n        ],\n        \"semantic_type\": \"\",\n        \"description\": \"\"\n      }\n    },\n    {\n      \"column\": \"Temp\",\n      \"properties\": {\n        \"dtype\": \"number\",\n        \"std\": 82,\n        \"min\": 1500,\n        \"max\": 1700,\n        \"num_unique_values\": 3,\n        \"samples\": [\n          1500\n        ],\n        \"semantic_type\": \"\",\n        \"description\": \"\"\n      }\n    },\n    {\n      \"column\": \"Response\",\n      \"properties\": {\n        \"dtype\": \"number\",\n        \"std\": 160,\n        \"min\": 312,\n        \"max\": 1115,\n        \"num_unique_values\": 27,\n        \"samples\": [\n          858\n        ],\n        \"semantic_type\": \"\",\n        \"description\": \"\"\n      }\n    }\n  ]\n}"
            }
          },
          "metadata": {},
          "execution_count": 21
        }
      ]
    },
    {
      "cell_type": "code",
      "source": [
        "df1['Dentist'].value_counts()"
      ],
      "metadata": {
        "colab": {
          "base_uri": "https://localhost:8080/"
        },
        "outputId": "4b154220-c588-4268-8a16-a6357cc6ce60",
        "id": "7e85AOs558Qk"
      },
      "execution_count": 23,
      "outputs": [
        {
          "output_type": "execute_result",
          "data": {
            "text/plain": [
              "Dentist\n",
              "1    9\n",
              "2    9\n",
              "3    9\n",
              "4    9\n",
              "5    9\n",
              "Name: count, dtype: int64"
            ]
          },
          "metadata": {},
          "execution_count": 23
        }
      ]
    },
    {
      "cell_type": "markdown",
      "source": [
        "### Let's write the null and alternative hypothesis\n",
        "\n",
        "Let $\\mu_1, \\mu_2, \\mu_3, \\mu_4, \\mu_5$ be the means of hardness of implants for each dentists respectively.\n",
        "\n",
        "We will test the null hypothesis\n",
        "\n",
        ">$H_0: \\mu_1 = \\mu_2 = \\mu_3 = \\mu_4 = \\mu_5$\n",
        "\n",
        "against the alternative hypothesis\n",
        "\n",
        ">$H_a: $ At least one hardness of implants is different from the rest."
      ],
      "metadata": {
        "id": "hC942jWQ58Qk"
      }
    },
    {
      "cell_type": "code",
      "source": [
        "print(\"Means of hardness of implants for each dentist:\\n\",df1.groupby(\"Dentist\")[\"Response\"].mean())\n"
      ],
      "metadata": {
        "colab": {
          "base_uri": "https://localhost:8080/"
        },
        "outputId": "12c7fd6c-523e-4e17-e239-9f75ecbc2ee2",
        "id": "xIygMm6I58Qk"
      },
      "execution_count": 24,
      "outputs": [
        {
          "output_type": "stream",
          "name": "stdout",
          "text": [
            "Means of hardness of implants for each dentist:\n",
            " Dentist\n",
            "1   816.222\n",
            "2   812.111\n",
            "3   779.667\n",
            "4   746.222\n",
            "5   726.111\n",
            "Name: Response, dtype: float64\n"
          ]
        }
      ]
    },
    {
      "cell_type": "markdown",
      "source": [
        "Now, the normality and equality of variance assumptions need to be checked.\n",
        "\n",
        "* For testing of normality, Shapiro-Wilk’s test is applied to the response variable.\n",
        "\n",
        "* For equality of variance, Levene test is applied to the response variable."
      ],
      "metadata": {
        "id": "48-slnZh58Qk"
      }
    },
    {
      "cell_type": "markdown",
      "source": [
        "### Shapiro-Wilk’s test\n",
        "\n",
        "We will test the null hypothesis\n",
        "\n",
        ">$H_0:$ Hardness of implants follows a normal distribution against\n",
        "\n",
        "against the alternative hypothesis\n",
        "\n",
        ">$H_a:$ Hardness of implants does not follow a normal distribution"
      ],
      "metadata": {
        "id": "fYkOL3pt58Qk"
      }
    },
    {
      "cell_type": "code",
      "source": [
        "# Assumption 1: Normality\n",
        "# import the required function\n",
        "from scipy import stats\n",
        "\n",
        "# find the p-value\n",
        "w, p_value = stats.shapiro(df1['Response'])\n",
        "print('The p-value is', p_value)"
      ],
      "metadata": {
        "colab": {
          "base_uri": "https://localhost:8080/"
        },
        "outputId": "3fda80de-2164-4dab-8e43-9ac4a46883b5",
        "id": "x8_MBfDW58Qk"
      },
      "execution_count": 26,
      "outputs": [
        {
          "output_type": "stream",
          "name": "stdout",
          "text": [
            "The p-value is 0.00040293222991749644\n"
          ]
        }
      ]
    },
    {
      "cell_type": "markdown",
      "source": [
        "As the p-value is less than the level of significance - 0.05, we can reject the null hypothesis. Hence, we do not have enough evidence to support the claim that hardness of implants follows a normal distribution"
      ],
      "metadata": {
        "id": "QilgHjPz58Ql"
      }
    },
    {
      "cell_type": "markdown",
      "source": [
        "### Levene’s test\n",
        "\n",
        "We will test the null hypothesis\n",
        "\n",
        ">$H_0$: All the population variances are equal\n",
        "\n",
        "against the alternative hypothesis\n",
        "\n",
        ">$H_a$: At least one variance is different from the rest"
      ],
      "metadata": {
        "id": "x5wkyO6g58Ql"
      }
    },
    {
      "cell_type": "code",
      "source": [
        "#Assumption 2: Homogeneity of Variance\n",
        "#import the required function\n",
        "from scipy.stats import levene\n",
        "statistic, p_value = levene( df1['Response'][df1['Dentist']==1],\n",
        "                                   df1['Response'][df1['Dentist']==2],\n",
        "                                   df1['Response'][df1['Dentist']==3],df1['Response'][df1['Dentist']==4],df1['Response'][df1['Dentist']==5])\n",
        "# find the p-value\n",
        "print('The p-value is', p_value)"
      ],
      "metadata": {
        "colab": {
          "base_uri": "https://localhost:8080/"
        },
        "outputId": "d62cfe99-118a-44f3-df6a-44c6ae5a9061",
        "id": "qi96cLAW58Ql"
      },
      "execution_count": 27,
      "outputs": [
        {
          "output_type": "stream",
          "name": "stdout",
          "text": [
            "The p-value is 0.23686777576324952\n"
          ]
        }
      ]
    },
    {
      "cell_type": "markdown",
      "source": [
        "Since the p-value is large, we fail to reject the null hypothesis of homogeneity of variances."
      ],
      "metadata": {
        "id": "GvQ42YSx58Ql"
      }
    },
    {
      "cell_type": "markdown",
      "source": [
        "###One-Way ANOVA Test"
      ],
      "metadata": {
        "id": "hUviY3yt58Ql"
      }
    },
    {
      "cell_type": "markdown",
      "source": [
        "### Let's find the p-value"
      ],
      "metadata": {
        "id": "_3v62Sjd58Ql"
      }
    },
    {
      "cell_type": "code",
      "source": [
        "#import the required function\n",
        "from scipy.stats import f_oneway\n",
        "\n",
        "# perform one-way anova test\n",
        "test_stat, p_value = f_oneway(df1.loc[df1['Dentist'] == 1, 'Response'],\n",
        "                              df1.loc[df1['Dentist'] == 2, 'Response'],\n",
        "                              df1.loc[df1['Dentist'] == 3, 'Response'],\n",
        "                              df1.loc[df1['Dentist'] == 4, 'Response'],\n",
        "                              df1.loc[df1['Dentist'] == 5, 'Response'])\n",
        "print('The p-value is ' + str(p_value))"
      ],
      "metadata": {
        "colab": {
          "base_uri": "https://localhost:8080/"
        },
        "outputId": "9d4b3805-c29b-4922-fe5e-fe65c4e4ac69",
        "id": "YQOKc7b558Ql"
      },
      "execution_count": null,
      "outputs": [
        {
          "output_type": "stream",
          "name": "stdout",
          "text": [
            "The p-value is 0.7180309510793431\n"
          ]
        }
      ]
    },
    {
      "cell_type": "markdown",
      "source": [
        "As the p-value is larger than the level of significance - 0.05, we fail to reject the null hypothesis that the mean of hardness of implants for each dentist is equal.\n",
        "\n"
      ],
      "metadata": {
        "id": "dlh9rBRz58Ql"
      }
    },
    {
      "cell_type": "markdown",
      "source": [
        "##Question 4.2 How does the hardness of implants vary depending on methods?"
      ],
      "metadata": {
        "id": "exanueS07G_n"
      }
    },
    {
      "cell_type": "markdown",
      "source": [
        "##Alloy 1"
      ],
      "metadata": {
        "id": "Oz5EhiLF7G_c"
      }
    },
    {
      "cell_type": "code",
      "source": [
        "df1=df[df['Alloy']==1]"
      ],
      "metadata": {
        "id": "KNR9-lIF7G_j"
      },
      "execution_count": 28,
      "outputs": []
    },
    {
      "cell_type": "code",
      "source": [
        "df1.head()"
      ],
      "metadata": {
        "colab": {
          "base_uri": "https://localhost:8080/",
          "height": 206
        },
        "outputId": "521ad0c6-bc70-444a-ba00-43b0af099620",
        "id": "hhWaDbGY7G_j"
      },
      "execution_count": 29,
      "outputs": [
        {
          "output_type": "execute_result",
          "data": {
            "text/plain": [
              "   Dentist  Method  Alloy  Temp  Response\n",
              "0        1       1      1  1500       813\n",
              "1        1       1      1  1600       792\n",
              "2        1       1      1  1700       792\n",
              "6        1       2      1  1500       782\n",
              "7        1       2      1  1600       698"
            ],
            "text/html": [
              "\n",
              "  <div id=\"df-7e1075b0-3a93-493f-a2d7-54028108206c\" class=\"colab-df-container\">\n",
              "    <div>\n",
              "<style scoped>\n",
              "    .dataframe tbody tr th:only-of-type {\n",
              "        vertical-align: middle;\n",
              "    }\n",
              "\n",
              "    .dataframe tbody tr th {\n",
              "        vertical-align: top;\n",
              "    }\n",
              "\n",
              "    .dataframe thead th {\n",
              "        text-align: right;\n",
              "    }\n",
              "</style>\n",
              "<table border=\"1\" class=\"dataframe\">\n",
              "  <thead>\n",
              "    <tr style=\"text-align: right;\">\n",
              "      <th></th>\n",
              "      <th>Dentist</th>\n",
              "      <th>Method</th>\n",
              "      <th>Alloy</th>\n",
              "      <th>Temp</th>\n",
              "      <th>Response</th>\n",
              "    </tr>\n",
              "  </thead>\n",
              "  <tbody>\n",
              "    <tr>\n",
              "      <th>0</th>\n",
              "      <td>1</td>\n",
              "      <td>1</td>\n",
              "      <td>1</td>\n",
              "      <td>1500</td>\n",
              "      <td>813</td>\n",
              "    </tr>\n",
              "    <tr>\n",
              "      <th>1</th>\n",
              "      <td>1</td>\n",
              "      <td>1</td>\n",
              "      <td>1</td>\n",
              "      <td>1600</td>\n",
              "      <td>792</td>\n",
              "    </tr>\n",
              "    <tr>\n",
              "      <th>2</th>\n",
              "      <td>1</td>\n",
              "      <td>1</td>\n",
              "      <td>1</td>\n",
              "      <td>1700</td>\n",
              "      <td>792</td>\n",
              "    </tr>\n",
              "    <tr>\n",
              "      <th>6</th>\n",
              "      <td>1</td>\n",
              "      <td>2</td>\n",
              "      <td>1</td>\n",
              "      <td>1500</td>\n",
              "      <td>782</td>\n",
              "    </tr>\n",
              "    <tr>\n",
              "      <th>7</th>\n",
              "      <td>1</td>\n",
              "      <td>2</td>\n",
              "      <td>1</td>\n",
              "      <td>1600</td>\n",
              "      <td>698</td>\n",
              "    </tr>\n",
              "  </tbody>\n",
              "</table>\n",
              "</div>\n",
              "    <div class=\"colab-df-buttons\">\n",
              "\n",
              "  <div class=\"colab-df-container\">\n",
              "    <button class=\"colab-df-convert\" onclick=\"convertToInteractive('df-7e1075b0-3a93-493f-a2d7-54028108206c')\"\n",
              "            title=\"Convert this dataframe to an interactive table.\"\n",
              "            style=\"display:none;\">\n",
              "\n",
              "  <svg xmlns=\"http://www.w3.org/2000/svg\" height=\"24px\" viewBox=\"0 -960 960 960\">\n",
              "    <path d=\"M120-120v-720h720v720H120Zm60-500h600v-160H180v160Zm220 220h160v-160H400v160Zm0 220h160v-160H400v160ZM180-400h160v-160H180v160Zm440 0h160v-160H620v160ZM180-180h160v-160H180v160Zm440 0h160v-160H620v160Z\"/>\n",
              "  </svg>\n",
              "    </button>\n",
              "\n",
              "  <style>\n",
              "    .colab-df-container {\n",
              "      display:flex;\n",
              "      gap: 12px;\n",
              "    }\n",
              "\n",
              "    .colab-df-convert {\n",
              "      background-color: #E8F0FE;\n",
              "      border: none;\n",
              "      border-radius: 50%;\n",
              "      cursor: pointer;\n",
              "      display: none;\n",
              "      fill: #1967D2;\n",
              "      height: 32px;\n",
              "      padding: 0 0 0 0;\n",
              "      width: 32px;\n",
              "    }\n",
              "\n",
              "    .colab-df-convert:hover {\n",
              "      background-color: #E2EBFA;\n",
              "      box-shadow: 0px 1px 2px rgba(60, 64, 67, 0.3), 0px 1px 3px 1px rgba(60, 64, 67, 0.15);\n",
              "      fill: #174EA6;\n",
              "    }\n",
              "\n",
              "    .colab-df-buttons div {\n",
              "      margin-bottom: 4px;\n",
              "    }\n",
              "\n",
              "    [theme=dark] .colab-df-convert {\n",
              "      background-color: #3B4455;\n",
              "      fill: #D2E3FC;\n",
              "    }\n",
              "\n",
              "    [theme=dark] .colab-df-convert:hover {\n",
              "      background-color: #434B5C;\n",
              "      box-shadow: 0px 1px 3px 1px rgba(0, 0, 0, 0.15);\n",
              "      filter: drop-shadow(0px 1px 2px rgba(0, 0, 0, 0.3));\n",
              "      fill: #FFFFFF;\n",
              "    }\n",
              "  </style>\n",
              "\n",
              "    <script>\n",
              "      const buttonEl =\n",
              "        document.querySelector('#df-7e1075b0-3a93-493f-a2d7-54028108206c button.colab-df-convert');\n",
              "      buttonEl.style.display =\n",
              "        google.colab.kernel.accessAllowed ? 'block' : 'none';\n",
              "\n",
              "      async function convertToInteractive(key) {\n",
              "        const element = document.querySelector('#df-7e1075b0-3a93-493f-a2d7-54028108206c');\n",
              "        const dataTable =\n",
              "          await google.colab.kernel.invokeFunction('convertToInteractive',\n",
              "                                                    [key], {});\n",
              "        if (!dataTable) return;\n",
              "\n",
              "        const docLinkHtml = 'Like what you see? Visit the ' +\n",
              "          '<a target=\"_blank\" href=https://colab.research.google.com/notebooks/data_table.ipynb>data table notebook</a>'\n",
              "          + ' to learn more about interactive tables.';\n",
              "        element.innerHTML = '';\n",
              "        dataTable['output_type'] = 'display_data';\n",
              "        await google.colab.output.renderOutput(dataTable, element);\n",
              "        const docLink = document.createElement('div');\n",
              "        docLink.innerHTML = docLinkHtml;\n",
              "        element.appendChild(docLink);\n",
              "      }\n",
              "    </script>\n",
              "  </div>\n",
              "\n",
              "\n",
              "<div id=\"df-d61de25a-e92c-435f-8c3f-bb14b0786fd5\">\n",
              "  <button class=\"colab-df-quickchart\" onclick=\"quickchart('df-d61de25a-e92c-435f-8c3f-bb14b0786fd5')\"\n",
              "            title=\"Suggest charts\"\n",
              "            style=\"display:none;\">\n",
              "\n",
              "<svg xmlns=\"http://www.w3.org/2000/svg\" height=\"24px\"viewBox=\"0 0 24 24\"\n",
              "     width=\"24px\">\n",
              "    <g>\n",
              "        <path d=\"M19 3H5c-1.1 0-2 .9-2 2v14c0 1.1.9 2 2 2h14c1.1 0 2-.9 2-2V5c0-1.1-.9-2-2-2zM9 17H7v-7h2v7zm4 0h-2V7h2v10zm4 0h-2v-4h2v4z\"/>\n",
              "    </g>\n",
              "</svg>\n",
              "  </button>\n",
              "\n",
              "<style>\n",
              "  .colab-df-quickchart {\n",
              "      --bg-color: #E8F0FE;\n",
              "      --fill-color: #1967D2;\n",
              "      --hover-bg-color: #E2EBFA;\n",
              "      --hover-fill-color: #174EA6;\n",
              "      --disabled-fill-color: #AAA;\n",
              "      --disabled-bg-color: #DDD;\n",
              "  }\n",
              "\n",
              "  [theme=dark] .colab-df-quickchart {\n",
              "      --bg-color: #3B4455;\n",
              "      --fill-color: #D2E3FC;\n",
              "      --hover-bg-color: #434B5C;\n",
              "      --hover-fill-color: #FFFFFF;\n",
              "      --disabled-bg-color: #3B4455;\n",
              "      --disabled-fill-color: #666;\n",
              "  }\n",
              "\n",
              "  .colab-df-quickchart {\n",
              "    background-color: var(--bg-color);\n",
              "    border: none;\n",
              "    border-radius: 50%;\n",
              "    cursor: pointer;\n",
              "    display: none;\n",
              "    fill: var(--fill-color);\n",
              "    height: 32px;\n",
              "    padding: 0;\n",
              "    width: 32px;\n",
              "  }\n",
              "\n",
              "  .colab-df-quickchart:hover {\n",
              "    background-color: var(--hover-bg-color);\n",
              "    box-shadow: 0 1px 2px rgba(60, 64, 67, 0.3), 0 1px 3px 1px rgba(60, 64, 67, 0.15);\n",
              "    fill: var(--button-hover-fill-color);\n",
              "  }\n",
              "\n",
              "  .colab-df-quickchart-complete:disabled,\n",
              "  .colab-df-quickchart-complete:disabled:hover {\n",
              "    background-color: var(--disabled-bg-color);\n",
              "    fill: var(--disabled-fill-color);\n",
              "    box-shadow: none;\n",
              "  }\n",
              "\n",
              "  .colab-df-spinner {\n",
              "    border: 2px solid var(--fill-color);\n",
              "    border-color: transparent;\n",
              "    border-bottom-color: var(--fill-color);\n",
              "    animation:\n",
              "      spin 1s steps(1) infinite;\n",
              "  }\n",
              "\n",
              "  @keyframes spin {\n",
              "    0% {\n",
              "      border-color: transparent;\n",
              "      border-bottom-color: var(--fill-color);\n",
              "      border-left-color: var(--fill-color);\n",
              "    }\n",
              "    20% {\n",
              "      border-color: transparent;\n",
              "      border-left-color: var(--fill-color);\n",
              "      border-top-color: var(--fill-color);\n",
              "    }\n",
              "    30% {\n",
              "      border-color: transparent;\n",
              "      border-left-color: var(--fill-color);\n",
              "      border-top-color: var(--fill-color);\n",
              "      border-right-color: var(--fill-color);\n",
              "    }\n",
              "    40% {\n",
              "      border-color: transparent;\n",
              "      border-right-color: var(--fill-color);\n",
              "      border-top-color: var(--fill-color);\n",
              "    }\n",
              "    60% {\n",
              "      border-color: transparent;\n",
              "      border-right-color: var(--fill-color);\n",
              "    }\n",
              "    80% {\n",
              "      border-color: transparent;\n",
              "      border-right-color: var(--fill-color);\n",
              "      border-bottom-color: var(--fill-color);\n",
              "    }\n",
              "    90% {\n",
              "      border-color: transparent;\n",
              "      border-bottom-color: var(--fill-color);\n",
              "    }\n",
              "  }\n",
              "</style>\n",
              "\n",
              "  <script>\n",
              "    async function quickchart(key) {\n",
              "      const quickchartButtonEl =\n",
              "        document.querySelector('#' + key + ' button');\n",
              "      quickchartButtonEl.disabled = true;  // To prevent multiple clicks.\n",
              "      quickchartButtonEl.classList.add('colab-df-spinner');\n",
              "      try {\n",
              "        const charts = await google.colab.kernel.invokeFunction(\n",
              "            'suggestCharts', [key], {});\n",
              "      } catch (error) {\n",
              "        console.error('Error during call to suggestCharts:', error);\n",
              "      }\n",
              "      quickchartButtonEl.classList.remove('colab-df-spinner');\n",
              "      quickchartButtonEl.classList.add('colab-df-quickchart-complete');\n",
              "    }\n",
              "    (() => {\n",
              "      let quickchartButtonEl =\n",
              "        document.querySelector('#df-d61de25a-e92c-435f-8c3f-bb14b0786fd5 button');\n",
              "      quickchartButtonEl.style.display =\n",
              "        google.colab.kernel.accessAllowed ? 'block' : 'none';\n",
              "    })();\n",
              "  </script>\n",
              "</div>\n",
              "\n",
              "    </div>\n",
              "  </div>\n"
            ],
            "application/vnd.google.colaboratory.intrinsic+json": {
              "type": "dataframe",
              "variable_name": "df1",
              "summary": "{\n  \"name\": \"df1\",\n  \"rows\": 45,\n  \"fields\": [\n    {\n      \"column\": \"Dentist\",\n      \"properties\": {\n        \"dtype\": \"number\",\n        \"std\": 1,\n        \"min\": 1,\n        \"max\": 5,\n        \"num_unique_values\": 5,\n        \"samples\": [\n          2,\n          5,\n          3\n        ],\n        \"semantic_type\": \"\",\n        \"description\": \"\"\n      }\n    },\n    {\n      \"column\": \"Method\",\n      \"properties\": {\n        \"dtype\": \"number\",\n        \"std\": 0,\n        \"min\": 1,\n        \"max\": 3,\n        \"num_unique_values\": 3,\n        \"samples\": [\n          1,\n          2,\n          3\n        ],\n        \"semantic_type\": \"\",\n        \"description\": \"\"\n      }\n    },\n    {\n      \"column\": \"Alloy\",\n      \"properties\": {\n        \"dtype\": \"number\",\n        \"std\": 0,\n        \"min\": 1,\n        \"max\": 1,\n        \"num_unique_values\": 1,\n        \"samples\": [\n          1\n        ],\n        \"semantic_type\": \"\",\n        \"description\": \"\"\n      }\n    },\n    {\n      \"column\": \"Temp\",\n      \"properties\": {\n        \"dtype\": \"number\",\n        \"std\": 82,\n        \"min\": 1500,\n        \"max\": 1700,\n        \"num_unique_values\": 3,\n        \"samples\": [\n          1500\n        ],\n        \"semantic_type\": \"\",\n        \"description\": \"\"\n      }\n    },\n    {\n      \"column\": \"Response\",\n      \"properties\": {\n        \"dtype\": \"number\",\n        \"std\": 121,\n        \"min\": 289,\n        \"max\": 882,\n        \"num_unique_values\": 25,\n        \"samples\": [\n          715\n        ],\n        \"semantic_type\": \"\",\n        \"description\": \"\"\n      }\n    }\n  ]\n}"
            }
          },
          "metadata": {},
          "execution_count": 29
        }
      ]
    },
    {
      "cell_type": "code",
      "source": [
        "df1['Method'].value_counts()"
      ],
      "metadata": {
        "colab": {
          "base_uri": "https://localhost:8080/"
        },
        "outputId": "6dcf2ee8-ba5d-4db4-8588-dc62ab2fd714",
        "id": "YgvfVs3G7G_j"
      },
      "execution_count": 30,
      "outputs": [
        {
          "output_type": "execute_result",
          "data": {
            "text/plain": [
              "Method\n",
              "1    15\n",
              "2    15\n",
              "3    15\n",
              "Name: count, dtype: int64"
            ]
          },
          "metadata": {},
          "execution_count": 30
        }
      ]
    },
    {
      "cell_type": "markdown",
      "source": [
        "### Let's write the null and alternative hypothesis\n",
        "\n",
        "Let $\\mu_1, \\mu_2, \\mu_3$ be the means of hardness of implants for each methods respectively.\n",
        "\n",
        "We will test the null hypothesis\n",
        "\n",
        ">$H_0: \\mu_1 = \\mu_2 = \\mu_3$\n",
        "\n",
        "against the alternative hypothesis\n",
        "\n",
        ">$H_a: $ At least one hardness of implants is different from the rest."
      ],
      "metadata": {
        "id": "zwH7R75H7G_k"
      }
    },
    {
      "cell_type": "code",
      "source": [
        "print(\"Means of hardness of implants for each method:\\n\",df1.groupby(\"Method\")[\"Response\"].mean())\n"
      ],
      "metadata": {
        "colab": {
          "base_uri": "https://localhost:8080/"
        },
        "outputId": "0ff2ac1a-17a5-4f26-d4cd-8839268cfe0c",
        "id": "KLaTEyZx7G_k"
      },
      "execution_count": 32,
      "outputs": [
        {
          "output_type": "stream",
          "name": "stdout",
          "text": [
            "Means of hardness of implants for each method:\n",
            " Method\n",
            "1   751.133\n",
            "2   745.000\n",
            "3   626.333\n",
            "Name: Response, dtype: float64\n"
          ]
        }
      ]
    },
    {
      "cell_type": "markdown",
      "source": [
        "Now, the normality and equality of variance assumptions need to be checked.\n",
        "\n",
        "* For testing of normality, Shapiro-Wilk’s test is applied to the response variable.\n",
        "\n",
        "* For equality of variance, Levene test is applied to the response variable."
      ],
      "metadata": {
        "id": "YcZGmfQb7G_k"
      }
    },
    {
      "cell_type": "markdown",
      "source": [
        "### Shapiro-Wilk’s test\n",
        "\n",
        "We will test the null hypothesis\n",
        "\n",
        ">$H_0:$ Hardness of implants follows a normal distribution against\n",
        "\n",
        "against the alternative hypothesis\n",
        "\n",
        ">$H_a:$ Hardness of implants does not follow a normal distribution"
      ],
      "metadata": {
        "id": "_VSyc8FW7G_k"
      }
    },
    {
      "cell_type": "code",
      "source": [
        "# Assumption 1: Normality\n",
        "# import the required function\n",
        "from scipy import stats\n",
        "\n",
        "# find the p-value\n",
        "w, p_value = stats.shapiro(df1['Response'])\n",
        "print('The p-value is', p_value)"
      ],
      "metadata": {
        "colab": {
          "base_uri": "https://localhost:8080/"
        },
        "outputId": "5ad8443c-c834-4215-f47a-a1e9471a1784",
        "id": "VaXEEO0y7G_k"
      },
      "execution_count": 33,
      "outputs": [
        {
          "output_type": "stream",
          "name": "stdout",
          "text": [
            "The p-value is 1.1945070582441986e-05\n"
          ]
        }
      ]
    },
    {
      "cell_type": "markdown",
      "source": [
        "As the p-value is less than the level of significance - 0.05, we can reject the null hypothesis. Hence, we do not have enough evidence to support the claim that hardness of implants follows a normal distribution"
      ],
      "metadata": {
        "id": "HqqnZ11_7G_k"
      }
    },
    {
      "cell_type": "markdown",
      "source": [
        "### Levene’s test\n",
        "\n",
        "We will test the null hypothesis\n",
        "\n",
        ">$H_0$: All the population variances are equal\n",
        "\n",
        "against the alternative hypothesis\n",
        "\n",
        ">$H_a$: At least one variance is different from the rest"
      ],
      "metadata": {
        "id": "c0Y2InJz7G_k"
      }
    },
    {
      "cell_type": "code",
      "source": [
        "#Assumption 2: Homogeneity of Variance\n",
        "#import the required function\n",
        "from scipy.stats import levene\n",
        "statistic, p_value = levene( df1['Response'][df1['Method']==1],\n",
        "                                   df1['Response'][df1['Method']==2],\n",
        "                                   df1['Response'][df1['Method']==3])\n",
        "# find the p-value\n",
        "print('The p-value is', p_value)"
      ],
      "metadata": {
        "colab": {
          "base_uri": "https://localhost:8080/"
        },
        "outputId": "c14e6c56-53cc-4e71-c5b5-1aadf9971528",
        "id": "uEiRFs6v7G_k"
      },
      "execution_count": 34,
      "outputs": [
        {
          "output_type": "stream",
          "name": "stdout",
          "text": [
            "The p-value is 0.0034160381460233975\n"
          ]
        }
      ]
    },
    {
      "cell_type": "markdown",
      "source": [
        "Since the p-value is less than level of significance, we can reject the null hypothesis of homogeneity of variances."
      ],
      "metadata": {
        "id": "luJyca6y7G_k"
      }
    },
    {
      "cell_type": "markdown",
      "source": [
        "###One-Way ANOVA Test"
      ],
      "metadata": {
        "id": "X9gKKlwJ7G_k"
      }
    },
    {
      "cell_type": "markdown",
      "source": [
        "### Let's find the p-value"
      ],
      "metadata": {
        "id": "6vWi-uiW7G_k"
      }
    },
    {
      "cell_type": "code",
      "source": [
        "#import the required function\n",
        "from scipy.stats import f_oneway\n",
        "\n",
        "# perform one-way anova test\n",
        "test_stat, p_value = f_oneway(df1.loc[df1['Method'] == 1, 'Response'],\n",
        "                              df1.loc[df1['Method'] == 2, 'Response'],\n",
        "                              df1.loc[df1['Method'] == 3, 'Response'])\n",
        "print('The p-value is ' + str(p_value))"
      ],
      "metadata": {
        "colab": {
          "base_uri": "https://localhost:8080/"
        },
        "outputId": "0ca84250-0a27-498d-f552-81ac04b694b6",
        "id": "KC757NZb7G_l"
      },
      "execution_count": 35,
      "outputs": [
        {
          "output_type": "stream",
          "name": "stdout",
          "text": [
            "The p-value is 0.004163412167505543\n"
          ]
        }
      ]
    },
    {
      "cell_type": "markdown",
      "source": [
        "As the p-value is less than the level of significance - 0.05, we can reject the null hypothesis. Hence, we do not have enough evidence to support the claim that mean of hardness of implants for each methods are equal\n",
        "\n"
      ],
      "metadata": {
        "id": "enfztbrR7G_l"
      }
    },
    {
      "cell_type": "markdown",
      "metadata": {
        "id": "lb7fV6waiIb8"
      },
      "source": [
        "### Multiple Comparison test (Tukey HSD)"
      ]
    },
    {
      "cell_type": "markdown",
      "metadata": {
        "id": "3_E5MHuMSwSC"
      },
      "source": [
        "\n",
        "In order to identify for which method mean hardness of implant is different from other groups, the null hypothesis is\n",
        "\n",
        " >$H_0: \\mu_1 = \\mu_2 = \\mu_3$\n",
        "\n",
        "against the alternative hypothesis\n",
        "\n",
        " > $𝐻_a: At least one pair of means is significantly different"
      ]
    },
    {
      "cell_type": "code",
      "execution_count": 36,
      "metadata": {
        "id": "z5MQ4yAxSwSC",
        "outputId": "fbfa0d1d-5ad5-41ef-825b-9089569f075b",
        "colab": {
          "base_uri": "https://localhost:8080/"
        }
      },
      "outputs": [
        {
          "output_type": "stream",
          "name": "stdout",
          "text": [
            "  Multiple Comparison of Means - Tukey HSD, FWER=0.05   \n",
            "========================================================\n",
            "group1 group2  meandiff p-adj    lower    upper   reject\n",
            "--------------------------------------------------------\n",
            "     1      2   -6.1333  0.987  -102.714  90.4473  False\n",
            "     1      3    -124.8 0.0085 -221.3807 -28.2193   True\n",
            "     2      3 -118.6667 0.0128 -215.2473  -22.086   True\n",
            "--------------------------------------------------------\n"
          ]
        }
      ],
      "source": [
        "#import the required function\n",
        "from statsmodels.stats.multicomp import pairwise_tukeyhsd\n",
        "\n",
        "# perform multiple pairwise comparison (Tukey HSD)\n",
        "m_comp = pairwise_tukeyhsd(endog = df1['Response'], groups = df1['Method'], alpha = 0.05)\n",
        "print(m_comp)"
      ]
    },
    {
      "cell_type": "markdown",
      "metadata": {
        "id": "96o4N-COSwSD"
      },
      "source": [
        "### Insight\n",
        "\n",
        "As the p-values (refer to the p-adj column) for comparing the mean hardness of implant for the pair Method(1,3) and Method(2,3) is less than the significance level, the null hypothesis of equality of all population means can be rejected.\n",
        "\n",
        "Thus, we can say that the mean hardness of implant for Method 1 and Method 2 is similar but hardness for Method 3 is significantly different from Method 1 and Method 2."
      ]
    },
    {
      "cell_type": "markdown",
      "source": [
        "##Alloy 2"
      ],
      "metadata": {
        "id": "2iE_9sab7G_l"
      }
    },
    {
      "cell_type": "code",
      "source": [
        "df1=df[df['Alloy']==2]"
      ],
      "metadata": {
        "id": "B9QWdl4I7G_l"
      },
      "execution_count": 37,
      "outputs": []
    },
    {
      "cell_type": "code",
      "source": [
        "df1.head()"
      ],
      "metadata": {
        "colab": {
          "base_uri": "https://localhost:8080/",
          "height": 206
        },
        "outputId": "e43d9606-eb44-4d65-dda7-829ff1593952",
        "id": "giYEIN0T8lj_"
      },
      "execution_count": 38,
      "outputs": [
        {
          "output_type": "execute_result",
          "data": {
            "text/plain": [
              "    Dentist  Method  Alloy  Temp  Response\n",
              "3         1       1      2  1500       907\n",
              "4         1       1      2  1600       792\n",
              "5         1       1      2  1700       835\n",
              "9         1       2      2  1500      1115\n",
              "10        1       2      2  1600       835"
            ],
            "text/html": [
              "\n",
              "  <div id=\"df-069d3f1c-c110-4f90-abb6-158f1978087d\" class=\"colab-df-container\">\n",
              "    <div>\n",
              "<style scoped>\n",
              "    .dataframe tbody tr th:only-of-type {\n",
              "        vertical-align: middle;\n",
              "    }\n",
              "\n",
              "    .dataframe tbody tr th {\n",
              "        vertical-align: top;\n",
              "    }\n",
              "\n",
              "    .dataframe thead th {\n",
              "        text-align: right;\n",
              "    }\n",
              "</style>\n",
              "<table border=\"1\" class=\"dataframe\">\n",
              "  <thead>\n",
              "    <tr style=\"text-align: right;\">\n",
              "      <th></th>\n",
              "      <th>Dentist</th>\n",
              "      <th>Method</th>\n",
              "      <th>Alloy</th>\n",
              "      <th>Temp</th>\n",
              "      <th>Response</th>\n",
              "    </tr>\n",
              "  </thead>\n",
              "  <tbody>\n",
              "    <tr>\n",
              "      <th>3</th>\n",
              "      <td>1</td>\n",
              "      <td>1</td>\n",
              "      <td>2</td>\n",
              "      <td>1500</td>\n",
              "      <td>907</td>\n",
              "    </tr>\n",
              "    <tr>\n",
              "      <th>4</th>\n",
              "      <td>1</td>\n",
              "      <td>1</td>\n",
              "      <td>2</td>\n",
              "      <td>1600</td>\n",
              "      <td>792</td>\n",
              "    </tr>\n",
              "    <tr>\n",
              "      <th>5</th>\n",
              "      <td>1</td>\n",
              "      <td>1</td>\n",
              "      <td>2</td>\n",
              "      <td>1700</td>\n",
              "      <td>835</td>\n",
              "    </tr>\n",
              "    <tr>\n",
              "      <th>9</th>\n",
              "      <td>1</td>\n",
              "      <td>2</td>\n",
              "      <td>2</td>\n",
              "      <td>1500</td>\n",
              "      <td>1115</td>\n",
              "    </tr>\n",
              "    <tr>\n",
              "      <th>10</th>\n",
              "      <td>1</td>\n",
              "      <td>2</td>\n",
              "      <td>2</td>\n",
              "      <td>1600</td>\n",
              "      <td>835</td>\n",
              "    </tr>\n",
              "  </tbody>\n",
              "</table>\n",
              "</div>\n",
              "    <div class=\"colab-df-buttons\">\n",
              "\n",
              "  <div class=\"colab-df-container\">\n",
              "    <button class=\"colab-df-convert\" onclick=\"convertToInteractive('df-069d3f1c-c110-4f90-abb6-158f1978087d')\"\n",
              "            title=\"Convert this dataframe to an interactive table.\"\n",
              "            style=\"display:none;\">\n",
              "\n",
              "  <svg xmlns=\"http://www.w3.org/2000/svg\" height=\"24px\" viewBox=\"0 -960 960 960\">\n",
              "    <path d=\"M120-120v-720h720v720H120Zm60-500h600v-160H180v160Zm220 220h160v-160H400v160Zm0 220h160v-160H400v160ZM180-400h160v-160H180v160Zm440 0h160v-160H620v160ZM180-180h160v-160H180v160Zm440 0h160v-160H620v160Z\"/>\n",
              "  </svg>\n",
              "    </button>\n",
              "\n",
              "  <style>\n",
              "    .colab-df-container {\n",
              "      display:flex;\n",
              "      gap: 12px;\n",
              "    }\n",
              "\n",
              "    .colab-df-convert {\n",
              "      background-color: #E8F0FE;\n",
              "      border: none;\n",
              "      border-radius: 50%;\n",
              "      cursor: pointer;\n",
              "      display: none;\n",
              "      fill: #1967D2;\n",
              "      height: 32px;\n",
              "      padding: 0 0 0 0;\n",
              "      width: 32px;\n",
              "    }\n",
              "\n",
              "    .colab-df-convert:hover {\n",
              "      background-color: #E2EBFA;\n",
              "      box-shadow: 0px 1px 2px rgba(60, 64, 67, 0.3), 0px 1px 3px 1px rgba(60, 64, 67, 0.15);\n",
              "      fill: #174EA6;\n",
              "    }\n",
              "\n",
              "    .colab-df-buttons div {\n",
              "      margin-bottom: 4px;\n",
              "    }\n",
              "\n",
              "    [theme=dark] .colab-df-convert {\n",
              "      background-color: #3B4455;\n",
              "      fill: #D2E3FC;\n",
              "    }\n",
              "\n",
              "    [theme=dark] .colab-df-convert:hover {\n",
              "      background-color: #434B5C;\n",
              "      box-shadow: 0px 1px 3px 1px rgba(0, 0, 0, 0.15);\n",
              "      filter: drop-shadow(0px 1px 2px rgba(0, 0, 0, 0.3));\n",
              "      fill: #FFFFFF;\n",
              "    }\n",
              "  </style>\n",
              "\n",
              "    <script>\n",
              "      const buttonEl =\n",
              "        document.querySelector('#df-069d3f1c-c110-4f90-abb6-158f1978087d button.colab-df-convert');\n",
              "      buttonEl.style.display =\n",
              "        google.colab.kernel.accessAllowed ? 'block' : 'none';\n",
              "\n",
              "      async function convertToInteractive(key) {\n",
              "        const element = document.querySelector('#df-069d3f1c-c110-4f90-abb6-158f1978087d');\n",
              "        const dataTable =\n",
              "          await google.colab.kernel.invokeFunction('convertToInteractive',\n",
              "                                                    [key], {});\n",
              "        if (!dataTable) return;\n",
              "\n",
              "        const docLinkHtml = 'Like what you see? Visit the ' +\n",
              "          '<a target=\"_blank\" href=https://colab.research.google.com/notebooks/data_table.ipynb>data table notebook</a>'\n",
              "          + ' to learn more about interactive tables.';\n",
              "        element.innerHTML = '';\n",
              "        dataTable['output_type'] = 'display_data';\n",
              "        await google.colab.output.renderOutput(dataTable, element);\n",
              "        const docLink = document.createElement('div');\n",
              "        docLink.innerHTML = docLinkHtml;\n",
              "        element.appendChild(docLink);\n",
              "      }\n",
              "    </script>\n",
              "  </div>\n",
              "\n",
              "\n",
              "<div id=\"df-17e929a6-69d0-4da2-a1c7-b16c70c77776\">\n",
              "  <button class=\"colab-df-quickchart\" onclick=\"quickchart('df-17e929a6-69d0-4da2-a1c7-b16c70c77776')\"\n",
              "            title=\"Suggest charts\"\n",
              "            style=\"display:none;\">\n",
              "\n",
              "<svg xmlns=\"http://www.w3.org/2000/svg\" height=\"24px\"viewBox=\"0 0 24 24\"\n",
              "     width=\"24px\">\n",
              "    <g>\n",
              "        <path d=\"M19 3H5c-1.1 0-2 .9-2 2v14c0 1.1.9 2 2 2h14c1.1 0 2-.9 2-2V5c0-1.1-.9-2-2-2zM9 17H7v-7h2v7zm4 0h-2V7h2v10zm4 0h-2v-4h2v4z\"/>\n",
              "    </g>\n",
              "</svg>\n",
              "  </button>\n",
              "\n",
              "<style>\n",
              "  .colab-df-quickchart {\n",
              "      --bg-color: #E8F0FE;\n",
              "      --fill-color: #1967D2;\n",
              "      --hover-bg-color: #E2EBFA;\n",
              "      --hover-fill-color: #174EA6;\n",
              "      --disabled-fill-color: #AAA;\n",
              "      --disabled-bg-color: #DDD;\n",
              "  }\n",
              "\n",
              "  [theme=dark] .colab-df-quickchart {\n",
              "      --bg-color: #3B4455;\n",
              "      --fill-color: #D2E3FC;\n",
              "      --hover-bg-color: #434B5C;\n",
              "      --hover-fill-color: #FFFFFF;\n",
              "      --disabled-bg-color: #3B4455;\n",
              "      --disabled-fill-color: #666;\n",
              "  }\n",
              "\n",
              "  .colab-df-quickchart {\n",
              "    background-color: var(--bg-color);\n",
              "    border: none;\n",
              "    border-radius: 50%;\n",
              "    cursor: pointer;\n",
              "    display: none;\n",
              "    fill: var(--fill-color);\n",
              "    height: 32px;\n",
              "    padding: 0;\n",
              "    width: 32px;\n",
              "  }\n",
              "\n",
              "  .colab-df-quickchart:hover {\n",
              "    background-color: var(--hover-bg-color);\n",
              "    box-shadow: 0 1px 2px rgba(60, 64, 67, 0.3), 0 1px 3px 1px rgba(60, 64, 67, 0.15);\n",
              "    fill: var(--button-hover-fill-color);\n",
              "  }\n",
              "\n",
              "  .colab-df-quickchart-complete:disabled,\n",
              "  .colab-df-quickchart-complete:disabled:hover {\n",
              "    background-color: var(--disabled-bg-color);\n",
              "    fill: var(--disabled-fill-color);\n",
              "    box-shadow: none;\n",
              "  }\n",
              "\n",
              "  .colab-df-spinner {\n",
              "    border: 2px solid var(--fill-color);\n",
              "    border-color: transparent;\n",
              "    border-bottom-color: var(--fill-color);\n",
              "    animation:\n",
              "      spin 1s steps(1) infinite;\n",
              "  }\n",
              "\n",
              "  @keyframes spin {\n",
              "    0% {\n",
              "      border-color: transparent;\n",
              "      border-bottom-color: var(--fill-color);\n",
              "      border-left-color: var(--fill-color);\n",
              "    }\n",
              "    20% {\n",
              "      border-color: transparent;\n",
              "      border-left-color: var(--fill-color);\n",
              "      border-top-color: var(--fill-color);\n",
              "    }\n",
              "    30% {\n",
              "      border-color: transparent;\n",
              "      border-left-color: var(--fill-color);\n",
              "      border-top-color: var(--fill-color);\n",
              "      border-right-color: var(--fill-color);\n",
              "    }\n",
              "    40% {\n",
              "      border-color: transparent;\n",
              "      border-right-color: var(--fill-color);\n",
              "      border-top-color: var(--fill-color);\n",
              "    }\n",
              "    60% {\n",
              "      border-color: transparent;\n",
              "      border-right-color: var(--fill-color);\n",
              "    }\n",
              "    80% {\n",
              "      border-color: transparent;\n",
              "      border-right-color: var(--fill-color);\n",
              "      border-bottom-color: var(--fill-color);\n",
              "    }\n",
              "    90% {\n",
              "      border-color: transparent;\n",
              "      border-bottom-color: var(--fill-color);\n",
              "    }\n",
              "  }\n",
              "</style>\n",
              "\n",
              "  <script>\n",
              "    async function quickchart(key) {\n",
              "      const quickchartButtonEl =\n",
              "        document.querySelector('#' + key + ' button');\n",
              "      quickchartButtonEl.disabled = true;  // To prevent multiple clicks.\n",
              "      quickchartButtonEl.classList.add('colab-df-spinner');\n",
              "      try {\n",
              "        const charts = await google.colab.kernel.invokeFunction(\n",
              "            'suggestCharts', [key], {});\n",
              "      } catch (error) {\n",
              "        console.error('Error during call to suggestCharts:', error);\n",
              "      }\n",
              "      quickchartButtonEl.classList.remove('colab-df-spinner');\n",
              "      quickchartButtonEl.classList.add('colab-df-quickchart-complete');\n",
              "    }\n",
              "    (() => {\n",
              "      let quickchartButtonEl =\n",
              "        document.querySelector('#df-17e929a6-69d0-4da2-a1c7-b16c70c77776 button');\n",
              "      quickchartButtonEl.style.display =\n",
              "        google.colab.kernel.accessAllowed ? 'block' : 'none';\n",
              "    })();\n",
              "  </script>\n",
              "</div>\n",
              "\n",
              "    </div>\n",
              "  </div>\n"
            ],
            "application/vnd.google.colaboratory.intrinsic+json": {
              "type": "dataframe",
              "variable_name": "df1",
              "summary": "{\n  \"name\": \"df1\",\n  \"rows\": 45,\n  \"fields\": [\n    {\n      \"column\": \"Dentist\",\n      \"properties\": {\n        \"dtype\": \"number\",\n        \"std\": 1,\n        \"min\": 1,\n        \"max\": 5,\n        \"num_unique_values\": 5,\n        \"samples\": [\n          2,\n          5,\n          3\n        ],\n        \"semantic_type\": \"\",\n        \"description\": \"\"\n      }\n    },\n    {\n      \"column\": \"Method\",\n      \"properties\": {\n        \"dtype\": \"number\",\n        \"std\": 0,\n        \"min\": 1,\n        \"max\": 3,\n        \"num_unique_values\": 3,\n        \"samples\": [\n          1,\n          2,\n          3\n        ],\n        \"semantic_type\": \"\",\n        \"description\": \"\"\n      }\n    },\n    {\n      \"column\": \"Alloy\",\n      \"properties\": {\n        \"dtype\": \"number\",\n        \"std\": 0,\n        \"min\": 2,\n        \"max\": 2,\n        \"num_unique_values\": 1,\n        \"samples\": [\n          2\n        ],\n        \"semantic_type\": \"\",\n        \"description\": \"\"\n      }\n    },\n    {\n      \"column\": \"Temp\",\n      \"properties\": {\n        \"dtype\": \"number\",\n        \"std\": 82,\n        \"min\": 1500,\n        \"max\": 1700,\n        \"num_unique_values\": 3,\n        \"samples\": [\n          1500\n        ],\n        \"semantic_type\": \"\",\n        \"description\": \"\"\n      }\n    },\n    {\n      \"column\": \"Response\",\n      \"properties\": {\n        \"dtype\": \"number\",\n        \"std\": 160,\n        \"min\": 312,\n        \"max\": 1115,\n        \"num_unique_values\": 27,\n        \"samples\": [\n          858\n        ],\n        \"semantic_type\": \"\",\n        \"description\": \"\"\n      }\n    }\n  ]\n}"
            }
          },
          "metadata": {},
          "execution_count": 38
        }
      ]
    },
    {
      "cell_type": "code",
      "source": [
        "df1['Method'].value_counts()"
      ],
      "metadata": {
        "colab": {
          "base_uri": "https://localhost:8080/"
        },
        "outputId": "c6231a7c-664f-4227-ce09-175127914894",
        "id": "Z6na9hV58lkJ"
      },
      "execution_count": 39,
      "outputs": [
        {
          "output_type": "execute_result",
          "data": {
            "text/plain": [
              "Method\n",
              "1    15\n",
              "2    15\n",
              "3    15\n",
              "Name: count, dtype: int64"
            ]
          },
          "metadata": {},
          "execution_count": 39
        }
      ]
    },
    {
      "cell_type": "markdown",
      "source": [
        "### Let's write the null and alternative hypothesis\n",
        "\n",
        "Let $\\mu_1, \\mu_2, \\mu_3$ be the means of hardness of implants for each methods respectively.\n",
        "\n",
        "We will test the null hypothesis\n",
        "\n",
        ">$H_0: \\mu_1 = \\mu_2 = \\mu_3$\n",
        "\n",
        "against the alternative hypothesis\n",
        "\n",
        ">$H_a: $ At least one hardness of implants is different from the rest."
      ],
      "metadata": {
        "id": "--oxHD-O8lkJ"
      }
    },
    {
      "cell_type": "code",
      "source": [
        "print(\"Means of hardness of implants for each method:\\n\",df1.groupby(\"Method\")[\"Response\"].mean())\n"
      ],
      "metadata": {
        "colab": {
          "base_uri": "https://localhost:8080/"
        },
        "outputId": "4f632891-38a2-4788-b960-1c4d0870a14f",
        "id": "_66ucxG18lkJ"
      },
      "execution_count": 41,
      "outputs": [
        {
          "output_type": "stream",
          "name": "stdout",
          "text": [
            "Means of hardness of implants for each method:\n",
            " Method\n",
            "1   836.667\n",
            "2   863.667\n",
            "3   627.867\n",
            "Name: Response, dtype: float64\n"
          ]
        }
      ]
    },
    {
      "cell_type": "markdown",
      "source": [
        "Now, the normality and equality of variance assumptions need to be checked.\n",
        "\n",
        "* For testing of normality, Shapiro-Wilk’s test is applied to the response variable.\n",
        "\n",
        "* For equality of variance, Levene test is applied to the response variable."
      ],
      "metadata": {
        "id": "qBpuFYd48lkJ"
      }
    },
    {
      "cell_type": "markdown",
      "source": [
        "### Shapiro-Wilk’s test\n",
        "\n",
        "We will test the null hypothesis\n",
        "\n",
        ">$H_0:$ Hardness of implants follows a normal distribution\n",
        "\n",
        "against the alternative hypothesis\n",
        "\n",
        ">$H_a:$ Hardness of implants does not follow a normal distribution"
      ],
      "metadata": {
        "id": "W5_1XUoV8lkJ"
      }
    },
    {
      "cell_type": "code",
      "source": [
        "# Assumption 1: Normality\n",
        "# import the required function\n",
        "from scipy import stats\n",
        "\n",
        "# find the p-value\n",
        "w, p_value = stats.shapiro(df1['Response'])\n",
        "print('The p-value is', p_value)"
      ],
      "metadata": {
        "colab": {
          "base_uri": "https://localhost:8080/"
        },
        "outputId": "ba87170d-1c0c-4f1d-b8ab-3a396f01a1f6",
        "id": "qD51VeI78lkK"
      },
      "execution_count": 42,
      "outputs": [
        {
          "output_type": "stream",
          "name": "stdout",
          "text": [
            "The p-value is 0.00040293222991749644\n"
          ]
        }
      ]
    },
    {
      "cell_type": "markdown",
      "source": [
        "As the p-value is less than the level of significance - 0.05, we can reject the null hypothesis. Hence, we do not have enough evidence to support the claim that hardness of implants follows a normal distribution"
      ],
      "metadata": {
        "id": "Q1X-micN8lkK"
      }
    },
    {
      "cell_type": "markdown",
      "source": [
        "### Levene’s test\n",
        "\n",
        "We will test the null hypothesis\n",
        "\n",
        ">$H_0$: All the population variances are equal\n",
        "\n",
        "against the alternative hypothesis\n",
        "\n",
        ">$H_a$: At least one variance is different from the rest"
      ],
      "metadata": {
        "id": "-LHDqe3U8lkK"
      }
    },
    {
      "cell_type": "code",
      "source": [
        "#Assumption 2: Homogeneity of Variance\n",
        "#import the required function\n",
        "from scipy.stats import levene\n",
        "statistic, p_value = levene( df1['Response'][df1['Method']==1],\n",
        "                                   df1['Response'][df1['Method']==2],\n",
        "                                   df1['Response'][df1['Method']==3])\n",
        "# find the p-value\n",
        "print('The p-value is', p_value)"
      ],
      "metadata": {
        "colab": {
          "base_uri": "https://localhost:8080/"
        },
        "outputId": "eb0b0804-5542-4701-9f70-a8be7c150a02",
        "id": "rJufOjXa8lkK"
      },
      "execution_count": 43,
      "outputs": [
        {
          "output_type": "stream",
          "name": "stdout",
          "text": [
            "The p-value is 0.04469269939158668\n"
          ]
        }
      ]
    },
    {
      "cell_type": "markdown",
      "source": [
        "Since the p-value is less than level of significance, we can reject the null hypothesis of homogeneity of variances."
      ],
      "metadata": {
        "id": "UhITbubU8lkK"
      }
    },
    {
      "cell_type": "markdown",
      "source": [
        "###One-Way ANOVA Test"
      ],
      "metadata": {
        "id": "qJbWgLRz8lkK"
      }
    },
    {
      "cell_type": "markdown",
      "source": [
        "### Let's find the p-value"
      ],
      "metadata": {
        "id": "bDdh0GeY8lkK"
      }
    },
    {
      "cell_type": "code",
      "source": [
        "#import the required function\n",
        "from scipy.stats import f_oneway\n",
        "\n",
        "# perform one-way anova test\n",
        "test_stat, p_value = f_oneway(df1.loc[df1['Method'] == 1, 'Response'],\n",
        "                              df1.loc[df1['Method'] == 2, 'Response'],\n",
        "                              df1.loc[df1['Method'] == 3, 'Response'])\n",
        "print('The p-value is ' + str(p_value))"
      ],
      "metadata": {
        "colab": {
          "base_uri": "https://localhost:8080/"
        },
        "outputId": "060e51d1-b44c-4a0c-98e1-5c03bbcf49ba",
        "id": "UaWyOv-X8lkK"
      },
      "execution_count": 45,
      "outputs": [
        {
          "output_type": "stream",
          "name": "stdout",
          "text": [
            "The p-value is 5.415871051443187e-06\n"
          ]
        }
      ]
    },
    {
      "cell_type": "markdown",
      "source": [
        "As the p-value is less than the level of significance - 0.05, we can reject the null hypothesis. Hence, we do not have enough evidence to support the claim that mean of hardness of implants for each methods are equal\n",
        "\n"
      ],
      "metadata": {
        "id": "t38r1ncn8lkK"
      }
    },
    {
      "cell_type": "markdown",
      "metadata": {
        "id": "ty5Dso6lwKM1"
      },
      "source": [
        "### Multiple Comparison test (Tukey HSD)"
      ]
    },
    {
      "cell_type": "markdown",
      "metadata": {
        "id": "7As8pod7wKM_"
      },
      "source": [
        "\n",
        "In order to identify for which method mean hardness of implant is different from other groups, the null hypothesis is\n",
        "\n",
        " >$H_0: \\mu_1 = \\mu_2 = \\mu_3$\n",
        "\n",
        "against the alternative hypothesis\n",
        "\n",
        " > $𝐻_a: At least one pair of means is significantly different"
      ]
    },
    {
      "cell_type": "code",
      "execution_count": 46,
      "metadata": {
        "outputId": "d8706b60-dd8c-4d7b-ecd7-d4b0b2b3b23a",
        "colab": {
          "base_uri": "https://localhost:8080/"
        },
        "id": "RL1FYJzNwKM_"
      },
      "outputs": [
        {
          "output_type": "stream",
          "name": "stdout",
          "text": [
            "  Multiple Comparison of Means - Tukey HSD, FWER=0.05   \n",
            "========================================================\n",
            "group1 group2 meandiff p-adj    lower     upper   reject\n",
            "--------------------------------------------------------\n",
            "     1      2     27.0 0.8212  -82.4546  136.4546  False\n",
            "     1      3   -208.8 0.0001 -318.2546  -99.3454   True\n",
            "     2      3   -235.8    0.0 -345.2546 -126.3454   True\n",
            "--------------------------------------------------------\n"
          ]
        }
      ],
      "source": [
        "#import the required function\n",
        "from statsmodels.stats.multicomp import pairwise_tukeyhsd\n",
        "\n",
        "# perform multiple pairwise comparison (Tukey HSD)\n",
        "m_comp = pairwise_tukeyhsd(endog = df1['Response'], groups = df1['Method'], alpha = 0.05)\n",
        "print(m_comp)"
      ]
    },
    {
      "cell_type": "markdown",
      "metadata": {
        "id": "mGD38Vl8wKNA"
      },
      "source": [
        "### Insight\n",
        "\n",
        "As the p-values (refer to the p-adj column) for comparing the mean hardness of implant for the pair Method(1,3) and Method(2,3) is less than the significance level, the null hypothesis of equality of all population means can be rejected.\n",
        "\n",
        "Thus, we can say that the mean hardness of implant for Method 1 and Method 2 is similar but hardness for Method 3 is significantly different from Method 1 and Method 2."
      ]
    },
    {
      "cell_type": "markdown",
      "source": [
        "##Question 4.3 What is the interaction effect between the dentist and method on the hardness of dental implants for each type of alloy?"
      ],
      "metadata": {
        "id": "PaOnnswn89Tv"
      }
    },
    {
      "cell_type": "markdown",
      "source": [
        "### Interaction Plot for each Alloy type"
      ],
      "metadata": {
        "id": "tb0Nyi24MNS9"
      }
    },
    {
      "cell_type": "code",
      "source": [
        "\n",
        "g = sns.FacetGrid(df, col=\"Alloy\", height=6, aspect=1)\n",
        "g.map_dataframe(sns.pointplot, x='Method', y='Response', hue='Dentist', markers=[\"o\", \"s\", \"D\", \"^\", \"v\"], linestyles=[\"-\", \"--\", \":\", \"-.\",(0, (3, 1, 1, 1))])\n",
        "g.add_legend()\n",
        "plt.show()"
      ],
      "metadata": {
        "colab": {
          "base_uri": "https://localhost:8080/",
          "height": 781
        },
        "id": "Qhun8t52KWh4",
        "outputId": "ee27b03d-4945-4431-bd34-c040a60e8242"
      },
      "execution_count": null,
      "outputs": [
        {
          "output_type": "stream",
          "name": "stderr",
          "text": [
            "/usr/local/lib/python3.10/dist-packages/seaborn/axisgrid.py:854: FutureWarning: \n",
            "\n",
            "Setting a gradient palette using color= is deprecated and will be removed in v0.14.0. Set `palette='dark:#1f77b4'` for the same effect.\n",
            "\n",
            "  func(*plot_args, **plot_kwargs)\n",
            "/usr/local/lib/python3.10/dist-packages/seaborn/axisgrid.py:854: FutureWarning: \n",
            "\n",
            "Setting a gradient palette using color= is deprecated and will be removed in v0.14.0. Set `palette='dark:#1f77b4'` for the same effect.\n",
            "\n",
            "  func(*plot_args, **plot_kwargs)\n"
          ]
        },
        {
          "output_type": "display_data",
          "data": {
            "text/plain": [
              "<Figure size 1258.88x600 with 2 Axes>"
            ],
            "image/png": "[encoded data removed]"
          },
          "metadata": {}
        }
      ]
    },
    {
      "cell_type": "markdown",
      "source": [
        "###Insights\n",
        "\n",
        "\n",
        "\n",
        "* We can notice some interaction effect between the dentist and method on the hardness of dental implants for each type of alloy.\n",
        "* Dentist 1 prefers using method 2 with alloy 2 to achieve a higher hardness level on dental implants.\n",
        "* Dentist 5 obtains a low hardness level with method 3 for both alloy implants.\n",
        "* Method 2 consistently results in a higher hardness level for alloy 2.\n",
        "\n",
        "\n",
        "\n"
      ],
      "metadata": {
        "id": "LeIg8wDuOZT5"
      }
    },
    {
      "cell_type": "markdown",
      "source": [
        "## Question 4.4  How does the hardness of implants vary depending on dentists and methods together?"
      ],
      "metadata": {
        "id": "UfPR6UsuT5Zn"
      }
    },
    {
      "cell_type": "markdown",
      "source": [
        "##Alloy 1"
      ],
      "metadata": {
        "id": "-lJr6i2sW-Hy"
      }
    },
    {
      "cell_type": "code",
      "source": [
        "from statsmodels.formula.api import ols\n",
        "import statsmodels.api as sm\n",
        "from statsmodels.stats.anova import anova_lm\n"
      ],
      "metadata": {
        "id": "ylgczHZ7iBIr"
      },
      "execution_count": 51,
      "outputs": []
    },
    {
      "cell_type": "code",
      "source": [
        "df1=df[df['Alloy']==1]"
      ],
      "metadata": {
        "id": "SZZi8Sdthnwn"
      },
      "execution_count": 57,
      "outputs": []
    },
    {
      "cell_type": "markdown",
      "source": [
        "### Let's write the null and alternative hypothesis\n",
        "\n",
        "\n",
        "\n",
        "We will test the null hypothesis\n",
        "\n",
        ">$H_0: $ There is no interaction effect between dentists and methods on the hardness of implants.\n",
        "\n",
        "against the alternative hypothesis\n",
        "\n",
        ">$H_a: $ There is an interaction effect between dentists and methods on the hardness of implants."
      ],
      "metadata": {
        "id": "xxDnPSXbXmck"
      }
    },
    {
      "cell_type": "code",
      "source": [
        "print(\"Means of hardness of implants for each Dentist and Method:\\n\",df1.groupby([\"Dentist\",\"Method\"])[\"Response\"].mean())"
      ],
      "metadata": {
        "colab": {
          "base_uri": "https://localhost:8080/"
        },
        "id": "ezlc399e9YDW",
        "outputId": "ced9ba0c-5ac4-4a9f-e173-27cf413fdbbe"
      },
      "execution_count": 58,
      "outputs": [
        {
          "output_type": "stream",
          "name": "stdout",
          "text": [
            "Means of hardness of implants for each Dentist and Method:\n",
            " Dentist  Method\n",
            "1        1        799.000\n",
            "         2        715.000\n",
            "         3        735.667\n",
            "2        1        777.000\n",
            "         2        765.667\n",
            "         3        741.000\n",
            "3        1        707.333\n",
            "         2        723.000\n",
            "         3        722.333\n",
            "4        1        765.667\n",
            "         2        781.333\n",
            "         3        496.333\n",
            "5        1        706.667\n",
            "         2        740.000\n",
            "         3        436.333\n",
            "Name: Response, dtype: float64\n"
          ]
        }
      ]
    },
    {
      "cell_type": "markdown",
      "source": [
        "Now, the normality and equality of variance assumptions need to be checked.\n",
        "\n",
        "* For testing of normality, Shapiro-Wilk’s test is applied to the response variable.\n",
        "\n",
        "* For equality of variance, Levene test is applied to the response variable."
      ],
      "metadata": {
        "id": "D7IqTcNpeM2t"
      }
    },
    {
      "cell_type": "markdown",
      "source": [
        "### Shapiro-Wilk’s test\n",
        "\n",
        "We will test the null hypothesis\n",
        "\n",
        ">$H_0:$ The residuals (error terms) from the two-way ANOVA model are normally distributed in the population.\n",
        "\n",
        "against the alternative hypothesis\n",
        "\n",
        ">$H_a:$ The residuals (error terms) from the two-way ANOVA model are not normally distributed in the population."
      ],
      "metadata": {
        "id": "6xRbPduPi1dc"
      }
    },
    {
      "cell_type": "code",
      "source": [
        "model = ols('Response ~ Dentist + Method + Dentist:Method', data=df1).fit()\n"
      ],
      "metadata": {
        "id": "lXCjEeo5hZ9s"
      },
      "execution_count": 59,
      "outputs": []
    },
    {
      "cell_type": "code",
      "source": [
        "residuals = model.resid\n",
        "\n",
        "shapiro_test = stats.shapiro(residuals)\n",
        "print(\"Shapiro-Wilk test p-value:\", shapiro_test.pvalue)"
      ],
      "metadata": {
        "colab": {
          "base_uri": "https://localhost:8080/"
        },
        "id": "vXIh1O4dd78S",
        "outputId": "73f18bdb-2e81-43f7-aca9-8be8d75c5cf6"
      },
      "execution_count": 60,
      "outputs": [
        {
          "output_type": "stream",
          "name": "stdout",
          "text": [
            "Shapiro-Wilk test p-value: 0.4744843542575836\n"
          ]
        }
      ]
    },
    {
      "cell_type": "markdown",
      "source": [
        "As the p-value is larger than the level of significance - 0.05, we fail to reject the null hypothesis. Hence the residuals (error terms) from the two-way ANOVA model are normally distributed in the population."
      ],
      "metadata": {
        "id": "xrjvaKc6jDnL"
      }
    },
    {
      "cell_type": "markdown",
      "source": [
        "### Levene’s test\n",
        "\n",
        "We will test the null hypothesis\n",
        "\n",
        ">$H_0$: All the population variances are equal across groups formed by combination of Dentist and Method.\n",
        "\n",
        "against the alternative hypothesis\n",
        "\n",
        ">$H_a$: At least one variance is different from the rest of all groups"
      ],
      "metadata": {
        "id": "bjbmqLLUkVtF"
      }
    },
    {
      "cell_type": "code",
      "source": [
        "groups = [group[\"Response\"].values for name, group in df1.groupby([\"Dentist\", \"Method\"])]\n",
        "levene_test = levene(*groups)\n",
        "levene_p_value = levene_test.pvalue"
      ],
      "metadata": {
        "id": "wUHrFD8GiIaK"
      },
      "execution_count": 61,
      "outputs": []
    },
    {
      "cell_type": "code",
      "source": [
        "print(\"Levene test p-value:\", levene_p_value)"
      ],
      "metadata": {
        "colab": {
          "base_uri": "https://localhost:8080/"
        },
        "id": "blLxtH7Njm0t",
        "outputId": "5d7ff1c3-d5ad-4983-d0ba-b3c212f201b0"
      },
      "execution_count": 62,
      "outputs": [
        {
          "output_type": "stream",
          "name": "stdout",
          "text": [
            "Levene test p-value: 0.3128166652989495\n"
          ]
        }
      ]
    },
    {
      "cell_type": "markdown",
      "source": [
        "As the p-value is larger than the level of significance - 0.05, we fail to reject the null hypothesis. Hence the population variances are equal across groups formed by combination of Dentist and Method."
      ],
      "metadata": {
        "id": "fcUQnRNfkTmf"
      }
    },
    {
      "cell_type": "markdown",
      "source": [
        "###Two-Way ANOVA Test"
      ],
      "metadata": {
        "id": "4u3RgJkvm6vy"
      }
    },
    {
      "cell_type": "markdown",
      "source": [
        "### Let's find the p-value"
      ],
      "metadata": {
        "id": "ovLfNPpim6v6"
      }
    },
    {
      "cell_type": "code",
      "source": [
        "\n",
        "model = ols('Response ~ Dentist * Method', data=df1).fit()\n",
        "anova_results = anova_lm(model, typ=2)"
      ],
      "metadata": {
        "id": "XkHpemA3jn7e"
      },
      "execution_count": 63,
      "outputs": []
    },
    {
      "cell_type": "code",
      "source": [
        "anova_results"
      ],
      "metadata": {
        "colab": {
          "base_uri": "https://localhost:8080/",
          "height": 175
        },
        "id": "XgEl4mhOncnJ",
        "outputId": "dc7dc8a6-18ab-441f-c6a3-94eddd43e28e"
      },
      "execution_count": 64,
      "outputs": [
        {
          "output_type": "execute_result",
          "data": {
            "text/plain": [
              "                   sum_sq     df      F  PR(>F)\n",
              "Dentist         94802.678  1.000 10.454   0.002\n",
              "Method         116812.800  1.000 12.881   0.001\n",
              "Dentist:Method  62856.067  1.000  6.931   0.012\n",
              "Residual       371805.700 41.000    NaN     NaN"
            ],
            "text/html": [
              "\n",
              "  <div id=\"df-29890ead-fd04-4ac6-9b1d-495de7cb6223\" class=\"colab-df-container\">\n",
              "    <div>\n",
              "<style scoped>\n",
              "    .dataframe tbody tr th:only-of-type {\n",
              "        vertical-align: middle;\n",
              "    }\n",
              "\n",
              "    .dataframe tbody tr th {\n",
              "        vertical-align: top;\n",
              "    }\n",
              "\n",
              "    .dataframe thead th {\n",
              "        text-align: right;\n",
              "    }\n",
              "</style>\n",
              "<table border=\"1\" class=\"dataframe\">\n",
              "  <thead>\n",
              "    <tr style=\"text-align: right;\">\n",
              "      <th></th>\n",
              "      <th>sum_sq</th>\n",
              "      <th>df</th>\n",
              "      <th>F</th>\n",
              "      <th>PR(&gt;F)</th>\n",
              "    </tr>\n",
              "  </thead>\n",
              "  <tbody>\n",
              "    <tr>\n",
              "      <th>Dentist</th>\n",
              "      <td>94802.678</td>\n",
              "      <td>1.000</td>\n",
              "      <td>10.454</td>\n",
              "      <td>0.002</td>\n",
              "    </tr>\n",
              "    <tr>\n",
              "      <th>Method</th>\n",
              "      <td>116812.800</td>\n",
              "      <td>1.000</td>\n",
              "      <td>12.881</td>\n",
              "      <td>0.001</td>\n",
              "    </tr>\n",
              "    <tr>\n",
              "      <th>Dentist:Method</th>\n",
              "      <td>62856.067</td>\n",
              "      <td>1.000</td>\n",
              "      <td>6.931</td>\n",
              "      <td>0.012</td>\n",
              "    </tr>\n",
              "    <tr>\n",
              "      <th>Residual</th>\n",
              "      <td>371805.700</td>\n",
              "      <td>41.000</td>\n",
              "      <td>NaN</td>\n",
              "      <td>NaN</td>\n",
              "    </tr>\n",
              "  </tbody>\n",
              "</table>\n",
              "</div>\n",
              "    <div class=\"colab-df-buttons\">\n",
              "\n",
              "  <div class=\"colab-df-container\">\n",
              "    <button class=\"colab-df-convert\" onclick=\"convertToInteractive('df-29890ead-fd04-4ac6-9b1d-495de7cb6223')\"\n",
              "            title=\"Convert this dataframe to an interactive table.\"\n",
              "            style=\"display:none;\">\n",
              "\n",
              "  <svg xmlns=\"http://www.w3.org/2000/svg\" height=\"24px\" viewBox=\"0 -960 960 960\">\n",
              "    <path d=\"M120-120v-720h720v720H120Zm60-500h600v-160H180v160Zm220 220h160v-160H400v160Zm0 220h160v-160H400v160ZM180-400h160v-160H180v160Zm440 0h160v-160H620v160ZM180-180h160v-160H180v160Zm440 0h160v-160H620v160Z\"/>\n",
              "  </svg>\n",
              "    </button>\n",
              "\n",
              "  <style>\n",
              "    .colab-df-container {\n",
              "      display:flex;\n",
              "      gap: 12px;\n",
              "    }\n",
              "\n",
              "    .colab-df-convert {\n",
              "      background-color: #E8F0FE;\n",
              "      border: none;\n",
              "      border-radius: 50%;\n",
              "      cursor: pointer;\n",
              "      display: none;\n",
              "      fill: #1967D2;\n",
              "      height: 32px;\n",
              "      padding: 0 0 0 0;\n",
              "      width: 32px;\n",
              "    }\n",
              "\n",
              "    .colab-df-convert:hover {\n",
              "      background-color: #E2EBFA;\n",
              "      box-shadow: 0px 1px 2px rgba(60, 64, 67, 0.3), 0px 1px 3px 1px rgba(60, 64, 67, 0.15);\n",
              "      fill: #174EA6;\n",
              "    }\n",
              "\n",
              "    .colab-df-buttons div {\n",
              "      margin-bottom: 4px;\n",
              "    }\n",
              "\n",
              "    [theme=dark] .colab-df-convert {\n",
              "      background-color: #3B4455;\n",
              "      fill: #D2E3FC;\n",
              "    }\n",
              "\n",
              "    [theme=dark] .colab-df-convert:hover {\n",
              "      background-color: #434B5C;\n",
              "      box-shadow: 0px 1px 3px 1px rgba(0, 0, 0, 0.15);\n",
              "      filter: drop-shadow(0px 1px 2px rgba(0, 0, 0, 0.3));\n",
              "      fill: #FFFFFF;\n",
              "    }\n",
              "  </style>\n",
              "\n",
              "    <script>\n",
              "      const buttonEl =\n",
              "        document.querySelector('#df-29890ead-fd04-4ac6-9b1d-495de7cb6223 button.colab-df-convert');\n",
              "      buttonEl.style.display =\n",
              "        google.colab.kernel.accessAllowed ? 'block' : 'none';\n",
              "\n",
              "      async function convertToInteractive(key) {\n",
              "        const element = document.querySelector('#df-29890ead-fd04-4ac6-9b1d-495de7cb6223');\n",
              "        const dataTable =\n",
              "          await google.colab.kernel.invokeFunction('convertToInteractive',\n",
              "                                                    [key], {});\n",
              "        if (!dataTable) return;\n",
              "\n",
              "        const docLinkHtml = 'Like what you see? Visit the ' +\n",
              "          '<a target=\"_blank\" href=https://colab.research.google.com/notebooks/data_table.ipynb>data table notebook</a>'\n",
              "          + ' to learn more about interactive tables.';\n",
              "        element.innerHTML = '';\n",
              "        dataTable['output_type'] = 'display_data';\n",
              "        await google.colab.output.renderOutput(dataTable, element);\n",
              "        const docLink = document.createElement('div');\n",
              "        docLink.innerHTML = docLinkHtml;\n",
              "        element.appendChild(docLink);\n",
              "      }\n",
              "    </script>\n",
              "  </div>\n",
              "\n",
              "\n",
              "<div id=\"df-efa942fb-7235-47f6-bc07-a39679742b3b\">\n",
              "  <button class=\"colab-df-quickchart\" onclick=\"quickchart('df-efa942fb-7235-47f6-bc07-a39679742b3b')\"\n",
              "            title=\"Suggest charts\"\n",
              "            style=\"display:none;\">\n",
              "\n",
              "<svg xmlns=\"http://www.w3.org/2000/svg\" height=\"24px\"viewBox=\"0 0 24 24\"\n",
              "     width=\"24px\">\n",
              "    <g>\n",
              "        <path d=\"M19 3H5c-1.1 0-2 .9-2 2v14c0 1.1.9 2 2 2h14c1.1 0 2-.9 2-2V5c0-1.1-.9-2-2-2zM9 17H7v-7h2v7zm4 0h-2V7h2v10zm4 0h-2v-4h2v4z\"/>\n",
              "    </g>\n",
              "</svg>\n",
              "  </button>\n",
              "\n",
              "<style>\n",
              "  .colab-df-quickchart {\n",
              "      --bg-color: #E8F0FE;\n",
              "      --fill-color: #1967D2;\n",
              "      --hover-bg-color: #E2EBFA;\n",
              "      --hover-fill-color: #174EA6;\n",
              "      --disabled-fill-color: #AAA;\n",
              "      --disabled-bg-color: #DDD;\n",
              "  }\n",
              "\n",
              "  [theme=dark] .colab-df-quickchart {\n",
              "      --bg-color: #3B4455;\n",
              "      --fill-color: #D2E3FC;\n",
              "      --hover-bg-color: #434B5C;\n",
              "      --hover-fill-color: #FFFFFF;\n",
              "      --disabled-bg-color: #3B4455;\n",
              "      --disabled-fill-color: #666;\n",
              "  }\n",
              "\n",
              "  .colab-df-quickchart {\n",
              "    background-color: var(--bg-color);\n",
              "    border: none;\n",
              "    border-radius: 50%;\n",
              "    cursor: pointer;\n",
              "    display: none;\n",
              "    fill: var(--fill-color);\n",
              "    height: 32px;\n",
              "    padding: 0;\n",
              "    width: 32px;\n",
              "  }\n",
              "\n",
              "  .colab-df-quickchart:hover {\n",
              "    background-color: var(--hover-bg-color);\n",
              "    box-shadow: 0 1px 2px rgba(60, 64, 67, 0.3), 0 1px 3px 1px rgba(60, 64, 67, 0.15);\n",
              "    fill: var(--button-hover-fill-color);\n",
              "  }\n",
              "\n",
              "  .colab-df-quickchart-complete:disabled,\n",
              "  .colab-df-quickchart-complete:disabled:hover {\n",
              "    background-color: var(--disabled-bg-color);\n",
              "    fill: var(--disabled-fill-color);\n",
              "    box-shadow: none;\n",
              "  }\n",
              "\n",
              "  .colab-df-spinner {\n",
              "    border: 2px solid var(--fill-color);\n",
              "    border-color: transparent;\n",
              "    border-bottom-color: var(--fill-color);\n",
              "    animation:\n",
              "      spin 1s steps(1) infinite;\n",
              "  }\n",
              "\n",
              "  @keyframes spin {\n",
              "    0% {\n",
              "      border-color: transparent;\n",
              "      border-bottom-color: var(--fill-color);\n",
              "      border-left-color: var(--fill-color);\n",
              "    }\n",
              "    20% {\n",
              "      border-color: transparent;\n",
              "      border-left-color: var(--fill-color);\n",
              "      border-top-color: var(--fill-color);\n",
              "    }\n",
              "    30% {\n",
              "      border-color: transparent;\n",
              "      border-left-color: var(--fill-color);\n",
              "      border-top-color: var(--fill-color);\n",
              "      border-right-color: var(--fill-color);\n",
              "    }\n",
              "    40% {\n",
              "      border-color: transparent;\n",
              "      border-right-color: var(--fill-color);\n",
              "      border-top-color: var(--fill-color);\n",
              "    }\n",
              "    60% {\n",
              "      border-color: transparent;\n",
              "      border-right-color: var(--fill-color);\n",
              "    }\n",
              "    80% {\n",
              "      border-color: transparent;\n",
              "      border-right-color: var(--fill-color);\n",
              "      border-bottom-color: var(--fill-color);\n",
              "    }\n",
              "    90% {\n",
              "      border-color: transparent;\n",
              "      border-bottom-color: var(--fill-color);\n",
              "    }\n",
              "  }\n",
              "</style>\n",
              "\n",
              "  <script>\n",
              "    async function quickchart(key) {\n",
              "      const quickchartButtonEl =\n",
              "        document.querySelector('#' + key + ' button');\n",
              "      quickchartButtonEl.disabled = true;  // To prevent multiple clicks.\n",
              "      quickchartButtonEl.classList.add('colab-df-spinner');\n",
              "      try {\n",
              "        const charts = await google.colab.kernel.invokeFunction(\n",
              "            'suggestCharts', [key], {});\n",
              "      } catch (error) {\n",
              "        console.error('Error during call to suggestCharts:', error);\n",
              "      }\n",
              "      quickchartButtonEl.classList.remove('colab-df-spinner');\n",
              "      quickchartButtonEl.classList.add('colab-df-quickchart-complete');\n",
              "    }\n",
              "    (() => {\n",
              "      let quickchartButtonEl =\n",
              "        document.querySelector('#df-efa942fb-7235-47f6-bc07-a39679742b3b button');\n",
              "      quickchartButtonEl.style.display =\n",
              "        google.colab.kernel.accessAllowed ? 'block' : 'none';\n",
              "    })();\n",
              "  </script>\n",
              "</div>\n",
              "\n",
              "  <div id=\"id_3af97f71-2185-4f59-a983-80eb4f251e3f\">\n",
              "    <style>\n",
              "      .colab-df-generate {\n",
              "        background-color: #E8F0FE;\n",
              "        border: none;\n",
              "        border-radius: 50%;\n",
              "        cursor: pointer;\n",
              "        display: none;\n",
              "        fill: #1967D2;\n",
              "        height: 32px;\n",
              "        padding: 0 0 0 0;\n",
              "        width: 32px;\n",
              "      }\n",
              "\n",
              "      .colab-df-generate:hover {\n",
              "        background-color: #E2EBFA;\n",
              "        box-shadow: 0px 1px 2px rgba(60, 64, 67, 0.3), 0px 1px 3px 1px rgba(60, 64, 67, 0.15);\n",
              "        fill: #174EA6;\n",
              "      }\n",
              "\n",
              "      [theme=dark] .colab-df-generate {\n",
              "        background-color: #3B4455;\n",
              "        fill: #D2E3FC;\n",
              "      }\n",
              "\n",
              "      [theme=dark] .colab-df-generate:hover {\n",
              "        background-color: #434B5C;\n",
              "        box-shadow: 0px 1px 3px 1px rgba(0, 0, 0, 0.15);\n",
              "        filter: drop-shadow(0px 1px 2px rgba(0, 0, 0, 0.3));\n",
              "        fill: #FFFFFF;\n",
              "      }\n",
              "    </style>\n",
              "    <button class=\"colab-df-generate\" onclick=\"generateWithVariable('anova_results')\"\n",
              "            title=\"Generate code using this dataframe.\"\n",
              "            style=\"display:none;\">\n",
              "\n",
              "  <svg xmlns=\"http://www.w3.org/2000/svg\" height=\"24px\"viewBox=\"0 0 24 24\"\n",
              "       width=\"24px\">\n",
              "    <path d=\"M7,19H8.4L18.45,9,17,7.55,7,17.6ZM5,21V16.75L18.45,3.32a2,2,0,0,1,2.83,0l1.4,1.43a1.91,1.91,0,0,1,.58,1.4,1.91,1.91,0,0,1-.58,1.4L9.25,21ZM18.45,9,17,7.55Zm-12,3A5.31,5.31,0,0,0,4.9,8.1,5.31,5.31,0,0,0,1,6.5,5.31,5.31,0,0,0,4.9,4.9,5.31,5.31,0,0,0,6.5,1,5.31,5.31,0,0,0,8.1,4.9,5.31,5.31,0,0,0,12,6.5,5.46,5.46,0,0,0,6.5,12Z\"/>\n",
              "  </svg>\n",
              "    </button>\n",
              "    <script>\n",
              "      (() => {\n",
              "      const buttonEl =\n",
              "        document.querySelector('#id_3af97f71-2185-4f59-a983-80eb4f251e3f button.colab-df-generate');\n",
              "      buttonEl.style.display =\n",
              "        google.colab.kernel.accessAllowed ? 'block' : 'none';\n",
              "\n",
              "      buttonEl.onclick = () => {\n",
              "        google.colab.notebook.generateWithVariable('anova_results');\n",
              "      }\n",
              "      })();\n",
              "    </script>\n",
              "  </div>\n",
              "\n",
              "    </div>\n",
              "  </div>\n"
            ],
            "application/vnd.google.colaboratory.intrinsic+json": {
              "type": "dataframe",
              "variable_name": "anova_results",
              "summary": "{\n  \"name\": \"anova_results\",\n  \"rows\": 4,\n  \"fields\": [\n    {\n      \"column\": \"sum_sq\",\n      \"properties\": {\n        \"dtype\": \"number\",\n        \"std\": 141897.3484075666,\n        \"min\": 62856.06666666773,\n        \"max\": 371805.6999999999,\n        \"num_unique_values\": 4,\n        \"samples\": [\n          116812.80000000584,\n          371805.6999999999,\n          94802.67777777583\n        ],\n        \"semantic_type\": \"\",\n        \"description\": \"\"\n      }\n    },\n    {\n      \"column\": \"df\",\n      \"properties\": {\n        \"dtype\": \"number\",\n        \"std\": 20.0,\n        \"min\": 1.0,\n        \"max\": 41.0,\n        \"num_unique_values\": 2,\n        \"samples\": [\n          41.0,\n          1.0\n        ],\n        \"semantic_type\": \"\",\n        \"description\": \"\"\n      }\n    },\n    {\n      \"column\": \"F\",\n      \"properties\": {\n        \"dtype\": \"number\",\n        \"std\": 2.991744127123937,\n        \"min\": 6.931305069646263,\n        \"max\": 12.88125706518281,\n        \"num_unique_values\": 3,\n        \"samples\": [\n          10.454142550501,\n          12.88125706518281\n        ],\n        \"semantic_type\": \"\",\n        \"description\": \"\"\n      }\n    },\n    {\n      \"column\": \"PR(>F)\",\n      \"properties\": {\n        \"dtype\": \"number\",\n        \"std\": 0.0059620327895906445,\n        \"min\": 0.0008778400306351842,\n        \"max\": 0.011888198276040431,\n        \"num_unique_values\": 3,\n        \"samples\": [\n          0.0024186133424577553,\n          0.0008778400306351842\n        ],\n        \"semantic_type\": \"\",\n        \"description\": \"\"\n      }\n    }\n  ]\n}"
            }
          },
          "metadata": {},
          "execution_count": 64
        }
      ]
    },
    {
      "cell_type": "code",
      "source": [
        "p_value=anova_results['PR(>F)']['Dentist:Method']"
      ],
      "metadata": {
        "id": "OTM2gwfVndnI"
      },
      "execution_count": 65,
      "outputs": []
    },
    {
      "cell_type": "code",
      "source": [
        "print(\"p-value:\",p_value)"
      ],
      "metadata": {
        "colab": {
          "base_uri": "https://localhost:8080/"
        },
        "id": "pQnMiaN2noH_",
        "outputId": "d96b4e40-464b-44a1-fe73-134dbda0dbb4"
      },
      "execution_count": 66,
      "outputs": [
        {
          "output_type": "stream",
          "name": "stdout",
          "text": [
            "p-value: 0.011888198276040431\n"
          ]
        }
      ]
    },
    {
      "cell_type": "markdown",
      "source": [
        "Since p-value is less than the chosen significance level (0.05), we reject the null hypothesis and conclude that there is a significant interaction effect between dentists and methods on the hardness of implants."
      ],
      "metadata": {
        "id": "DI23vDeRqzdA"
      }
    },
    {
      "cell_type": "markdown",
      "metadata": {
        "id": "5xWrWubGxg6B"
      },
      "source": [
        "### Multiple Comparison test (Tukey HSD)"
      ]
    },
    {
      "cell_type": "markdown",
      "metadata": {
        "id": "HYaAE5f2xg6J"
      },
      "source": [
        "\n",
        "Null Hypothesis\n",
        "\n",
        " >$H_0:$ There is no interaction effect between dentist and method combinations on the hardness of implants.\n",
        "\n",
        "against the alternative hypothesis\n",
        "\n",
        " > $𝐻_a:$ There is at least one dentist-method combination where the interaction effect on the hardness of implants differs significantly."
      ]
    },
    {
      "cell_type": "code",
      "source": [
        "tukey_alloy = pairwise_tukeyhsd(df1['Response'], df1['Dentist'].astype(str) + \"-\" + df1['Method'].astype(str))\n",
        "tukey_results = tukey_alloy.summary()"
      ],
      "metadata": {
        "id": "gmsEDSf5ySWS"
      },
      "execution_count": 67,
      "outputs": []
    },
    {
      "cell_type": "code",
      "source": [
        "tukey_results"
      ],
      "metadata": {
        "colab": {
          "base_uri": "https://localhost:8080/",
          "height": 1000
        },
        "id": "jNacFbqcyvYQ",
        "outputId": "c0e52de8-1fe2-4174-f65f-69018f855c7e"
      },
      "execution_count": 82,
      "outputs": [
        {
          "output_type": "execute_result",
          "data": {
            "text/plain": [
              "<class 'statsmodels.iolib.table.SimpleTable'>"
            ],
            "text/html": [
              "<table class=\"simpletable\">\n",
              "<caption>Multiple Comparison of Means - Tukey HSD, FWER=0.05</caption>\n",
              "<tr>\n",
              "  <th>group1</th> <th>group2</th> <th>meandiff</th>   <th>p-adj</th>   <th>lower</th>     <th>upper</th>   <th>reject</th>\n",
              "</tr>\n",
              "<tr>\n",
              "    <td>1-1</td>    <td>1-2</td>    <td>-84.0</td>   <td>0.9933</td> <td>-332.8283</td> <td>164.8283</td>   <td>False</td>\n",
              "</tr>\n",
              "<tr>\n",
              "    <td>1-1</td>    <td>1-3</td>  <td>-63.3333</td>  <td>0.9996</td> <td>-312.1617</td>  <td>185.495</td>   <td>False</td>\n",
              "</tr>\n",
              "<tr>\n",
              "    <td>1-1</td>    <td>2-1</td>    <td>-22.0</td>     <td>1.0</td>  <td>-270.8283</td> <td>226.8283</td>   <td>False</td>\n",
              "</tr>\n",
              "<tr>\n",
              "    <td>1-1</td>    <td>2-2</td>  <td>-33.3333</td>    <td>1.0</td>  <td>-282.1617</td>  <td>215.495</td>   <td>False</td>\n",
              "</tr>\n",
              "<tr>\n",
              "    <td>1-1</td>    <td>2-3</td>    <td>-58.0</td>   <td>0.9999</td> <td>-306.8283</td> <td>190.8283</td>   <td>False</td>\n",
              "</tr>\n",
              "<tr>\n",
              "    <td>1-1</td>    <td>3-1</td>  <td>-91.6667</td>  <td>0.9853</td> <td>-340.495</td>  <td>157.1617</td>   <td>False</td>\n",
              "</tr>\n",
              "<tr>\n",
              "    <td>1-1</td>    <td>3-2</td>    <td>-76.0</td>   <td>0.9975</td> <td>-324.8283</td> <td>172.8283</td>   <td>False</td>\n",
              "</tr>\n",
              "<tr>\n",
              "    <td>1-1</td>    <td>3-3</td>  <td>-76.6667</td>  <td>0.9972</td> <td>-325.495</td>  <td>172.1617</td>   <td>False</td>\n",
              "</tr>\n",
              "<tr>\n",
              "    <td>1-1</td>    <td>4-1</td>  <td>-33.3333</td>    <td>1.0</td>  <td>-282.1617</td>  <td>215.495</td>   <td>False</td>\n",
              "</tr>\n",
              "<tr>\n",
              "    <td>1-1</td>    <td>4-2</td>  <td>-17.6667</td>    <td>1.0</td>  <td>-266.495</td>  <td>231.1617</td>   <td>False</td>\n",
              "</tr>\n",
              "<tr>\n",
              "    <td>1-1</td>    <td>4-3</td>  <td>-302.6667</td>  <td>0.007</td> <td>-551.495</td>  <td>-53.8383</td>   <td>True</td> \n",
              "</tr>\n",
              "<tr>\n",
              "    <td>1-1</td>    <td>5-1</td>  <td>-92.3333</td>  <td>0.9844</td> <td>-341.1617</td>  <td>156.495</td>   <td>False</td>\n",
              "</tr>\n",
              "<tr>\n",
              "    <td>1-1</td>    <td>5-2</td>    <td>-59.0</td>   <td>0.9998</td> <td>-307.8283</td> <td>189.8283</td>   <td>False</td>\n",
              "</tr>\n",
              "<tr>\n",
              "    <td>1-1</td>    <td>5-3</td>  <td>-362.6667</td> <td>0.0007</td> <td>-611.495</td>  <td>-113.8383</td>  <td>True</td> \n",
              "</tr>\n",
              "<tr>\n",
              "    <td>1-2</td>    <td>1-3</td>   <td>20.6667</td>    <td>1.0</td>  <td>-228.1617</td>  <td>269.495</td>   <td>False</td>\n",
              "</tr>\n",
              "<tr>\n",
              "    <td>1-2</td>    <td>2-1</td>    <td>62.0</td>    <td>0.9997</td> <td>-186.8283</td> <td>310.8283</td>   <td>False</td>\n",
              "</tr>\n",
              "<tr>\n",
              "    <td>1-2</td>    <td>2-2</td>   <td>50.6667</td>    <td>1.0</td>  <td>-198.1617</td>  <td>299.495</td>   <td>False</td>\n",
              "</tr>\n",
              "<tr>\n",
              "    <td>1-2</td>    <td>2-3</td>    <td>26.0</td>      <td>1.0</td>  <td>-222.8283</td> <td>274.8283</td>   <td>False</td>\n",
              "</tr>\n",
              "<tr>\n",
              "    <td>1-2</td>    <td>3-1</td>   <td>-7.6667</td>    <td>1.0</td>  <td>-256.495</td>  <td>241.1617</td>   <td>False</td>\n",
              "</tr>\n",
              "<tr>\n",
              "    <td>1-2</td>    <td>3-2</td>     <td>8.0</td>      <td>1.0</td>  <td>-240.8283</td> <td>256.8283</td>   <td>False</td>\n",
              "</tr>\n",
              "<tr>\n",
              "    <td>1-2</td>    <td>3-3</td>   <td>7.3333</td>     <td>1.0</td>  <td>-241.495</td>  <td>256.1617</td>   <td>False</td>\n",
              "</tr>\n",
              "<tr>\n",
              "    <td>1-2</td>    <td>4-1</td>   <td>50.6667</td>    <td>1.0</td>  <td>-198.1617</td>  <td>299.495</td>   <td>False</td>\n",
              "</tr>\n",
              "<tr>\n",
              "    <td>1-2</td>    <td>4-2</td>   <td>66.3333</td>  <td>0.9994</td> <td>-182.495</td>  <td>315.1617</td>   <td>False</td>\n",
              "</tr>\n",
              "<tr>\n",
              "    <td>1-2</td>    <td>4-3</td>  <td>-218.6667</td> <td>0.1324</td> <td>-467.495</td>   <td>30.1617</td>   <td>False</td>\n",
              "</tr>\n",
              "<tr>\n",
              "    <td>1-2</td>    <td>5-1</td>   <td>-8.3333</td>    <td>1.0</td>  <td>-257.1617</td>  <td>240.495</td>   <td>False</td>\n",
              "</tr>\n",
              "<tr>\n",
              "    <td>1-2</td>    <td>5-2</td>    <td>25.0</td>      <td>1.0</td>  <td>-223.8283</td> <td>273.8283</td>   <td>False</td>\n",
              "</tr>\n",
              "<tr>\n",
              "    <td>1-2</td>    <td>5-3</td>  <td>-278.6667</td> <td>0.0173</td> <td>-527.495</td>  <td>-29.8383</td>   <td>True</td> \n",
              "</tr>\n",
              "<tr>\n",
              "    <td>1-3</td>    <td>2-1</td>   <td>41.3333</td>    <td>1.0</td>  <td>-207.495</td>  <td>290.1617</td>   <td>False</td>\n",
              "</tr>\n",
              "<tr>\n",
              "    <td>1-3</td>    <td>2-2</td>    <td>30.0</td>      <td>1.0</td>  <td>-218.8283</td> <td>278.8283</td>   <td>False</td>\n",
              "</tr>\n",
              "<tr>\n",
              "    <td>1-3</td>    <td>2-3</td>   <td>5.3333</td>     <td>1.0</td>  <td>-243.495</td>  <td>254.1617</td>   <td>False</td>\n",
              "</tr>\n",
              "<tr>\n",
              "    <td>1-3</td>    <td>3-1</td>  <td>-28.3333</td>    <td>1.0</td>  <td>-277.1617</td>  <td>220.495</td>   <td>False</td>\n",
              "</tr>\n",
              "<tr>\n",
              "    <td>1-3</td>    <td>3-2</td>  <td>-12.6667</td>    <td>1.0</td>  <td>-261.495</td>  <td>236.1617</td>   <td>False</td>\n",
              "</tr>\n",
              "<tr>\n",
              "    <td>1-3</td>    <td>3-3</td>  <td>-13.3333</td>    <td>1.0</td>  <td>-262.1617</td>  <td>235.495</td>   <td>False</td>\n",
              "</tr>\n",
              "<tr>\n",
              "    <td>1-3</td>    <td>4-1</td>    <td>30.0</td>      <td>1.0</td>  <td>-218.8283</td> <td>278.8283</td>   <td>False</td>\n",
              "</tr>\n",
              "<tr>\n",
              "    <td>1-3</td>    <td>4-2</td>   <td>45.6667</td>    <td>1.0</td>  <td>-203.1617</td>  <td>294.495</td>   <td>False</td>\n",
              "</tr>\n",
              "<tr>\n",
              "    <td>1-3</td>    <td>4-3</td>  <td>-239.3333</td> <td>0.0688</td> <td>-488.1617</td>   <td>9.495</td>    <td>False</td>\n",
              "</tr>\n",
              "<tr>\n",
              "    <td>1-3</td>    <td>5-1</td>    <td>-29.0</td>     <td>1.0</td>  <td>-277.8283</td> <td>219.8283</td>   <td>False</td>\n",
              "</tr>\n",
              "<tr>\n",
              "    <td>1-3</td>    <td>5-2</td>   <td>4.3333</td>     <td>1.0</td>  <td>-244.495</td>  <td>253.1617</td>   <td>False</td>\n",
              "</tr>\n",
              "<tr>\n",
              "    <td>1-3</td>    <td>5-3</td>  <td>-299.3333</td> <td>0.0079</td> <td>-548.1617</td>  <td>-50.505</td>   <td>True</td> \n",
              "</tr>\n",
              "<tr>\n",
              "    <td>2-1</td>    <td>2-2</td>  <td>-11.3333</td>    <td>1.0</td>  <td>-260.1617</td>  <td>237.495</td>   <td>False</td>\n",
              "</tr>\n",
              "<tr>\n",
              "    <td>2-1</td>    <td>2-3</td>    <td>-36.0</td>     <td>1.0</td>  <td>-284.8283</td> <td>212.8283</td>   <td>False</td>\n",
              "</tr>\n",
              "<tr>\n",
              "    <td>2-1</td>    <td>3-1</td>  <td>-69.6667</td>   <td>0.999</td> <td>-318.495</td>  <td>179.1617</td>   <td>False</td>\n",
              "</tr>\n",
              "<tr>\n",
              "    <td>2-1</td>    <td>3-2</td>    <td>-54.0</td>   <td>0.9999</td> <td>-302.8283</td> <td>194.8283</td>   <td>False</td>\n",
              "</tr>\n",
              "<tr>\n",
              "    <td>2-1</td>    <td>3-3</td>  <td>-54.6667</td>  <td>0.9999</td> <td>-303.495</td>  <td>194.1617</td>   <td>False</td>\n",
              "</tr>\n",
              "<tr>\n",
              "    <td>2-1</td>    <td>4-1</td>  <td>-11.3333</td>    <td>1.0</td>  <td>-260.1617</td>  <td>237.495</td>   <td>False</td>\n",
              "</tr>\n",
              "<tr>\n",
              "    <td>2-1</td>    <td>4-2</td>   <td>4.3333</td>     <td>1.0</td>  <td>-244.495</td>  <td>253.1617</td>   <td>False</td>\n",
              "</tr>\n",
              "<tr>\n",
              "    <td>2-1</td>    <td>4-3</td>  <td>-280.6667</td>  <td>0.016</td> <td>-529.495</td>  <td>-31.8383</td>   <td>True</td> \n",
              "</tr>\n",
              "<tr>\n",
              "    <td>2-1</td>    <td>5-1</td>  <td>-70.3333</td>  <td>0.9989</td> <td>-319.1617</td>  <td>178.495</td>   <td>False</td>\n",
              "</tr>\n",
              "<tr>\n",
              "    <td>2-1</td>    <td>5-2</td>    <td>-37.0</td>     <td>1.0</td>  <td>-285.8283</td> <td>211.8283</td>   <td>False</td>\n",
              "</tr>\n",
              "<tr>\n",
              "    <td>2-1</td>    <td>5-3</td>  <td>-340.6667</td> <td>0.0016</td> <td>-589.495</td>  <td>-91.8383</td>   <td>True</td> \n",
              "</tr>\n",
              "<tr>\n",
              "    <td>2-2</td>    <td>2-3</td>  <td>-24.6667</td>    <td>1.0</td>  <td>-273.495</td>  <td>224.1617</td>   <td>False</td>\n",
              "</tr>\n",
              "<tr>\n",
              "    <td>2-2</td>    <td>3-1</td>  <td>-58.3333</td>  <td>0.9999</td> <td>-307.1617</td>  <td>190.495</td>   <td>False</td>\n",
              "</tr>\n",
              "<tr>\n",
              "    <td>2-2</td>    <td>3-2</td>  <td>-42.6667</td>    <td>1.0</td>  <td>-291.495</td>  <td>206.1617</td>   <td>False</td>\n",
              "</tr>\n",
              "<tr>\n",
              "    <td>2-2</td>    <td>3-3</td>  <td>-43.3333</td>    <td>1.0</td>  <td>-292.1617</td>  <td>205.495</td>   <td>False</td>\n",
              "</tr>\n",
              "<tr>\n",
              "    <td>2-2</td>    <td>4-1</td>     <td>0.0</td>      <td>1.0</td>  <td>-248.8283</td> <td>248.8283</td>   <td>False</td>\n",
              "</tr>\n",
              "<tr>\n",
              "    <td>2-2</td>    <td>4-2</td>   <td>15.6667</td>    <td>1.0</td>  <td>-233.1617</td>  <td>264.495</td>   <td>False</td>\n",
              "</tr>\n",
              "<tr>\n",
              "    <td>2-2</td>    <td>4-3</td>  <td>-269.3333</td> <td>0.0243</td> <td>-518.1617</td>  <td>-20.505</td>   <td>True</td> \n",
              "</tr>\n",
              "<tr>\n",
              "    <td>2-2</td>    <td>5-1</td>    <td>-59.0</td>   <td>0.9998</td> <td>-307.8283</td> <td>189.8283</td>   <td>False</td>\n",
              "</tr>\n",
              "<tr>\n",
              "    <td>2-2</td>    <td>5-2</td>  <td>-25.6667</td>    <td>1.0</td>  <td>-274.495</td>  <td>223.1617</td>   <td>False</td>\n",
              "</tr>\n",
              "<tr>\n",
              "    <td>2-2</td>    <td>5-3</td>  <td>-329.3333</td> <td>0.0025</td> <td>-578.1617</td>  <td>-80.505</td>   <td>True</td> \n",
              "</tr>\n",
              "<tr>\n",
              "    <td>2-3</td>    <td>3-1</td>  <td>-33.6667</td>    <td>1.0</td>  <td>-282.495</td>  <td>215.1617</td>   <td>False</td>\n",
              "</tr>\n",
              "<tr>\n",
              "    <td>2-3</td>    <td>3-2</td>    <td>-18.0</td>     <td>1.0</td>  <td>-266.8283</td> <td>230.8283</td>   <td>False</td>\n",
              "</tr>\n",
              "<tr>\n",
              "    <td>2-3</td>    <td>3-3</td>  <td>-18.6667</td>    <td>1.0</td>  <td>-267.495</td>  <td>230.1617</td>   <td>False</td>\n",
              "</tr>\n",
              "<tr>\n",
              "    <td>2-3</td>    <td>4-1</td>   <td>24.6667</td>    <td>1.0</td>  <td>-224.1617</td>  <td>273.495</td>   <td>False</td>\n",
              "</tr>\n",
              "<tr>\n",
              "    <td>2-3</td>    <td>4-2</td>   <td>40.3333</td>    <td>1.0</td>  <td>-208.495</td>  <td>289.1617</td>   <td>False</td>\n",
              "</tr>\n",
              "<tr>\n",
              "    <td>2-3</td>    <td>4-3</td>  <td>-244.6667</td> <td>0.0576</td> <td>-493.495</td>   <td>4.1617</td>    <td>False</td>\n",
              "</tr>\n",
              "<tr>\n",
              "    <td>2-3</td>    <td>5-1</td>  <td>-34.3333</td>    <td>1.0</td>  <td>-283.1617</td>  <td>214.495</td>   <td>False</td>\n",
              "</tr>\n",
              "<tr>\n",
              "    <td>2-3</td>    <td>5-2</td>    <td>-1.0</td>      <td>1.0</td>  <td>-249.8283</td> <td>247.8283</td>   <td>False</td>\n",
              "</tr>\n",
              "<tr>\n",
              "    <td>2-3</td>    <td>5-3</td>  <td>-304.6667</td> <td>0.0065</td> <td>-553.495</td>  <td>-55.8383</td>   <td>True</td> \n",
              "</tr>\n",
              "<tr>\n",
              "    <td>3-1</td>    <td>3-2</td>   <td>15.6667</td>    <td>1.0</td>  <td>-233.1617</td>  <td>264.495</td>   <td>False</td>\n",
              "</tr>\n",
              "<tr>\n",
              "    <td>3-1</td>    <td>3-3</td>    <td>15.0</td>      <td>1.0</td>  <td>-233.8283</td> <td>263.8283</td>   <td>False</td>\n",
              "</tr>\n",
              "<tr>\n",
              "    <td>3-1</td>    <td>4-1</td>   <td>58.3333</td>  <td>0.9999</td> <td>-190.495</td>  <td>307.1617</td>   <td>False</td>\n",
              "</tr>\n",
              "<tr>\n",
              "    <td>3-1</td>    <td>4-2</td>    <td>74.0</td>    <td>0.9981</td> <td>-174.8283</td> <td>322.8283</td>   <td>False</td>\n",
              "</tr>\n",
              "<tr>\n",
              "    <td>3-1</td>    <td>4-3</td>   <td>-211.0</td>    <td>0.166</td> <td>-459.8283</td>  <td>37.8283</td>   <td>False</td>\n",
              "</tr>\n",
              "<tr>\n",
              "    <td>3-1</td>    <td>5-1</td>   <td>-0.6667</td>    <td>1.0</td>  <td>-249.495</td>  <td>248.1617</td>   <td>False</td>\n",
              "</tr>\n",
              "<tr>\n",
              "    <td>3-1</td>    <td>5-2</td>   <td>32.6667</td>    <td>1.0</td>  <td>-216.1617</td>  <td>281.495</td>   <td>False</td>\n",
              "</tr>\n",
              "<tr>\n",
              "    <td>3-1</td>    <td>5-3</td>   <td>-271.0</td>   <td>0.0229</td> <td>-519.8283</td> <td>-22.1717</td>   <td>True</td> \n",
              "</tr>\n",
              "<tr>\n",
              "    <td>3-2</td>    <td>3-3</td>   <td>-0.6667</td>    <td>1.0</td>  <td>-249.495</td>  <td>248.1617</td>   <td>False</td>\n",
              "</tr>\n",
              "<tr>\n",
              "    <td>3-2</td>    <td>4-1</td>   <td>42.6667</td>    <td>1.0</td>  <td>-206.1617</td>  <td>291.495</td>   <td>False</td>\n",
              "</tr>\n",
              "<tr>\n",
              "    <td>3-2</td>    <td>4-2</td>   <td>58.3333</td>  <td>0.9999</td> <td>-190.495</td>  <td>307.1617</td>   <td>False</td>\n",
              "</tr>\n",
              "<tr>\n",
              "    <td>3-2</td>    <td>4-3</td>  <td>-226.6667</td> <td>0.1035</td> <td>-475.495</td>   <td>22.1617</td>   <td>False</td>\n",
              "</tr>\n",
              "<tr>\n",
              "    <td>3-2</td>    <td>5-1</td>  <td>-16.3333</td>    <td>1.0</td>  <td>-265.1617</td>  <td>232.495</td>   <td>False</td>\n",
              "</tr>\n",
              "<tr>\n",
              "    <td>3-2</td>    <td>5-2</td>    <td>17.0</td>      <td>1.0</td>  <td>-231.8283</td> <td>265.8283</td>   <td>False</td>\n",
              "</tr>\n",
              "<tr>\n",
              "    <td>3-2</td>    <td>5-3</td>  <td>-286.6667</td> <td>0.0128</td> <td>-535.495</td>  <td>-37.8383</td>   <td>True</td> \n",
              "</tr>\n",
              "<tr>\n",
              "    <td>3-3</td>    <td>4-1</td>   <td>43.3333</td>    <td>1.0</td>  <td>-205.495</td>  <td>292.1617</td>   <td>False</td>\n",
              "</tr>\n",
              "<tr>\n",
              "    <td>3-3</td>    <td>4-2</td>    <td>59.0</td>    <td>0.9998</td> <td>-189.8283</td> <td>307.8283</td>   <td>False</td>\n",
              "</tr>\n",
              "<tr>\n",
              "    <td>3-3</td>    <td>4-3</td>   <td>-226.0</td>   <td>0.1057</td> <td>-474.8283</td>  <td>22.8283</td>   <td>False</td>\n",
              "</tr>\n",
              "<tr>\n",
              "    <td>3-3</td>    <td>5-1</td>  <td>-15.6667</td>    <td>1.0</td>  <td>-264.495</td>  <td>233.1617</td>   <td>False</td>\n",
              "</tr>\n",
              "<tr>\n",
              "    <td>3-3</td>    <td>5-2</td>   <td>17.6667</td>    <td>1.0</td>  <td>-231.1617</td>  <td>266.495</td>   <td>False</td>\n",
              "</tr>\n",
              "<tr>\n",
              "    <td>3-3</td>    <td>5-3</td>   <td>-286.0</td>   <td>0.0131</td> <td>-534.8283</td> <td>-37.1717</td>   <td>True</td> \n",
              "</tr>\n",
              "<tr>\n",
              "    <td>4-1</td>    <td>4-2</td>   <td>15.6667</td>    <td>1.0</td>  <td>-233.1617</td>  <td>264.495</td>   <td>False</td>\n",
              "</tr>\n",
              "<tr>\n",
              "    <td>4-1</td>    <td>4-3</td>  <td>-269.3333</td> <td>0.0243</td> <td>-518.1617</td>  <td>-20.505</td>   <td>True</td> \n",
              "</tr>\n",
              "<tr>\n",
              "    <td>4-1</td>    <td>5-1</td>    <td>-59.0</td>   <td>0.9998</td> <td>-307.8283</td> <td>189.8283</td>   <td>False</td>\n",
              "</tr>\n",
              "<tr>\n",
              "    <td>4-1</td>    <td>5-2</td>  <td>-25.6667</td>    <td>1.0</td>  <td>-274.495</td>  <td>223.1617</td>   <td>False</td>\n",
              "</tr>\n",
              "<tr>\n",
              "    <td>4-1</td>    <td>5-3</td>  <td>-329.3333</td> <td>0.0025</td> <td>-578.1617</td>  <td>-80.505</td>   <td>True</td> \n",
              "</tr>\n",
              "<tr>\n",
              "    <td>4-2</td>    <td>4-3</td>   <td>-285.0</td>   <td>0.0137</td> <td>-533.8283</td> <td>-36.1717</td>   <td>True</td> \n",
              "</tr>\n",
              "<tr>\n",
              "    <td>4-2</td>    <td>5-1</td>  <td>-74.6667</td>  <td>0.9979</td> <td>-323.495</td>  <td>174.1617</td>   <td>False</td>\n",
              "</tr>\n",
              "<tr>\n",
              "    <td>4-2</td>    <td>5-2</td>  <td>-41.3333</td>    <td>1.0</td>  <td>-290.1617</td>  <td>207.495</td>   <td>False</td>\n",
              "</tr>\n",
              "<tr>\n",
              "    <td>4-2</td>    <td>5-3</td>   <td>-345.0</td>   <td>0.0013</td> <td>-593.8283</td> <td>-96.1717</td>   <td>True</td> \n",
              "</tr>\n",
              "<tr>\n",
              "    <td>4-3</td>    <td>5-1</td>  <td>210.3333</td>  <td>0.1692</td>  <td>-38.495</td>  <td>459.1617</td>   <td>False</td>\n",
              "</tr>\n",
              "<tr>\n",
              "    <td>4-3</td>    <td>5-2</td>  <td>243.6667</td>  <td>0.0596</td>  <td>-5.1617</td>   <td>492.495</td>   <td>False</td>\n",
              "</tr>\n",
              "<tr>\n",
              "    <td>4-3</td>    <td>5-3</td>    <td>-60.0</td>   <td>0.9998</td> <td>-308.8283</td> <td>188.8283</td>   <td>False</td>\n",
              "</tr>\n",
              "<tr>\n",
              "    <td>5-1</td>    <td>5-2</td>   <td>33.3333</td>    <td>1.0</td>  <td>-215.495</td>  <td>282.1617</td>   <td>False</td>\n",
              "</tr>\n",
              "<tr>\n",
              "    <td>5-1</td>    <td>5-3</td>  <td>-270.3333</td> <td>0.0234</td> <td>-519.1617</td>  <td>-21.505</td>   <td>True</td> \n",
              "</tr>\n",
              "<tr>\n",
              "    <td>5-2</td>    <td>5-3</td>  <td>-303.6667</td> <td>0.0067</td> <td>-552.495</td>  <td>-54.8383</td>   <td>True</td> \n",
              "</tr>\n",
              "</table>"
            ],
            "text/latex": "\\begin{center}\n\\begin{tabular}{ccccccc}\n\\toprule\n\\textbf{group1} & \\textbf{group2} & \\textbf{meandiff} & \\textbf{p-adj} & \\textbf{lower} & \\textbf{upper} & \\textbf{reject}  \\\\\n\\midrule\n      1-1       &       1-2       &       -84.0       &     0.9933     &   -332.8283    &    164.8283    &      False       \\\\\n      1-1       &       1-3       &      -63.3333     &     0.9996     &   -312.1617    &    185.495     &      False       \\\\\n      1-1       &       2-1       &       -22.0       &      1.0       &   -270.8283    &    226.8283    &      False       \\\\\n      1-1       &       2-2       &      -33.3333     &      1.0       &   -282.1617    &    215.495     &      False       \\\\\n      1-1       &       2-3       &       -58.0       &     0.9999     &   -306.8283    &    190.8283    &      False       \\\\\n      1-1       &       3-1       &      -91.6667     &     0.9853     &    -340.495    &    157.1617    &      False       \\\\\n      1-1       &       3-2       &       -76.0       &     0.9975     &   -324.8283    &    172.8283    &      False       \\\\\n      1-1       &       3-3       &      -76.6667     &     0.9972     &    -325.495    &    172.1617    &      False       \\\\\n      1-1       &       4-1       &      -33.3333     &      1.0       &   -282.1617    &    215.495     &      False       \\\\\n      1-1       &       4-2       &      -17.6667     &      1.0       &    -266.495    &    231.1617    &      False       \\\\\n      1-1       &       4-3       &     -302.6667     &     0.007      &    -551.495    &    -53.8383    &       True       \\\\\n      1-1       &       5-1       &      -92.3333     &     0.9844     &   -341.1617    &    156.495     &      False       \\\\\n      1-1       &       5-2       &       -59.0       &     0.9998     &   -307.8283    &    189.8283    &      False       \\\\\n      1-1       &       5-3       &     -362.6667     &     0.0007     &    -611.495    &   -113.8383    &       True       \\\\\n      1-2       &       1-3       &      20.6667      &      1.0       &   -228.1617    &    269.495     &      False       \\\\\n      1-2       &       2-1       &        62.0       &     0.9997     &   -186.8283    &    310.8283    &      False       \\\\\n      1-2       &       2-2       &      50.6667      &      1.0       &   -198.1617    &    299.495     &      False       \\\\\n      1-2       &       2-3       &        26.0       &      1.0       &   -222.8283    &    274.8283    &      False       \\\\\n      1-2       &       3-1       &      -7.6667      &      1.0       &    -256.495    &    241.1617    &      False       \\\\\n      1-2       &       3-2       &        8.0        &      1.0       &   -240.8283    &    256.8283    &      False       \\\\\n      1-2       &       3-3       &       7.3333      &      1.0       &    -241.495    &    256.1617    &      False       \\\\\n      1-2       &       4-1       &      50.6667      &      1.0       &   -198.1617    &    299.495     &      False       \\\\\n      1-2       &       4-2       &      66.3333      &     0.9994     &    -182.495    &    315.1617    &      False       \\\\\n      1-2       &       4-3       &     -218.6667     &     0.1324     &    -467.495    &    30.1617     &      False       \\\\\n      1-2       &       5-1       &      -8.3333      &      1.0       &   -257.1617    &    240.495     &      False       \\\\\n      1-2       &       5-2       &        25.0       &      1.0       &   -223.8283    &    273.8283    &      False       \\\\\n      1-2       &       5-3       &     -278.6667     &     0.0173     &    -527.495    &    -29.8383    &       True       \\\\\n      1-3       &       2-1       &      41.3333      &      1.0       &    -207.495    &    290.1617    &      False       \\\\\n      1-3       &       2-2       &        30.0       &      1.0       &   -218.8283    &    278.8283    &      False       \\\\\n      1-3       &       2-3       &       5.3333      &      1.0       &    -243.495    &    254.1617    &      False       \\\\\n      1-3       &       3-1       &      -28.3333     &      1.0       &   -277.1617    &    220.495     &      False       \\\\\n      1-3       &       3-2       &      -12.6667     &      1.0       &    -261.495    &    236.1617    &      False       \\\\\n      1-3       &       3-3       &      -13.3333     &      1.0       &   -262.1617    &    235.495     &      False       \\\\\n      1-3       &       4-1       &        30.0       &      1.0       &   -218.8283    &    278.8283    &      False       \\\\\n      1-3       &       4-2       &      45.6667      &      1.0       &   -203.1617    &    294.495     &      False       \\\\\n      1-3       &       4-3       &     -239.3333     &     0.0688     &   -488.1617    &     9.495      &      False       \\\\\n      1-3       &       5-1       &       -29.0       &      1.0       &   -277.8283    &    219.8283    &      False       \\\\\n      1-3       &       5-2       &       4.3333      &      1.0       &    -244.495    &    253.1617    &      False       \\\\\n      1-3       &       5-3       &     -299.3333     &     0.0079     &   -548.1617    &    -50.505     &       True       \\\\\n      2-1       &       2-2       &      -11.3333     &      1.0       &   -260.1617    &    237.495     &      False       \\\\\n      2-1       &       2-3       &       -36.0       &      1.0       &   -284.8283    &    212.8283    &      False       \\\\\n      2-1       &       3-1       &      -69.6667     &     0.999      &    -318.495    &    179.1617    &      False       \\\\\n      2-1       &       3-2       &       -54.0       &     0.9999     &   -302.8283    &    194.8283    &      False       \\\\\n      2-1       &       3-3       &      -54.6667     &     0.9999     &    -303.495    &    194.1617    &      False       \\\\\n      2-1       &       4-1       &      -11.3333     &      1.0       &   -260.1617    &    237.495     &      False       \\\\\n      2-1       &       4-2       &       4.3333      &      1.0       &    -244.495    &    253.1617    &      False       \\\\\n      2-1       &       4-3       &     -280.6667     &     0.016      &    -529.495    &    -31.8383    &       True       \\\\\n      2-1       &       5-1       &      -70.3333     &     0.9989     &   -319.1617    &    178.495     &      False       \\\\\n      2-1       &       5-2       &       -37.0       &      1.0       &   -285.8283    &    211.8283    &      False       \\\\\n      2-1       &       5-3       &     -340.6667     &     0.0016     &    -589.495    &    -91.8383    &       True       \\\\\n      2-2       &       2-3       &      -24.6667     &      1.0       &    -273.495    &    224.1617    &      False       \\\\\n      2-2       &       3-1       &      -58.3333     &     0.9999     &   -307.1617    &    190.495     &      False       \\\\\n      2-2       &       3-2       &      -42.6667     &      1.0       &    -291.495    &    206.1617    &      False       \\\\\n      2-2       &       3-3       &      -43.3333     &      1.0       &   -292.1617    &    205.495     &      False       \\\\\n      2-2       &       4-1       &        0.0        &      1.0       &   -248.8283    &    248.8283    &      False       \\\\\n      2-2       &       4-2       &      15.6667      &      1.0       &   -233.1617    &    264.495     &      False       \\\\\n      2-2       &       4-3       &     -269.3333     &     0.0243     &   -518.1617    &    -20.505     &       True       \\\\\n      2-2       &       5-1       &       -59.0       &     0.9998     &   -307.8283    &    189.8283    &      False       \\\\\n      2-2       &       5-2       &      -25.6667     &      1.0       &    -274.495    &    223.1617    &      False       \\\\\n      2-2       &       5-3       &     -329.3333     &     0.0025     &   -578.1617    &    -80.505     &       True       \\\\\n      2-3       &       3-1       &      -33.6667     &      1.0       &    -282.495    &    215.1617    &      False       \\\\\n      2-3       &       3-2       &       -18.0       &      1.0       &   -266.8283    &    230.8283    &      False       \\\\\n      2-3       &       3-3       &      -18.6667     &      1.0       &    -267.495    &    230.1617    &      False       \\\\\n      2-3       &       4-1       &      24.6667      &      1.0       &   -224.1617    &    273.495     &      False       \\\\\n      2-3       &       4-2       &      40.3333      &      1.0       &    -208.495    &    289.1617    &      False       \\\\\n      2-3       &       4-3       &     -244.6667     &     0.0576     &    -493.495    &     4.1617     &      False       \\\\\n      2-3       &       5-1       &      -34.3333     &      1.0       &   -283.1617    &    214.495     &      False       \\\\\n      2-3       &       5-2       &        -1.0       &      1.0       &   -249.8283    &    247.8283    &      False       \\\\\n      2-3       &       5-3       &     -304.6667     &     0.0065     &    -553.495    &    -55.8383    &       True       \\\\\n      3-1       &       3-2       &      15.6667      &      1.0       &   -233.1617    &    264.495     &      False       \\\\\n      3-1       &       3-3       &        15.0       &      1.0       &   -233.8283    &    263.8283    &      False       \\\\\n      3-1       &       4-1       &      58.3333      &     0.9999     &    -190.495    &    307.1617    &      False       \\\\\n      3-1       &       4-2       &        74.0       &     0.9981     &   -174.8283    &    322.8283    &      False       \\\\\n      3-1       &       4-3       &       -211.0      &     0.166      &   -459.8283    &    37.8283     &      False       \\\\\n      3-1       &       5-1       &      -0.6667      &      1.0       &    -249.495    &    248.1617    &      False       \\\\\n      3-1       &       5-2       &      32.6667      &      1.0       &   -216.1617    &    281.495     &      False       \\\\\n      3-1       &       5-3       &       -271.0      &     0.0229     &   -519.8283    &    -22.1717    &       True       \\\\\n      3-2       &       3-3       &      -0.6667      &      1.0       &    -249.495    &    248.1617    &      False       \\\\\n      3-2       &       4-1       &      42.6667      &      1.0       &   -206.1617    &    291.495     &      False       \\\\\n      3-2       &       4-2       &      58.3333      &     0.9999     &    -190.495    &    307.1617    &      False       \\\\\n      3-2       &       4-3       &     -226.6667     &     0.1035     &    -475.495    &    22.1617     &      False       \\\\\n      3-2       &       5-1       &      -16.3333     &      1.0       &   -265.1617    &    232.495     &      False       \\\\\n      3-2       &       5-2       &        17.0       &      1.0       &   -231.8283    &    265.8283    &      False       \\\\\n      3-2       &       5-3       &     -286.6667     &     0.0128     &    -535.495    &    -37.8383    &       True       \\\\\n      3-3       &       4-1       &      43.3333      &      1.0       &    -205.495    &    292.1617    &      False       \\\\\n      3-3       &       4-2       &        59.0       &     0.9998     &   -189.8283    &    307.8283    &      False       \\\\\n      3-3       &       4-3       &       -226.0      &     0.1057     &   -474.8283    &    22.8283     &      False       \\\\\n      3-3       &       5-1       &      -15.6667     &      1.0       &    -264.495    &    233.1617    &      False       \\\\\n      3-3       &       5-2       &      17.6667      &      1.0       &   -231.1617    &    266.495     &      False       \\\\\n      3-3       &       5-3       &       -286.0      &     0.0131     &   -534.8283    &    -37.1717    &       True       \\\\\n      4-1       &       4-2       &      15.6667      &      1.0       &   -233.1617    &    264.495     &      False       \\\\\n      4-1       &       4-3       &     -269.3333     &     0.0243     &   -518.1617    &    -20.505     &       True       \\\\\n      4-1       &       5-1       &       -59.0       &     0.9998     &   -307.8283    &    189.8283    &      False       \\\\\n      4-1       &       5-2       &      -25.6667     &      1.0       &    -274.495    &    223.1617    &      False       \\\\\n      4-1       &       5-3       &     -329.3333     &     0.0025     &   -578.1617    &    -80.505     &       True       \\\\\n      4-2       &       4-3       &       -285.0      &     0.0137     &   -533.8283    &    -36.1717    &       True       \\\\\n      4-2       &       5-1       &      -74.6667     &     0.9979     &    -323.495    &    174.1617    &      False       \\\\\n      4-2       &       5-2       &      -41.3333     &      1.0       &   -290.1617    &    207.495     &      False       \\\\\n      4-2       &       5-3       &       -345.0      &     0.0013     &   -593.8283    &    -96.1717    &       True       \\\\\n      4-3       &       5-1       &      210.3333     &     0.1692     &    -38.495     &    459.1617    &      False       \\\\\n      4-3       &       5-2       &      243.6667     &     0.0596     &    -5.1617     &    492.495     &      False       \\\\\n      4-3       &       5-3       &       -60.0       &     0.9998     &   -308.8283    &    188.8283    &      False       \\\\\n      5-1       &       5-2       &      33.3333      &      1.0       &    -215.495    &    282.1617    &      False       \\\\\n      5-1       &       5-3       &     -270.3333     &     0.0234     &   -519.1617    &    -21.505     &       True       \\\\\n      5-2       &       5-3       &     -303.6667     &     0.0067     &    -552.495    &    -54.8383    &       True       \\\\\n\\bottomrule\n\\end{tabular}\n%\\caption{Multiple Comparison of Means - Tukey HSD, FWER=0.05}\n\\end{center}"
          },
          "metadata": {},
          "execution_count": 82
        }
      ]
    },
    {
      "cell_type": "markdown",
      "source": [
        "Since p-value for few comparisons are less than your chosen significance level (0.05), we can reject the null hypothesis and conclude that those specific dentist-method combinations have significantly different interaction levels with hardness of implants"
      ],
      "metadata": {
        "id": "FSzW41YRzKqk"
      }
    },
    {
      "cell_type": "markdown",
      "source": [
        "##Alloy 2"
      ],
      "metadata": {
        "id": "h6FEw93rrBYb"
      }
    },
    {
      "cell_type": "code",
      "source": [
        "from statsmodels.formula.api import ols\n",
        "import statsmodels.api as sm\n",
        "from statsmodels.stats.anova import anova_lm\n"
      ],
      "metadata": {
        "id": "u5Ru4oh-rBYj"
      },
      "execution_count": null,
      "outputs": []
    },
    {
      "cell_type": "code",
      "source": [
        "df1=df[df['Alloy']==2]"
      ],
      "metadata": {
        "id": "52aeCQ9GrBYk"
      },
      "execution_count": 83,
      "outputs": []
    },
    {
      "cell_type": "markdown",
      "source": [
        "### Let's write the null and alternative hypothesis\n",
        "\n",
        "\n",
        "\n",
        "We will test the null hypothesis\n",
        "\n",
        ">$H_0: $ There is no interaction effect between dentists and methods on the hardness of implants.\n",
        "\n",
        "against the alternative hypothesis\n",
        "\n",
        ">$H_a: $ There is an interaction effect between dentists and methods on the hardness of implants."
      ],
      "metadata": {
        "id": "BZx3joyLrBYk"
      }
    },
    {
      "cell_type": "markdown",
      "source": [
        "Now, the normality and equality of variance assumptions need to be checked.\n",
        "\n",
        "* For testing of normality, Shapiro-Wilk’s test is applied to the response variable.\n",
        "\n",
        "* For equality of variance, Levene test is applied to the response variable."
      ],
      "metadata": {
        "id": "tYYs9URArBYk"
      }
    },
    {
      "cell_type": "markdown",
      "source": [
        "### Shapiro-Wilk’s test\n",
        "\n",
        "We will test the null hypothesis\n",
        "\n",
        ">$H_0:$ The residuals (error terms) from the two-way ANOVA model are normally distributed in the population.\n",
        "\n",
        "against the alternative hypothesis\n",
        "\n",
        ">$H_a:$ The residuals (error terms) from the two-way ANOVA model are not normally distributed in the population."
      ],
      "metadata": {
        "id": "QRC9Qqz5rBYk"
      }
    },
    {
      "cell_type": "code",
      "source": [
        "model = ols('Response ~ Dentist + Method + Dentist:Method', data=df1).fit()\n"
      ],
      "metadata": {
        "id": "25Bs9wC0rBYk"
      },
      "execution_count": 84,
      "outputs": []
    },
    {
      "cell_type": "code",
      "source": [
        "residuals = model.resid\n",
        "\n",
        "shapiro_test = stats.shapiro(residuals)\n",
        "print(\"Shapiro-Wilk test p-value:\", shapiro_test.pvalue)"
      ],
      "metadata": {
        "colab": {
          "base_uri": "https://localhost:8080/"
        },
        "outputId": "bf7f2d49-e562-45dd-f3fd-05aa96b35953",
        "id": "6P2N7RfErBYk"
      },
      "execution_count": 85,
      "outputs": [
        {
          "output_type": "stream",
          "name": "stdout",
          "text": [
            "Shapiro-Wilk test p-value: 0.48563408851623535\n"
          ]
        }
      ]
    },
    {
      "cell_type": "markdown",
      "source": [
        "As the p-value is larger than the level of significance - 0.05, we fail to reject the null hypothesis. Hence the residuals (error terms) from the two-way ANOVA model are normally distributed in the population."
      ],
      "metadata": {
        "id": "yf05ZuXKrBYl"
      }
    },
    {
      "cell_type": "markdown",
      "source": [
        "### Levene’s test\n",
        "\n",
        "We will test the null hypothesis\n",
        "\n",
        ">$H_0$: All the population variances are equal across groups formed by combination of Dentist and Method.\n",
        "\n",
        "against the alternative hypothesis\n",
        "\n",
        ">$H_a$: At least one variance is different from the rest of all groups"
      ],
      "metadata": {
        "id": "5d1Vu6xcrBYl"
      }
    },
    {
      "cell_type": "code",
      "source": [
        "groups = [group[\"Response\"].values for name, group in df1.groupby([\"Dentist\", \"Method\"])]\n",
        "levene_test = levene(*groups)\n",
        "levene_p_value = levene_test.pvalue"
      ],
      "metadata": {
        "id": "Yd4R6o09rBYl"
      },
      "execution_count": null,
      "outputs": []
    },
    {
      "cell_type": "code",
      "source": [
        "print(\"Levene test p-value:\", levene_p_value)"
      ],
      "metadata": {
        "colab": {
          "base_uri": "https://localhost:8080/"
        },
        "outputId": "52dcee5c-c688-4b6e-c876-0fe2eb65b96c",
        "id": "ZOPOf8n1rBYl"
      },
      "execution_count": null,
      "outputs": [
        {
          "output_type": "stream",
          "name": "stdout",
          "text": [
            "Levene test p-value: 0.7831735515657826\n"
          ]
        }
      ]
    },
    {
      "cell_type": "markdown",
      "source": [
        "As the p-value is larger than the level of significance - 0.05, we fail to reject the null hypothesis. Hence the population variances are equal across groups formed by combination of Dentist and Method."
      ],
      "metadata": {
        "id": "y8wqC7rrrBYl"
      }
    },
    {
      "cell_type": "markdown",
      "source": [
        "###Two-Way ANOVA Test"
      ],
      "metadata": {
        "id": "phYYrIk0rBYl"
      }
    },
    {
      "cell_type": "markdown",
      "source": [
        "### Let's find the p-value"
      ],
      "metadata": {
        "id": "-z6JtTJzrBYl"
      }
    },
    {
      "cell_type": "code",
      "source": [
        "\n",
        "model = ols('Response ~ Dentist * Method', data=df1).fit()\n",
        "anova_results = anova_lm(model, typ=2)"
      ],
      "metadata": {
        "id": "QhsXqP_XrBYl"
      },
      "execution_count": null,
      "outputs": []
    },
    {
      "cell_type": "code",
      "source": [
        "anova_results"
      ],
      "metadata": {
        "colab": {
          "base_uri": "https://localhost:8080/",
          "height": 175
        },
        "outputId": "e9d180c0-d375-409f-d158-ed7919be54cd",
        "id": "uRCP-7G0rBYl"
      },
      "execution_count": null,
      "outputs": [
        {
          "output_type": "execute_result",
          "data": {
            "text/plain": [
              "                   sum_sq     df      F  PR(>F)\n",
              "Dentist         54513.611  1.000  3.164   0.083\n",
              "Method         326980.800  1.000 18.978   0.000\n",
              "Dentist:Method  51100.017  1.000  2.966   0.093\n",
              "Residual       706408.372 41.000    NaN     NaN"
            ],
            "text/html": [
              "\n",
              "  <div id=\"df-4882d401-91fd-4d4a-9ab2-66d97b04afd0\" class=\"colab-df-container\">\n",
              "    <div>\n",
              "<style scoped>\n",
              "    .dataframe tbody tr th:only-of-type {\n",
              "        vertical-align: middle;\n",
              "    }\n",
              "\n",
              "    .dataframe tbody tr th {\n",
              "        vertical-align: top;\n",
              "    }\n",
              "\n",
              "    .dataframe thead th {\n",
              "        text-align: right;\n",
              "    }\n",
              "</style>\n",
              "<table border=\"1\" class=\"dataframe\">\n",
              "  <thead>\n",
              "    <tr style=\"text-align: right;\">\n",
              "      <th></th>\n",
              "      <th>sum_sq</th>\n",
              "      <th>df</th>\n",
              "      <th>F</th>\n",
              "      <th>PR(&gt;F)</th>\n",
              "    </tr>\n",
              "  </thead>\n",
              "  <tbody>\n",
              "    <tr>\n",
              "      <th>Dentist</th>\n",
              "      <td>54513.611</td>\n",
              "      <td>1.000</td>\n",
              "      <td>3.164</td>\n",
              "      <td>0.083</td>\n",
              "    </tr>\n",
              "    <tr>\n",
              "      <th>Method</th>\n",
              "      <td>326980.800</td>\n",
              "      <td>1.000</td>\n",
              "      <td>18.978</td>\n",
              "      <td>0.000</td>\n",
              "    </tr>\n",
              "    <tr>\n",
              "      <th>Dentist:Method</th>\n",
              "      <td>51100.017</td>\n",
              "      <td>1.000</td>\n",
              "      <td>2.966</td>\n",
              "      <td>0.093</td>\n",
              "    </tr>\n",
              "    <tr>\n",
              "      <th>Residual</th>\n",
              "      <td>706408.372</td>\n",
              "      <td>41.000</td>\n",
              "      <td>NaN</td>\n",
              "      <td>NaN</td>\n",
              "    </tr>\n",
              "  </tbody>\n",
              "</table>\n",
              "</div>\n",
              "    <div class=\"colab-df-buttons\">\n",
              "\n",
              "  <div class=\"colab-df-container\">\n",
              "    <button class=\"colab-df-convert\" onclick=\"convertToInteractive('df-4882d401-91fd-4d4a-9ab2-66d97b04afd0')\"\n",
              "            title=\"Convert this dataframe to an interactive table.\"\n",
              "            style=\"display:none;\">\n",
              "\n",
              "  <svg xmlns=\"http://www.w3.org/2000/svg\" height=\"24px\" viewBox=\"0 -960 960 960\">\n",
              "    <path d=\"M120-120v-720h720v720H120Zm60-500h600v-160H180v160Zm220 220h160v-160H400v160Zm0 220h160v-160H400v160ZM180-400h160v-160H180v160Zm440 0h160v-160H620v160ZM180-180h160v-160H180v160Zm440 0h160v-160H620v160Z\"/>\n",
              "  </svg>\n",
              "    </button>\n",
              "\n",
              "  <style>\n",
              "    .colab-df-container {\n",
              "      display:flex;\n",
              "      gap: 12px;\n",
              "    }\n",
              "\n",
              "    .colab-df-convert {\n",
              "      background-color: #E8F0FE;\n",
              "      border: none;\n",
              "      border-radius: 50%;\n",
              "      cursor: pointer;\n",
              "      display: none;\n",
              "      fill: #1967D2;\n",
              "      height: 32px;\n",
              "      padding: 0 0 0 0;\n",
              "      width: 32px;\n",
              "    }\n",
              "\n",
              "    .colab-df-convert:hover {\n",
              "      background-color: #E2EBFA;\n",
              "      box-shadow: 0px 1px 2px rgba(60, 64, 67, 0.3), 0px 1px 3px 1px rgba(60, 64, 67, 0.15);\n",
              "      fill: #174EA6;\n",
              "    }\n",
              "\n",
              "    .colab-df-buttons div {\n",
              "      margin-bottom: 4px;\n",
              "    }\n",
              "\n",
              "    [theme=dark] .colab-df-convert {\n",
              "      background-color: #3B4455;\n",
              "      fill: #D2E3FC;\n",
              "    }\n",
              "\n",
              "    [theme=dark] .colab-df-convert:hover {\n",
              "      background-color: #434B5C;\n",
              "      box-shadow: 0px 1px 3px 1px rgba(0, 0, 0, 0.15);\n",
              "      filter: drop-shadow(0px 1px 2px rgba(0, 0, 0, 0.3));\n",
              "      fill: #FFFFFF;\n",
              "    }\n",
              "  </style>\n",
              "\n",
              "    <script>\n",
              "      const buttonEl =\n",
              "        document.querySelector('#df-4882d401-91fd-4d4a-9ab2-66d97b04afd0 button.colab-df-convert');\n",
              "      buttonEl.style.display =\n",
              "        google.colab.kernel.accessAllowed ? 'block' : 'none';\n",
              "\n",
              "      async function convertToInteractive(key) {\n",
              "        const element = document.querySelector('#df-4882d401-91fd-4d4a-9ab2-66d97b04afd0');\n",
              "        const dataTable =\n",
              "          await google.colab.kernel.invokeFunction('convertToInteractive',\n",
              "                                                    [key], {});\n",
              "        if (!dataTable) return;\n",
              "\n",
              "        const docLinkHtml = 'Like what you see? Visit the ' +\n",
              "          '<a target=\"_blank\" href=https://colab.research.google.com/notebooks/data_table.ipynb>data table notebook</a>'\n",
              "          + ' to learn more about interactive tables.';\n",
              "        element.innerHTML = '';\n",
              "        dataTable['output_type'] = 'display_data';\n",
              "        await google.colab.output.renderOutput(dataTable, element);\n",
              "        const docLink = document.createElement('div');\n",
              "        docLink.innerHTML = docLinkHtml;\n",
              "        element.appendChild(docLink);\n",
              "      }\n",
              "    </script>\n",
              "  </div>\n",
              "\n",
              "\n",
              "<div id=\"df-726a19f8-9c6f-4643-a1b7-07d26c30db21\">\n",
              "  <button class=\"colab-df-quickchart\" onclick=\"quickchart('df-726a19f8-9c6f-4643-a1b7-07d26c30db21')\"\n",
              "            title=\"Suggest charts\"\n",
              "            style=\"display:none;\">\n",
              "\n",
              "<svg xmlns=\"http://www.w3.org/2000/svg\" height=\"24px\"viewBox=\"0 0 24 24\"\n",
              "     width=\"24px\">\n",
              "    <g>\n",
              "        <path d=\"M19 3H5c-1.1 0-2 .9-2 2v14c0 1.1.9 2 2 2h14c1.1 0 2-.9 2-2V5c0-1.1-.9-2-2-2zM9 17H7v-7h2v7zm4 0h-2V7h2v10zm4 0h-2v-4h2v4z\"/>\n",
              "    </g>\n",
              "</svg>\n",
              "  </button>\n",
              "\n",
              "<style>\n",
              "  .colab-df-quickchart {\n",
              "      --bg-color: #E8F0FE;\n",
              "      --fill-color: #1967D2;\n",
              "      --hover-bg-color: #E2EBFA;\n",
              "      --hover-fill-color: #174EA6;\n",
              "      --disabled-fill-color: #AAA;\n",
              "      --disabled-bg-color: #DDD;\n",
              "  }\n",
              "\n",
              "  [theme=dark] .colab-df-quickchart {\n",
              "      --bg-color: #3B4455;\n",
              "      --fill-color: #D2E3FC;\n",
              "      --hover-bg-color: #434B5C;\n",
              "      --hover-fill-color: #FFFFFF;\n",
              "      --disabled-bg-color: #3B4455;\n",
              "      --disabled-fill-color: #666;\n",
              "  }\n",
              "\n",
              "  .colab-df-quickchart {\n",
              "    background-color: var(--bg-color);\n",
              "    border: none;\n",
              "    border-radius: 50%;\n",
              "    cursor: pointer;\n",
              "    display: none;\n",
              "    fill: var(--fill-color);\n",
              "    height: 32px;\n",
              "    padding: 0;\n",
              "    width: 32px;\n",
              "  }\n",
              "\n",
              "  .colab-df-quickchart:hover {\n",
              "    background-color: var(--hover-bg-color);\n",
              "    box-shadow: 0 1px 2px rgba(60, 64, 67, 0.3), 0 1px 3px 1px rgba(60, 64, 67, 0.15);\n",
              "    fill: var(--button-hover-fill-color);\n",
              "  }\n",
              "\n",
              "  .colab-df-quickchart-complete:disabled,\n",
              "  .colab-df-quickchart-complete:disabled:hover {\n",
              "    background-color: var(--disabled-bg-color);\n",
              "    fill: var(--disabled-fill-color);\n",
              "    box-shadow: none;\n",
              "  }\n",
              "\n",
              "  .colab-df-spinner {\n",
              "    border: 2px solid var(--fill-color);\n",
              "    border-color: transparent;\n",
              "    border-bottom-color: var(--fill-color);\n",
              "    animation:\n",
              "      spin 1s steps(1) infinite;\n",
              "  }\n",
              "\n",
              "  @keyframes spin {\n",
              "    0% {\n",
              "      border-color: transparent;\n",
              "      border-bottom-color: var(--fill-color);\n",
              "      border-left-color: var(--fill-color);\n",
              "    }\n",
              "    20% {\n",
              "      border-color: transparent;\n",
              "      border-left-color: var(--fill-color);\n",
              "      border-top-color: var(--fill-color);\n",
              "    }\n",
              "    30% {\n",
              "      border-color: transparent;\n",
              "      border-left-color: var(--fill-color);\n",
              "      border-top-color: var(--fill-color);\n",
              "      border-right-color: var(--fill-color);\n",
              "    }\n",
              "    40% {\n",
              "      border-color: transparent;\n",
              "      border-right-color: var(--fill-color);\n",
              "      border-top-color: var(--fill-color);\n",
              "    }\n",
              "    60% {\n",
              "      border-color: transparent;\n",
              "      border-right-color: var(--fill-color);\n",
              "    }\n",
              "    80% {\n",
              "      border-color: transparent;\n",
              "      border-right-color: var(--fill-color);\n",
              "      border-bottom-color: var(--fill-color);\n",
              "    }\n",
              "    90% {\n",
              "      border-color: transparent;\n",
              "      border-bottom-color: var(--fill-color);\n",
              "    }\n",
              "  }\n",
              "</style>\n",
              "\n",
              "  <script>\n",
              "    async function quickchart(key) {\n",
              "      const quickchartButtonEl =\n",
              "        document.querySelector('#' + key + ' button');\n",
              "      quickchartButtonEl.disabled = true;  // To prevent multiple clicks.\n",
              "      quickchartButtonEl.classList.add('colab-df-spinner');\n",
              "      try {\n",
              "        const charts = await google.colab.kernel.invokeFunction(\n",
              "            'suggestCharts', [key], {});\n",
              "      } catch (error) {\n",
              "        console.error('Error during call to suggestCharts:', error);\n",
              "      }\n",
              "      quickchartButtonEl.classList.remove('colab-df-spinner');\n",
              "      quickchartButtonEl.classList.add('colab-df-quickchart-complete');\n",
              "    }\n",
              "    (() => {\n",
              "      let quickchartButtonEl =\n",
              "        document.querySelector('#df-726a19f8-9c6f-4643-a1b7-07d26c30db21 button');\n",
              "      quickchartButtonEl.style.display =\n",
              "        google.colab.kernel.accessAllowed ? 'block' : 'none';\n",
              "    })();\n",
              "  </script>\n",
              "</div>\n",
              "\n",
              "  <div id=\"id_77aa1659-d728-40bd-9c1e-f64efcdbfee0\">\n",
              "    <style>\n",
              "      .colab-df-generate {\n",
              "        background-color: #E8F0FE;\n",
              "        border: none;\n",
              "        border-radius: 50%;\n",
              "        cursor: pointer;\n",
              "        display: none;\n",
              "        fill: #1967D2;\n",
              "        height: 32px;\n",
              "        padding: 0 0 0 0;\n",
              "        width: 32px;\n",
              "      }\n",
              "\n",
              "      .colab-df-generate:hover {\n",
              "        background-color: #E2EBFA;\n",
              "        box-shadow: 0px 1px 2px rgba(60, 64, 67, 0.3), 0px 1px 3px 1px rgba(60, 64, 67, 0.15);\n",
              "        fill: #174EA6;\n",
              "      }\n",
              "\n",
              "      [theme=dark] .colab-df-generate {\n",
              "        background-color: #3B4455;\n",
              "        fill: #D2E3FC;\n",
              "      }\n",
              "\n",
              "      [theme=dark] .colab-df-generate:hover {\n",
              "        background-color: #434B5C;\n",
              "        box-shadow: 0px 1px 3px 1px rgba(0, 0, 0, 0.15);\n",
              "        filter: drop-shadow(0px 1px 2px rgba(0, 0, 0, 0.3));\n",
              "        fill: #FFFFFF;\n",
              "      }\n",
              "    </style>\n",
              "    <button class=\"colab-df-generate\" onclick=\"generateWithVariable('anova_results')\"\n",
              "            title=\"Generate code using this dataframe.\"\n",
              "            style=\"display:none;\">\n",
              "\n",
              "  <svg xmlns=\"http://www.w3.org/2000/svg\" height=\"24px\"viewBox=\"0 0 24 24\"\n",
              "       width=\"24px\">\n",
              "    <path d=\"M7,19H8.4L18.45,9,17,7.55,7,17.6ZM5,21V16.75L18.45,3.32a2,2,0,0,1,2.83,0l1.4,1.43a1.91,1.91,0,0,1,.58,1.4,1.91,1.91,0,0,1-.58,1.4L9.25,21ZM18.45,9,17,7.55Zm-12,3A5.31,5.31,0,0,0,4.9,8.1,5.31,5.31,0,0,0,1,6.5,5.31,5.31,0,0,0,4.9,4.9,5.31,5.31,0,0,0,6.5,1,5.31,5.31,0,0,0,8.1,4.9,5.31,5.31,0,0,0,12,6.5,5.46,5.46,0,0,0,6.5,12Z\"/>\n",
              "  </svg>\n",
              "    </button>\n",
              "    <script>\n",
              "      (() => {\n",
              "      const buttonEl =\n",
              "        document.querySelector('#id_77aa1659-d728-40bd-9c1e-f64efcdbfee0 button.colab-df-generate');\n",
              "      buttonEl.style.display =\n",
              "        google.colab.kernel.accessAllowed ? 'block' : 'none';\n",
              "\n",
              "      buttonEl.onclick = () => {\n",
              "        google.colab.notebook.generateWithVariable('anova_results');\n",
              "      }\n",
              "      })();\n",
              "    </script>\n",
              "  </div>\n",
              "\n",
              "    </div>\n",
              "  </div>\n"
            ],
            "application/vnd.google.colaboratory.intrinsic+json": {
              "type": "dataframe",
              "variable_name": "anova_results",
              "summary": "{\n  \"name\": \"anova_results\",\n  \"rows\": 4,\n  \"fields\": [\n    {\n      \"column\": \"sum_sq\",\n      \"properties\": {\n        \"dtype\": \"number\",\n        \"std\": 309397.44278841844,\n        \"min\": 51100.01666666762,\n        \"max\": 706408.3722222222,\n        \"num_unique_values\": 4,\n        \"samples\": [\n          326980.80000001134,\n          706408.3722222222,\n          54513.61111110935\n        ],\n        \"semantic_type\": \"\",\n        \"description\": \"\"\n      }\n    },\n    {\n      \"column\": \"df\",\n      \"properties\": {\n        \"dtype\": \"number\",\n        \"std\": 20.0,\n        \"min\": 1.0,\n        \"max\": 41.0,\n        \"num_unique_values\": 2,\n        \"samples\": [\n          41.0,\n          1.0\n        ],\n        \"semantic_type\": \"\",\n        \"description\": \"\"\n      }\n    },\n    {\n      \"column\": \"F\",\n      \"properties\": {\n        \"dtype\": \"number\",\n        \"std\": 9.187955474810618,\n        \"min\": 2.9658491684386425,\n        \"max\": 18.97799251419848,\n        \"num_unique_values\": 3,\n        \"samples\": [\n          3.1639744706371884,\n          18.97799251419848\n        ],\n        \"semantic_type\": \"\",\n        \"description\": \"\"\n      }\n    },\n    {\n      \"column\": \"PR(>F)\",\n      \"properties\": {\n        \"dtype\": \"number\",\n        \"std\": 0.05078771682846714,\n        \"min\": 8.636360293793874e-05,\n        \"max\": 0.09257693212691703,\n        \"num_unique_values\": 3,\n        \"samples\": [\n          0.0826950579433159,\n          8.636360293793874e-05\n        ],\n        \"semantic_type\": \"\",\n        \"description\": \"\"\n      }\n    }\n  ]\n}"
            }
          },
          "metadata": {},
          "execution_count": 242
        }
      ]
    },
    {
      "cell_type": "code",
      "source": [
        "p_value=anova_results['PR(>F)']['Dentist:Method']"
      ],
      "metadata": {
        "id": "gqJEVSLRrBYm"
      },
      "execution_count": null,
      "outputs": []
    },
    {
      "cell_type": "code",
      "source": [
        "print(\"p-value:\",p_value)"
      ],
      "metadata": {
        "colab": {
          "base_uri": "https://localhost:8080/"
        },
        "outputId": "7ff01b70-0d23-4704-dbaa-2dfc04d72372",
        "id": "wMCwN4BprBYm"
      },
      "execution_count": null,
      "outputs": [
        {
          "output_type": "stream",
          "name": "stdout",
          "text": [
            "p-value: 0.09257693212691703\n"
          ]
        }
      ]
    },
    {
      "cell_type": "markdown",
      "source": [
        "Since p-value is greater than the chosen significance level, we fail to reject the null hypothesis and conclude that there is no significant interaction effect between dentists and methods on the hardness of implants."
      ],
      "metadata": {
        "id": "bObpvcMnrBYm"
      }
    },
    {
      "cell_type": "code",
      "source": [],
      "metadata": {
        "id": "rco6yhC7oRl0"
      },
      "execution_count": null,
      "outputs": []
    }
  ]
}